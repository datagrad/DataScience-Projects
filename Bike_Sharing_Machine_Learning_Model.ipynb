{
  "nbformat": 4,
  "nbformat_minor": 0,
  "metadata": {
    "colab": {
      "name": "New File Bike Sharing.ipynb",
      "provenance": [],
      "collapsed_sections": [],
      "toc_visible": true,
      "authorship_tag": "ABX9TyNCLOPn/WXZ7Wpf3L8S7qO8",
      "include_colab_link": true
    },
    "kernelspec": {
      "name": "python3",
      "display_name": "Python 3"
    },
    "language_info": {
      "name": "python"
    }
  },
  "cells": [
    {
      "cell_type": "markdown",
      "metadata": {
        "id": "view-in-github",
        "colab_type": "text"
      },
      "source": [
        "<a href=\"https://colab.research.google.com/github/datagrad/DataScience-Projects/blob/main/Bike_Sharing_Machine_Learning_Model.ipynb\" target=\"_parent\"><img src=\"https://colab.research.google.com/assets/colab-badge.svg\" alt=\"Open In Colab\"/></a>"
      ]
    },
    {
      "cell_type": "markdown",
      "metadata": {
        "id": "4m_oOykWJzyP"
      },
      "source": [
        "# <span style=\"color:darkred\"><u><center> **Linear Regression -  Bike Sharing Assignment**\n"
      ]
    },
    {
      "cell_type": "markdown",
      "metadata": {
        "id": "GWd5cqaD_ROH"
      },
      "source": [
        "#Project Requirement and Artifacts"
      ]
    },
    {
      "cell_type": "markdown",
      "metadata": {
        "id": "aQ87bn_2-JA3"
      },
      "source": [
        "####**Bike-sharing Service**\n",
        "The bike-sharing system is a service in which bikes are made available for shared use to individuals on a short-term basis for a price or free.\n",
        "Many bike share systems allow people to borrow a bike from a computer-controlled dock, where a user can enter the payment information for the system to unlock it. The user can further return the bike to any other computer-controlled dock belonging to the same system.\n"
      ]
    },
    {
      "cell_type": "markdown",
      "metadata": {
        "id": "wwTS6BDA-I1u"
      },
      "source": [
        "####**Case of BoomBikes**\n",
        "BoomBikes is a US-based bike-sharing provider. It has recently suffered considerable dips in its revenues due to the ongoing Corona pandemic and is finding it very difficult to sustain itself in the current market scenario.\n",
        "They have decided to align their future business with a Machine Learning based model to recover from the current business scenario once lockdown ends. They aspire to understand the demand for shared bikes among the people after the quarantine situation ends.\n",
        "They have planned this to prepare themselves to cater to the people's needs once the situation gets better all around and stand out from other service providers and make huge profits.\n"
      ]
    },
    {
      "cell_type": "markdown",
      "metadata": {
        "id": "Kn3ZclBT-Igy"
      },
      "source": [
        "\n",
        "####**Project Goal**\n",
        "With this project, we will try:\n",
        "1.\tTo understand the factors on which the demand for these shared bikes depends.\n",
        "2.\tTo identify the variables that are significant in predicting the demand for shared bikes.\n",
        "3.\tTo understand how well a variable describes the bike demands if a Variable is significant."
      ]
    },
    {
      "cell_type": "markdown",
      "metadata": {
        "id": "k3BK-4t1-Sh-"
      },
      "source": [
        "####**Business Goal:**\n",
        "With this Machine Learning project, we will try to model the demand for shared bikes with the available independent variables.\n",
        "\n",
        "This model can be used by the management to understand how exactly the demands vary with different features. They can accordingly manipulate the business strategy to meet the demand levels and meet the customer's expectations.\n",
        "Further, the model will be a good way for management to understand the demand dynamics of a new market. \n"
      ]
    },
    {
      "cell_type": "markdown",
      "metadata": {
        "id": "C2xHq-dAu3G0"
      },
      "source": [
        "# Subjective Questions\n",
        "1. Anscombe’s quartet\n",
        "\n",
        "https://www.youtube.com/watch?v=Kd--Q-aTwpM\n",
        "\n",
        "2. Pearson’s R?\n",
        "\n",
        "https://www.youtube.com/watch?v=2B_UW-RweSE&t=177s\n",
        "\n",
        "\n",
        "3. You might have observed that sometimes the value of VIF is infinite. Why does this happen?\n",
        "\n",
        "An infinite VIF value indicates that the corresponding variable may be expressed exactly by a linear combination of other variables (which show an infinite VIF as well).\n",
        "\n",
        "\n",
        "4. What is a Q-Q plot? Explain the use and importance of a Q-Q plot in linear regression.\n",
        "\n",
        "https://www.statisticshowto.com/q-q-plots/#:~:text=The%20purpose%20of%20Q%20Q%20plots,fall%20on%20that%20reference%20line.&text=It's%20being%20compared%20to%20a,data%20on%20the%20y%2Daxis.\n",
        "\n",
        "https://medium.com/@premal.matalia/q-q-plot-in-linear-regression-explained-ab040567d86f"
      ]
    },
    {
      "cell_type": "markdown",
      "metadata": {
        "id": "R71tQ4DH0ZZe"
      },
      "source": [
        "#Steps & Details\n",
        "\n",
        "1.   Import Libraries\n",
        "2.   Read, Understand and Basic Manipulation of the Data\n",
        "      *   Read\n",
        "      *   Shape\n",
        "      *   Info (Data Type, Null Values)\n",
        "      *   Describe to check consistency of Data\n",
        "      *   Check the Unique values, and count to understand the data type \n",
        "\n",
        "3.   Data Visualization to check correlation (#Delete Confused if required for each variables )\n",
        "      *   Univariate for Numerical Data: dist plot\n",
        "      *   Categorical Data: Box Plot\n",
        "      Collinearity\n",
        "      *   Numerical Data : sns plot\n",
        "      *   Categorical Data: \n",
        "\n",
        "4.   Data Preparation\n",
        "      *   If Categorical data is in Numerical terms\n",
        "      *   Change and re-check if it is in correct Binary form \n",
        "\n",
        "5.   Split the data into Train and Test \n",
        "      *   Split\n",
        "      *   Verify the shape\n",
        "\n",
        "6.   Rescaling the Features\n",
        "      *   Re-scale the Numerical Variables\n",
        "      *   Plot the Heatmap to check correlation of Dependent Vs Independent Variables\n",
        "\n",
        "7.   Model Building\n",
        "      *   Divide training data into Y_train (target Variable) & X-train (Predicter Variables)\n",
        "      *   pick one from X- set and create Linear regression model \n",
        "        *   check P value (better if near zero)\n",
        "        *   check Adj. R-square value (better if near 1)\n",
        "      *   Add one by one from X- set and create Linear regression model \n",
        "        *   check P value (better if near zero)\n",
        "        *   check Adj. R-square value (better if near 1)\n",
        "      *   All Added\n",
        "        *   \tNotice the variables with higher value of p, they are insignificant\n",
        "\n",
        "      *   Time for elimination:\n",
        "\n",
        "        *   Check the VIF Value (VIF>5 is insignificant)\n",
        "        *   identify the variable with hight VIF and P Value\n",
        "\tdrop that\n",
        "        *   check Adj. R-square value\n",
        "\tdo it one by one till all the variables are significant\n",
        "\n",
        "      *   Method 2\n",
        "\n",
        "\n",
        "8.   Residual Analysis\n",
        "\n",
        "      *   Read\n",
        "      *   Shape\n",
        "9.   Insights and Predictions\n",
        "      *   Read\n",
        "      *   Shape\n",
        "\n",
        "\n",
        "10.  Determine the R2_score with sklearn\n",
        "\n"
      ]
    },
    {
      "cell_type": "markdown",
      "metadata": {
        "id": "y0sw_9SNJzyQ"
      },
      "source": [
        "# <span style=\"color:IndianRed ;\">1. Import all necessary libraries"
      ]
    },
    {
      "cell_type": "code",
      "metadata": {
        "id": "zdZoLP8IKkwb"
      },
      "source": [
        "#import warnings\n",
        "import warnings\n",
        "warnings.filterwarnings('ignore')"
      ],
      "execution_count": 1,
      "outputs": []
    },
    {
      "cell_type": "code",
      "metadata": {
        "id": "9FczvUO0JzyR"
      },
      "source": [
        "#Import libraries\n",
        "import numpy as np\n",
        "import pandas as pd\n",
        "\n",
        "import matplotlib.pyplot as plt\n",
        "import seaborn as sns"
      ],
      "execution_count": 2,
      "outputs": []
    },
    {
      "cell_type": "code",
      "metadata": {
        "id": "bdKLjYXToKh5"
      },
      "source": [
        "#import train test library from sklearn\n",
        "from sklearn.model_selection import train_test_split\n",
        "\n",
        "# Import minmax scaler\n",
        "from sklearn.preprocessing import MinMaxScaler\n",
        "\n",
        "#Import required libraries\n",
        "from sklearn.feature_selection import RFE\n",
        "from sklearn.linear_model import LinearRegression\n",
        "\n",
        "\n",
        "# Import the statsmodels library\n",
        "import statsmodels.api as sm  \n",
        "\n",
        "# Import statsmodels library for VIF\n",
        "from statsmodels.stats.outliers_influence import variance_inflation_factor\n"
      ],
      "execution_count": 3,
      "outputs": []
    },
    {
      "cell_type": "markdown",
      "metadata": {
        "id": "TVPe3FLc_waD"
      },
      "source": [
        "## Connect the data from Drive (To Be Deleted)"
      ]
    },
    {
      "cell_type": "code",
      "metadata": {
        "colab": {
          "base_uri": "https://localhost:8080/"
        },
        "id": "tm9c6ZSj_xHj",
        "outputId": "2f6bbee1-fe96-464b-f824-33acf017e034"
      },
      "source": [
        "from google.colab import drive\n",
        "drive.mount('/content/gdrive')"
      ],
      "execution_count": 4,
      "outputs": [
        {
          "output_type": "stream",
          "text": [
            "Drive already mounted at /content/gdrive; to attempt to forcibly remount, call drive.mount(\"/content/gdrive\", force_remount=True).\n"
          ],
          "name": "stdout"
        }
      ]
    },
    {
      "cell_type": "markdown",
      "metadata": {
        "id": "z_WZSt8xHjIC"
      },
      "source": [
        "# <span style=\"color:IndianRed ;\">2. Import, Read and Understand the Data"
      ]
    },
    {
      "cell_type": "markdown",
      "metadata": {
        "id": "mYXscG3WJzyS"
      },
      "source": [
        "####Import and Read the Data"
      ]
    },
    {
      "cell_type": "code",
      "metadata": {
        "id": "TUpDtEyuJzyS",
        "colab": {
          "base_uri": "https://localhost:8080/",
          "height": 287
        },
        "outputId": "819cfde8-81a1-42a3-e6bc-fc7f9a93eee1"
      },
      "source": [
        "# Read teh CSV data file\n",
        "bikedata = pd.read_csv(\"/content/gdrive/My Drive/day.csv\")\n",
        "#bikedata = pd.read_csv(\"day.csv\")   for jupyter\n",
        "\n",
        "bikedata.head()"
      ],
      "execution_count": 5,
      "outputs": [
        {
          "output_type": "execute_result",
          "data": {
            "text/html": [
              "<div>\n",
              "<style scoped>\n",
              "    .dataframe tbody tr th:only-of-type {\n",
              "        vertical-align: middle;\n",
              "    }\n",
              "\n",
              "    .dataframe tbody tr th {\n",
              "        vertical-align: top;\n",
              "    }\n",
              "\n",
              "    .dataframe thead th {\n",
              "        text-align: right;\n",
              "    }\n",
              "</style>\n",
              "<table border=\"1\" class=\"dataframe\">\n",
              "  <thead>\n",
              "    <tr style=\"text-align: right;\">\n",
              "      <th></th>\n",
              "      <th>instant</th>\n",
              "      <th>dteday</th>\n",
              "      <th>season</th>\n",
              "      <th>yr</th>\n",
              "      <th>mnth</th>\n",
              "      <th>holiday</th>\n",
              "      <th>weekday</th>\n",
              "      <th>workingday</th>\n",
              "      <th>weathersit</th>\n",
              "      <th>temp</th>\n",
              "      <th>atemp</th>\n",
              "      <th>hum</th>\n",
              "      <th>windspeed</th>\n",
              "      <th>casual</th>\n",
              "      <th>registered</th>\n",
              "      <th>cnt</th>\n",
              "    </tr>\n",
              "  </thead>\n",
              "  <tbody>\n",
              "    <tr>\n",
              "      <th>0</th>\n",
              "      <td>1</td>\n",
              "      <td>01-01-2018</td>\n",
              "      <td>1</td>\n",
              "      <td>0</td>\n",
              "      <td>1</td>\n",
              "      <td>0</td>\n",
              "      <td>1</td>\n",
              "      <td>1</td>\n",
              "      <td>2</td>\n",
              "      <td>14.110847</td>\n",
              "      <td>18.18125</td>\n",
              "      <td>80.5833</td>\n",
              "      <td>10.749882</td>\n",
              "      <td>331</td>\n",
              "      <td>654</td>\n",
              "      <td>985</td>\n",
              "    </tr>\n",
              "    <tr>\n",
              "      <th>1</th>\n",
              "      <td>2</td>\n",
              "      <td>02-01-2018</td>\n",
              "      <td>1</td>\n",
              "      <td>0</td>\n",
              "      <td>1</td>\n",
              "      <td>0</td>\n",
              "      <td>2</td>\n",
              "      <td>1</td>\n",
              "      <td>2</td>\n",
              "      <td>14.902598</td>\n",
              "      <td>17.68695</td>\n",
              "      <td>69.6087</td>\n",
              "      <td>16.652113</td>\n",
              "      <td>131</td>\n",
              "      <td>670</td>\n",
              "      <td>801</td>\n",
              "    </tr>\n",
              "    <tr>\n",
              "      <th>2</th>\n",
              "      <td>3</td>\n",
              "      <td>03-01-2018</td>\n",
              "      <td>1</td>\n",
              "      <td>0</td>\n",
              "      <td>1</td>\n",
              "      <td>0</td>\n",
              "      <td>3</td>\n",
              "      <td>1</td>\n",
              "      <td>1</td>\n",
              "      <td>8.050924</td>\n",
              "      <td>9.47025</td>\n",
              "      <td>43.7273</td>\n",
              "      <td>16.636703</td>\n",
              "      <td>120</td>\n",
              "      <td>1229</td>\n",
              "      <td>1349</td>\n",
              "    </tr>\n",
              "    <tr>\n",
              "      <th>3</th>\n",
              "      <td>4</td>\n",
              "      <td>04-01-2018</td>\n",
              "      <td>1</td>\n",
              "      <td>0</td>\n",
              "      <td>1</td>\n",
              "      <td>0</td>\n",
              "      <td>4</td>\n",
              "      <td>1</td>\n",
              "      <td>1</td>\n",
              "      <td>8.200000</td>\n",
              "      <td>10.60610</td>\n",
              "      <td>59.0435</td>\n",
              "      <td>10.739832</td>\n",
              "      <td>108</td>\n",
              "      <td>1454</td>\n",
              "      <td>1562</td>\n",
              "    </tr>\n",
              "    <tr>\n",
              "      <th>4</th>\n",
              "      <td>5</td>\n",
              "      <td>05-01-2018</td>\n",
              "      <td>1</td>\n",
              "      <td>0</td>\n",
              "      <td>1</td>\n",
              "      <td>0</td>\n",
              "      <td>5</td>\n",
              "      <td>1</td>\n",
              "      <td>1</td>\n",
              "      <td>9.305237</td>\n",
              "      <td>11.46350</td>\n",
              "      <td>43.6957</td>\n",
              "      <td>12.522300</td>\n",
              "      <td>82</td>\n",
              "      <td>1518</td>\n",
              "      <td>1600</td>\n",
              "    </tr>\n",
              "  </tbody>\n",
              "</table>\n",
              "</div>"
            ],
            "text/plain": [
              "   instant      dteday  season  yr  ...  windspeed  casual  registered   cnt\n",
              "0        1  01-01-2018       1   0  ...  10.749882     331         654   985\n",
              "1        2  02-01-2018       1   0  ...  16.652113     131         670   801\n",
              "2        3  03-01-2018       1   0  ...  16.636703     120        1229  1349\n",
              "3        4  04-01-2018       1   0  ...  10.739832     108        1454  1562\n",
              "4        5  05-01-2018       1   0  ...  12.522300      82        1518  1600\n",
              "\n",
              "[5 rows x 16 columns]"
            ]
          },
          "metadata": {
            "tags": []
          },
          "execution_count": 5
        }
      ]
    },
    {
      "cell_type": "markdown",
      "metadata": {
        "id": "rOa4Tr3dT1RL"
      },
      "source": [
        "####Inspect the various aspects of the dataframe"
      ]
    },
    {
      "cell_type": "code",
      "metadata": {
        "id": "ZFmEufi1JzyU",
        "colab": {
          "base_uri": "https://localhost:8080/"
        },
        "outputId": "d9665809-9923-4f77-e10c-f79f162f4650"
      },
      "source": [
        "bikedata.shape"
      ],
      "execution_count": 6,
      "outputs": [
        {
          "output_type": "execute_result",
          "data": {
            "text/plain": [
              "(730, 16)"
            ]
          },
          "metadata": {
            "tags": []
          },
          "execution_count": 6
        }
      ]
    },
    {
      "cell_type": "markdown",
      "metadata": {
        "id": "3wL_DfP6NAQp"
      },
      "source": [
        "There are 730 rows and 16 columns in dataset"
      ]
    },
    {
      "cell_type": "markdown",
      "metadata": {
        "id": "1lrJzlppNqsG"
      },
      "source": [
        "####Info"
      ]
    },
    {
      "cell_type": "code",
      "metadata": {
        "scrolled": true,
        "id": "UwWIyhQAJzyV",
        "colab": {
          "base_uri": "https://localhost:8080/"
        },
        "outputId": "1237663a-f9f0-49f5-b3e1-cb1f6e09975e"
      },
      "source": [
        "bikedata.info()"
      ],
      "execution_count": 7,
      "outputs": [
        {
          "output_type": "stream",
          "text": [
            "<class 'pandas.core.frame.DataFrame'>\n",
            "RangeIndex: 730 entries, 0 to 729\n",
            "Data columns (total 16 columns):\n",
            " #   Column      Non-Null Count  Dtype  \n",
            "---  ------      --------------  -----  \n",
            " 0   instant     730 non-null    int64  \n",
            " 1   dteday      730 non-null    object \n",
            " 2   season      730 non-null    int64  \n",
            " 3   yr          730 non-null    int64  \n",
            " 4   mnth        730 non-null    int64  \n",
            " 5   holiday     730 non-null    int64  \n",
            " 6   weekday     730 non-null    int64  \n",
            " 7   workingday  730 non-null    int64  \n",
            " 8   weathersit  730 non-null    int64  \n",
            " 9   temp        730 non-null    float64\n",
            " 10  atemp       730 non-null    float64\n",
            " 11  hum         730 non-null    float64\n",
            " 12  windspeed   730 non-null    float64\n",
            " 13  casual      730 non-null    int64  \n",
            " 14  registered  730 non-null    int64  \n",
            " 15  cnt         730 non-null    int64  \n",
            "dtypes: float64(4), int64(11), object(1)\n",
            "memory usage: 91.4+ KB\n"
          ],
          "name": "stdout"
        }
      ]
    },
    {
      "cell_type": "markdown",
      "metadata": {
        "id": "XuUcf-DBO9Yk"
      },
      "source": [
        "####Unique Counts in each column"
      ]
    },
    {
      "cell_type": "code",
      "metadata": {
        "colab": {
          "base_uri": "https://localhost:8080/"
        },
        "id": "votFRDySN1mM",
        "outputId": "fd8a6734-a706-49ab-b072-a8dad2fca40b"
      },
      "source": [
        "#Unique Values to identify variable type\n",
        "bikedata.nunique().sort_values()"
      ],
      "execution_count": 8,
      "outputs": [
        {
          "output_type": "execute_result",
          "data": {
            "text/plain": [
              "yr              2\n",
              "holiday         2\n",
              "workingday      2\n",
              "weathersit      3\n",
              "season          4\n",
              "weekday         7\n",
              "mnth           12\n",
              "temp          498\n",
              "hum           594\n",
              "casual        605\n",
              "windspeed     649\n",
              "registered    678\n",
              "atemp         689\n",
              "cnt           695\n",
              "instant       730\n",
              "dteday        730\n",
              "dtype: int64"
            ]
          },
          "metadata": {
            "tags": []
          },
          "execution_count": 8
        }
      ]
    },
    {
      "cell_type": "markdown",
      "metadata": {
        "id": "mlZF01jORe3q"
      },
      "source": [
        "####Describe the data"
      ]
    },
    {
      "cell_type": "code",
      "metadata": {
        "id": "ah_qeblBJzyW",
        "colab": {
          "base_uri": "https://localhost:8080/",
          "height": 315
        },
        "outputId": "46968a36-63c0-48e4-dbe2-499913a55a09"
      },
      "source": [
        "bikedata.describe()"
      ],
      "execution_count": 9,
      "outputs": [
        {
          "output_type": "execute_result",
          "data": {
            "text/html": [
              "<div>\n",
              "<style scoped>\n",
              "    .dataframe tbody tr th:only-of-type {\n",
              "        vertical-align: middle;\n",
              "    }\n",
              "\n",
              "    .dataframe tbody tr th {\n",
              "        vertical-align: top;\n",
              "    }\n",
              "\n",
              "    .dataframe thead th {\n",
              "        text-align: right;\n",
              "    }\n",
              "</style>\n",
              "<table border=\"1\" class=\"dataframe\">\n",
              "  <thead>\n",
              "    <tr style=\"text-align: right;\">\n",
              "      <th></th>\n",
              "      <th>instant</th>\n",
              "      <th>season</th>\n",
              "      <th>yr</th>\n",
              "      <th>mnth</th>\n",
              "      <th>holiday</th>\n",
              "      <th>weekday</th>\n",
              "      <th>workingday</th>\n",
              "      <th>weathersit</th>\n",
              "      <th>temp</th>\n",
              "      <th>atemp</th>\n",
              "      <th>hum</th>\n",
              "      <th>windspeed</th>\n",
              "      <th>casual</th>\n",
              "      <th>registered</th>\n",
              "      <th>cnt</th>\n",
              "    </tr>\n",
              "  </thead>\n",
              "  <tbody>\n",
              "    <tr>\n",
              "      <th>count</th>\n",
              "      <td>730.000000</td>\n",
              "      <td>730.000000</td>\n",
              "      <td>730.000000</td>\n",
              "      <td>730.000000</td>\n",
              "      <td>730.000000</td>\n",
              "      <td>730.000000</td>\n",
              "      <td>730.000000</td>\n",
              "      <td>730.000000</td>\n",
              "      <td>730.000000</td>\n",
              "      <td>730.000000</td>\n",
              "      <td>730.000000</td>\n",
              "      <td>730.000000</td>\n",
              "      <td>730.000000</td>\n",
              "      <td>730.000000</td>\n",
              "      <td>730.000000</td>\n",
              "    </tr>\n",
              "    <tr>\n",
              "      <th>mean</th>\n",
              "      <td>365.500000</td>\n",
              "      <td>2.498630</td>\n",
              "      <td>0.500000</td>\n",
              "      <td>6.526027</td>\n",
              "      <td>0.028767</td>\n",
              "      <td>2.995890</td>\n",
              "      <td>0.690411</td>\n",
              "      <td>1.394521</td>\n",
              "      <td>20.319259</td>\n",
              "      <td>23.726322</td>\n",
              "      <td>62.765175</td>\n",
              "      <td>12.763620</td>\n",
              "      <td>849.249315</td>\n",
              "      <td>3658.757534</td>\n",
              "      <td>4508.006849</td>\n",
              "    </tr>\n",
              "    <tr>\n",
              "      <th>std</th>\n",
              "      <td>210.877136</td>\n",
              "      <td>1.110184</td>\n",
              "      <td>0.500343</td>\n",
              "      <td>3.450215</td>\n",
              "      <td>0.167266</td>\n",
              "      <td>2.000339</td>\n",
              "      <td>0.462641</td>\n",
              "      <td>0.544807</td>\n",
              "      <td>7.506729</td>\n",
              "      <td>8.150308</td>\n",
              "      <td>14.237589</td>\n",
              "      <td>5.195841</td>\n",
              "      <td>686.479875</td>\n",
              "      <td>1559.758728</td>\n",
              "      <td>1936.011647</td>\n",
              "    </tr>\n",
              "    <tr>\n",
              "      <th>min</th>\n",
              "      <td>1.000000</td>\n",
              "      <td>1.000000</td>\n",
              "      <td>0.000000</td>\n",
              "      <td>1.000000</td>\n",
              "      <td>0.000000</td>\n",
              "      <td>0.000000</td>\n",
              "      <td>0.000000</td>\n",
              "      <td>1.000000</td>\n",
              "      <td>2.424346</td>\n",
              "      <td>3.953480</td>\n",
              "      <td>0.000000</td>\n",
              "      <td>1.500244</td>\n",
              "      <td>2.000000</td>\n",
              "      <td>20.000000</td>\n",
              "      <td>22.000000</td>\n",
              "    </tr>\n",
              "    <tr>\n",
              "      <th>25%</th>\n",
              "      <td>183.250000</td>\n",
              "      <td>2.000000</td>\n",
              "      <td>0.000000</td>\n",
              "      <td>4.000000</td>\n",
              "      <td>0.000000</td>\n",
              "      <td>1.000000</td>\n",
              "      <td>0.000000</td>\n",
              "      <td>1.000000</td>\n",
              "      <td>13.811885</td>\n",
              "      <td>16.889713</td>\n",
              "      <td>52.000000</td>\n",
              "      <td>9.041650</td>\n",
              "      <td>316.250000</td>\n",
              "      <td>2502.250000</td>\n",
              "      <td>3169.750000</td>\n",
              "    </tr>\n",
              "    <tr>\n",
              "      <th>50%</th>\n",
              "      <td>365.500000</td>\n",
              "      <td>3.000000</td>\n",
              "      <td>0.500000</td>\n",
              "      <td>7.000000</td>\n",
              "      <td>0.000000</td>\n",
              "      <td>3.000000</td>\n",
              "      <td>1.000000</td>\n",
              "      <td>1.000000</td>\n",
              "      <td>20.465826</td>\n",
              "      <td>24.368225</td>\n",
              "      <td>62.625000</td>\n",
              "      <td>12.125325</td>\n",
              "      <td>717.000000</td>\n",
              "      <td>3664.500000</td>\n",
              "      <td>4548.500000</td>\n",
              "    </tr>\n",
              "    <tr>\n",
              "      <th>75%</th>\n",
              "      <td>547.750000</td>\n",
              "      <td>3.000000</td>\n",
              "      <td>1.000000</td>\n",
              "      <td>10.000000</td>\n",
              "      <td>0.000000</td>\n",
              "      <td>5.000000</td>\n",
              "      <td>1.000000</td>\n",
              "      <td>2.000000</td>\n",
              "      <td>26.880615</td>\n",
              "      <td>30.445775</td>\n",
              "      <td>72.989575</td>\n",
              "      <td>15.625589</td>\n",
              "      <td>1096.500000</td>\n",
              "      <td>4783.250000</td>\n",
              "      <td>5966.000000</td>\n",
              "    </tr>\n",
              "    <tr>\n",
              "      <th>max</th>\n",
              "      <td>730.000000</td>\n",
              "      <td>4.000000</td>\n",
              "      <td>1.000000</td>\n",
              "      <td>12.000000</td>\n",
              "      <td>1.000000</td>\n",
              "      <td>6.000000</td>\n",
              "      <td>1.000000</td>\n",
              "      <td>3.000000</td>\n",
              "      <td>35.328347</td>\n",
              "      <td>42.044800</td>\n",
              "      <td>97.250000</td>\n",
              "      <td>34.000021</td>\n",
              "      <td>3410.000000</td>\n",
              "      <td>6946.000000</td>\n",
              "      <td>8714.000000</td>\n",
              "    </tr>\n",
              "  </tbody>\n",
              "</table>\n",
              "</div>"
            ],
            "text/plain": [
              "          instant      season  ...   registered          cnt\n",
              "count  730.000000  730.000000  ...   730.000000   730.000000\n",
              "mean   365.500000    2.498630  ...  3658.757534  4508.006849\n",
              "std    210.877136    1.110184  ...  1559.758728  1936.011647\n",
              "min      1.000000    1.000000  ...    20.000000    22.000000\n",
              "25%    183.250000    2.000000  ...  2502.250000  3169.750000\n",
              "50%    365.500000    3.000000  ...  3664.500000  4548.500000\n",
              "75%    547.750000    3.000000  ...  4783.250000  5966.000000\n",
              "max    730.000000    4.000000  ...  6946.000000  8714.000000\n",
              "\n",
              "[8 rows x 15 columns]"
            ]
          },
          "metadata": {
            "tags": []
          },
          "execution_count": 9
        }
      ]
    },
    {
      "cell_type": "markdown",
      "metadata": {
        "id": "Bpiwoqd8NR7i"
      },
      "source": [
        "### **Data Insights:**\n"
      ]
    },
    {
      "cell_type": "markdown",
      "metadata": {
        "id": "bRnjO_ntRYnZ"
      },
      "source": [
        "1.   There are no column with null value.\n",
        "2.   The `dteday` is in object type and needs to be converted to `datetime data type`.\n",
        "3.   All the column data type is either `int` or `float` as per info tab, but `nunique()` indicates that:\n",
        "  *   \t7 Columns are actually object type data (`yr`, `holiday`, `workingday`, `weathersit`, `season`, `weekday`, `mnth`),\n",
        "  *   \t8 Columns are of numerical data type,\n",
        "  *   \t1 column is of datetime data type.\n",
        "\n",
        "4.   The `describe` function indicates a consistent pattern for all the Numerical Variables."
      ]
    },
    {
      "cell_type": "markdown",
      "metadata": {
        "id": "bH8Jwkb3JzyX"
      },
      "source": [
        "**Categorical variable:**\n",
        "- `yr`\n",
        "- `holiday`\n",
        "- `workingday`\n",
        "- `weathersit`\n",
        "- `season`\n",
        "- `weekday`\n",
        "- `mnth`\n",
        "\n",
        "We will create `dummy variables` for few of these Categorical variables in the cleaning stage.\n",
        "\n",
        "**Numerical variable:**\n",
        "- `temp`\n",
        "- `hum`\n",
        "- `casual`\n",
        "- `windspeed`\n",
        "- `registered`\n",
        "- `atemp`\n",
        "- `cnt`\n",
        "- `instant`\n",
        "- `dteday`\n",
        "\n",
        "As mentioned in the problem statement `cnt` is our target variable which is a agregation of `casual` and `registered` columns, and hence both can be dropped (but after confirming the collinearity)."
      ]
    },
    {
      "cell_type": "markdown",
      "metadata": {
        "id": "MDkjXlMBMi83"
      },
      "source": [
        "# <span style=\"color:IndianRed ;\">3. Clean and Visualize the Data"
      ]
    },
    {
      "cell_type": "markdown",
      "metadata": {
        "id": "Vaktw74Gu500"
      },
      "source": [
        "#### Data type  Conversion\n",
        "Convert the data type of dteday from object to date.\n"
      ]
    },
    {
      "cell_type": "code",
      "metadata": {
        "id": "zWIteTNvJzyW"
      },
      "source": [
        "#bikedata['dteday'] = bikedata['dteday'].astype('datetime64') \n",
        "#bikedata['dteday']"
      ],
      "execution_count": 10,
      "outputs": []
    },
    {
      "cell_type": "markdown",
      "metadata": {
        "id": "Zry_amkgJzyY"
      },
      "source": [
        "#### Data Visualisation"
      ]
    },
    {
      "cell_type": "markdown",
      "metadata": {
        "id": "2eoA6Y2R3VE2"
      },
      "source": [
        "**Understanding the data through visualization**.\n",
        "- If there is some obvious multicollinearity going on, this is the first place to catch it.\n",
        "- With this we will try to identify if some predictors directly have a strong association with the outcome variable.\n",
        "- Also we will try to identify if some predictors directly have a strong association with another predictor.\n",
        "\n",
        "We'll visualise our data using `matplotlib` and `seaborn`.\n",
        "\n",
        "\n",
        "**Steps:** <br/>\n",
        "\n",
        "3.1.   Univariate\n",
        "  - Dist Plot for Numerical\n",
        "  - Give insight  \n",
        "\n",
        "3.2.   Visualizing Categorical Variable\n",
        "  - Box plot\n",
        "  - Give Insight"
      ]
    },
    {
      "cell_type": "markdown",
      "metadata": {
        "id": "P_8GuQDOJzyY"
      },
      "source": [
        "#### <span style=\"color:RoyalBlue ;\">Distplot for Univariate Analysis of Numerical Variables"
      ]
    },
    {
      "cell_type": "code",
      "metadata": {
        "colab": {
          "base_uri": "https://localhost:8080/",
          "height": 707
        },
        "id": "q_U4Ct7zT1Zq",
        "outputId": "db217fd5-1403-4b16-8ac5-0c0bf56fc792"
      },
      "source": [
        "plt.figure(figsize=(20, 12))\n",
        "\n",
        "\n",
        "plt.subplot(2,2,1)\n",
        "sns.distplot(bikedata.temp, rug=True,rug_kws={\"color\": \"paleturquoise\"} ,axlabel = \"Tempertaure\",color= \"g\")\n",
        "plt.title(\"Temperature Distribution Plot\", fontsize=16, color= \"darkgreen\")\n",
        "plt.show\n",
        "\n",
        "plt.subplot(2,2,2)\n",
        "sns.distplot(bikedata.atemp, rug=True,rug_kws={\"color\": \"paleturquoise\"}, axlabel = \"Apparent Temperature\",color= \"g\")\n",
        "plt.title(\"Apparent Temperature Distribution Plot\", fontsize=16, color= \"darkgreen\")\n",
        "plt.show\n",
        "\n",
        "plt.subplot(2,2,3)\n",
        "sns.distplot(bikedata.hum, rug=True,rug_kws={\"color\": \"b\"}, axlabel = \"Humidity\",color= \"b\")\n",
        "plt.title(\"Humidity Distribution Plot\", fontsize=16, color= \"indigo\")\n",
        "plt.show\n",
        "\n",
        "plt.subplot(2,2,4)\n",
        "sns.distplot(bikedata.windspeed, rug=True,rug_kws={\"color\": \"b\"}, axlabel = \"Windspeed\",color= \"b\")\n",
        "plt.title(\"Windspeed Distribution Plot\", fontsize=16, color= \"indigo\")\n",
        "plt.show"
      ],
      "execution_count": 11,
      "outputs": [
        {
          "output_type": "execute_result",
          "data": {
            "text/plain": [
              "<function matplotlib.pyplot.show>"
            ]
          },
          "metadata": {
            "tags": []
          },
          "execution_count": 11
        },
        {
          "output_type": "display_data",
          "data": {
            "image/png": "[encoded data removed]",
            "text/plain": [
              "<Figure size 1440x864 with 4 Axes>"
            ]
          },
          "metadata": {
            "tags": [],
            "needs_background": "light"
          }
        }
      ]
    },
    {
      "cell_type": "markdown",
      "metadata": {
        "id": "fjQ7rgvX_3Tr"
      },
      "source": [
        "#####**Insights:**\n",
        "*   All the Numerical Variables are Uniformly distributed as the distribution plot and rug indicates."
      ]
    },
    {
      "cell_type": "markdown",
      "metadata": {
        "id": "914LSgn6nEUp"
      },
      "source": [
        "#### <span style=\"color:RoyalBlue ;\">View categorical data using box plot\n"
      ]
    },
    {
      "cell_type": "code",
      "metadata": {
        "id": "ZCpUAxATJzye",
        "colab": {
          "base_uri": "https://localhost:8080/",
          "height": 677
        },
        "outputId": "2c4cbc37-a73f-4267-fe0f-d3eac096f49e"
      },
      "source": [
        "#categorical data consistency check using box plot\n",
        "\n",
        "plt.figure(figsize=(20, 12))\n",
        "plt.subplot(2,3,1)\n",
        "sns.boxplot(x = 'yr', y = 'cnt', data = bikedata)\n",
        "plt.subplot(2,3,2)\n",
        "sns.boxplot(x = 'mnth', y = 'cnt', data = bikedata)\n",
        "plt.subplot(2,3,3)\n",
        "sns.boxplot(x = 'weekday', y = 'cnt', data = bikedata)\n",
        "plt.subplot(2,3,4)\n",
        "sns.boxplot(x = 'weathersit', y = 'cnt', data = bikedata)\n",
        "plt.subplot(2,3,5)\n",
        "sns.boxplot(x = 'season', y = 'cnt', data = bikedata)\n",
        "plt.subplot(2,3,6)\n",
        "sns.boxplot(x = 'holiday', y = 'cnt', data = bikedata)\n",
        "plt.show()"
      ],
      "execution_count": 12,
      "outputs": [
        {
          "output_type": "display_data",
          "data": {
            "image/png": "[encoded data removed]",
            "text/plain": [
              "<Figure size 1440x864 with 6 Axes>"
            ]
          },
          "metadata": {
            "tags": [],
            "needs_background": "light"
          }
        }
      ]
    },
    {
      "cell_type": "markdown",
      "metadata": {
        "id": "3ibtSxbyUzLm"
      },
      "source": [
        "#### <span style=\"color:RoyalBlue ;\"> Pairplot to check Correlation between the variables"
      ]
    },
    {
      "cell_type": "code",
      "metadata": {
        "id": "YpyYdTlT4TkH"
      },
      "source": [
        "#pairplot between all the variables\n",
        "#sns.set_theme(style=\"darkgrid\")\n",
        "#sns.pairplot(bikedata,kind=\"reg\")\n",
        "#plt.show()"
      ],
      "execution_count": 13,
      "outputs": []
    },
    {
      "cell_type": "markdown",
      "metadata": {
        "id": "sgwRRQFHooG-"
      },
      "source": [
        "####Heatmap"
      ]
    },
    {
      "cell_type": "markdown",
      "metadata": {
        "id": "IBrcaryro1gI"
      },
      "source": [
        "Heatmap to see the exact value of correlation"
      ]
    },
    {
      "cell_type": "code",
      "metadata": {
        "id": "cdpXK1nAdTFL"
      },
      "source": [
        "#plt.figure(figsize=(32,20))\n",
        "\n",
        "#mask = np.array(bikedata.corr())\n",
        "#mask[np.tril_indices_from(mask)] = False\n",
        "#sns.heatmap(bikedata.corr(), mask=mask, vmax=.7, square=True, annot=True, cmap = \"YlGnBu\");\n"
      ],
      "execution_count": 14,
      "outputs": []
    },
    {
      "cell_type": "markdown",
      "metadata": {
        "id": "kqvc_AOadTrx"
      },
      "source": [
        "Based on the sets of pairplot, the heatmap, and understanding of the data:\n",
        "*   instant collumn doesn't have any implication on the cnt, and can be dropped.\n",
        "*   the correlation between temp and atemp is high (0.99), and they are simmilarly correlated with cnt, so one of them can be dropped. We can drop atemp\n",
        "*   The sum of the count of casual and registered is equal to total count i.e. cnt, and hence both can be dropped directly\n",
        "*   mnth and clm highly correlated (0.83), and hence one of these can be dropped. It is also supported by the fact that season mostly changes with mnth. Hence mnth collumn can be dropped.\n"
      ]
    },
    {
      "cell_type": "markdown",
      "metadata": {
        "id": "af2otgemjhNW"
      },
      "source": [
        "####Drop the Decided Variables "
      ]
    },
    {
      "cell_type": "markdown",
      "metadata": {
        "id": "xW-924s4jtsp"
      },
      "source": [
        "So, lets drop the following Variables based on above conclusions:\n",
        "\n",
        "*   instant\n",
        "*   atemp\n",
        "*   dteday\n",
        "*   casual\n",
        "*   registered\n",
        "*   mnth\n"
      ]
    },
    {
      "cell_type": "code",
      "metadata": {
        "id": "z_dCger_jgKc"
      },
      "source": [
        "bikedata.drop(['instant', 'dteday','casual', 'registered',\"atemp\",'mnth'],axis=1,inplace=True)"
      ],
      "execution_count": 15,
      "outputs": []
    },
    {
      "cell_type": "code",
      "metadata": {
        "colab": {
          "base_uri": "https://localhost:8080/",
          "height": 203
        },
        "id": "UlbztR0njNou",
        "outputId": "aaf613ba-3423-4b5e-8026-26b57fdde809"
      },
      "source": [
        "bikedata.head()"
      ],
      "execution_count": 16,
      "outputs": [
        {
          "output_type": "execute_result",
          "data": {
            "text/html": [
              "<div>\n",
              "<style scoped>\n",
              "    .dataframe tbody tr th:only-of-type {\n",
              "        vertical-align: middle;\n",
              "    }\n",
              "\n",
              "    .dataframe tbody tr th {\n",
              "        vertical-align: top;\n",
              "    }\n",
              "\n",
              "    .dataframe thead th {\n",
              "        text-align: right;\n",
              "    }\n",
              "</style>\n",
              "<table border=\"1\" class=\"dataframe\">\n",
              "  <thead>\n",
              "    <tr style=\"text-align: right;\">\n",
              "      <th></th>\n",
              "      <th>season</th>\n",
              "      <th>yr</th>\n",
              "      <th>holiday</th>\n",
              "      <th>weekday</th>\n",
              "      <th>workingday</th>\n",
              "      <th>weathersit</th>\n",
              "      <th>temp</th>\n",
              "      <th>hum</th>\n",
              "      <th>windspeed</th>\n",
              "      <th>cnt</th>\n",
              "    </tr>\n",
              "  </thead>\n",
              "  <tbody>\n",
              "    <tr>\n",
              "      <th>0</th>\n",
              "      <td>1</td>\n",
              "      <td>0</td>\n",
              "      <td>0</td>\n",
              "      <td>1</td>\n",
              "      <td>1</td>\n",
              "      <td>2</td>\n",
              "      <td>14.110847</td>\n",
              "      <td>80.5833</td>\n",
              "      <td>10.749882</td>\n",
              "      <td>985</td>\n",
              "    </tr>\n",
              "    <tr>\n",
              "      <th>1</th>\n",
              "      <td>1</td>\n",
              "      <td>0</td>\n",
              "      <td>0</td>\n",
              "      <td>2</td>\n",
              "      <td>1</td>\n",
              "      <td>2</td>\n",
              "      <td>14.902598</td>\n",
              "      <td>69.6087</td>\n",
              "      <td>16.652113</td>\n",
              "      <td>801</td>\n",
              "    </tr>\n",
              "    <tr>\n",
              "      <th>2</th>\n",
              "      <td>1</td>\n",
              "      <td>0</td>\n",
              "      <td>0</td>\n",
              "      <td>3</td>\n",
              "      <td>1</td>\n",
              "      <td>1</td>\n",
              "      <td>8.050924</td>\n",
              "      <td>43.7273</td>\n",
              "      <td>16.636703</td>\n",
              "      <td>1349</td>\n",
              "    </tr>\n",
              "    <tr>\n",
              "      <th>3</th>\n",
              "      <td>1</td>\n",
              "      <td>0</td>\n",
              "      <td>0</td>\n",
              "      <td>4</td>\n",
              "      <td>1</td>\n",
              "      <td>1</td>\n",
              "      <td>8.200000</td>\n",
              "      <td>59.0435</td>\n",
              "      <td>10.739832</td>\n",
              "      <td>1562</td>\n",
              "    </tr>\n",
              "    <tr>\n",
              "      <th>4</th>\n",
              "      <td>1</td>\n",
              "      <td>0</td>\n",
              "      <td>0</td>\n",
              "      <td>5</td>\n",
              "      <td>1</td>\n",
              "      <td>1</td>\n",
              "      <td>9.305237</td>\n",
              "      <td>43.6957</td>\n",
              "      <td>12.522300</td>\n",
              "      <td>1600</td>\n",
              "    </tr>\n",
              "  </tbody>\n",
              "</table>\n",
              "</div>"
            ],
            "text/plain": [
              "   season  yr  holiday  weekday  ...       temp      hum  windspeed   cnt\n",
              "0       1   0        0        1  ...  14.110847  80.5833  10.749882   985\n",
              "1       1   0        0        2  ...  14.902598  69.6087  16.652113   801\n",
              "2       1   0        0        3  ...   8.050924  43.7273  16.636703  1349\n",
              "3       1   0        0        4  ...   8.200000  59.0435  10.739832  1562\n",
              "4       1   0        0        5  ...   9.305237  43.6957  12.522300  1600\n",
              "\n",
              "[5 rows x 10 columns]"
            ]
          },
          "metadata": {
            "tags": []
          },
          "execution_count": 16
        }
      ]
    },
    {
      "cell_type": "markdown",
      "metadata": {
        "id": "1PyNe5evJzyc"
      },
      "source": [
        "#### <span style=\"color:RoyalBlue ;\">Recheck the Collinearity"
      ]
    },
    {
      "cell_type": "code",
      "metadata": {
        "id": "BiBJwNbAp1Vg"
      },
      "source": [
        "#plt.figure(figsize=(32,20))\n",
        "\n",
        "#mask = np.array(bikedata.corr())\n",
        "#mask[np.tril_indices_from(mask)] = False\n",
        "#sns.heatmap(bikedata.corr(), mask=mask, vmax=.7, square=True, annot=True, cmap = \"YlGnBu\");\n"
      ],
      "execution_count": 17,
      "outputs": []
    },
    {
      "cell_type": "markdown",
      "metadata": {
        "id": "JqGktyFxPuid"
      },
      "source": [
        "# <span style=\"color:IndianRed ;\">4. Dummy Creation\n",
        "# <span style=\"color:IndianRed ;\">"
      ]
    },
    {
      "cell_type": "markdown",
      "metadata": {
        "id": "bCx2qzX7Jzyf"
      },
      "source": [
        "####Prepare the Data for dummyfication"
      ]
    },
    {
      "cell_type": "markdown",
      "metadata": {
        "id": "WdS574JhJzyf"
      },
      "source": [
        "**Step 1:**\n",
        "\n",
        "*   Now, we need to ensure that All the categorical variable in the dataset has has its value in terms of binary (1 and 0). Here are the three such variables:\n",
        "    *   `weathersit`\n",
        "    *   `season`\n",
        "    *   `weekend`"
      ]
    },
    {
      "cell_type": "markdown",
      "metadata": {
        "id": "4tS-LzlnOI00"
      },
      "source": [
        "**Step 2:**\n",
        "- Change these categorical variable from integer data type to string, so that can be converted to Dummy variables"
      ]
    },
    {
      "cell_type": "code",
      "metadata": {
        "id": "-fOxNmWmJzyf"
      },
      "source": [
        "#Replace weathersit values\n",
        "bikedata.weathersit.replace({1:\"Clear\",2: \"MistyWeather\", 3: \"LightRain\",4:\"HeavyRain\"},inplace=True)\n",
        "\n",
        "#Replace season values\n",
        "bikedata.season.replace({1:\"Spring\",2:\"Summer\", 3:\"Fall\", 4:\"Winter\"},inplace=True)\n",
        "\n",
        "#Replace weekday values\n",
        "bikedata.weekday.replace({0:'Sun',1:'Mon', 2:'Tue', 3:'Wed', 4:'Thur', 5:'Fri', 6:'Sat'},inplace=True)"
      ],
      "execution_count": 18,
      "outputs": []
    },
    {
      "cell_type": "code",
      "metadata": {
        "colab": {
          "base_uri": "https://localhost:8080/"
        },
        "id": "f7oQOpF1QjLF",
        "outputId": "23c88c8d-9008-4941-c572-7ebb97ebc91b"
      },
      "source": [
        "#Replace \n",
        "print(bikedata.weathersit.value_counts())\n",
        "print (\"*\"*75)\n",
        "#Replace season values\n",
        "print(bikedata.season.value_counts())\n",
        "print (\"*\"*75)\n",
        "\n",
        "#Replace weekday values\n",
        "print(bikedata.weekday.value_counts())\n",
        "print (\"*\"*75)\n"
      ],
      "execution_count": 19,
      "outputs": [
        {
          "output_type": "stream",
          "text": [
            "Clear           463\n",
            "MistyWeather    246\n",
            "LightRain        21\n",
            "Name: weathersit, dtype: int64\n",
            "***************************************************************************\n",
            "Fall      188\n",
            "Summer    184\n",
            "Spring    180\n",
            "Winter    178\n",
            "Name: season, dtype: int64\n",
            "***************************************************************************\n",
            "Mon     105\n",
            "Tue     105\n",
            "Sun     104\n",
            "Sat     104\n",
            "Fri     104\n",
            "Wed     104\n",
            "Thur    104\n",
            "Name: weekday, dtype: int64\n",
            "***************************************************************************\n"
          ],
          "name": "stdout"
        }
      ]
    },
    {
      "cell_type": "markdown",
      "metadata": {
        "id": "WfrZxa2px35O"
      },
      "source": [
        "So, it is converted, and now we can dummify these columns"
      ]
    },
    {
      "cell_type": "markdown",
      "metadata": {
        "id": "Fg4LtQrZP234"
      },
      "source": [
        "####Create Dummy for applicable categorical columns"
      ]
    },
    {
      "cell_type": "code",
      "metadata": {
        "id": "bzlmus9XJzyg"
      },
      "source": [
        "# Create a dataset with all the variables which needs dummy data creation\n",
        "bikedata_dummy=bikedata[['weekday','season','weathersit']]\n"
      ],
      "execution_count": 20,
      "outputs": []
    },
    {
      "cell_type": "code",
      "metadata": {
        "id": "olnLfw1DJzyh"
      },
      "source": [
        "# Create dummies\n",
        "dummy=pd.get_dummies(bikedata_dummy, drop_first=True)"
      ],
      "execution_count": 21,
      "outputs": []
    },
    {
      "cell_type": "code",
      "metadata": {
        "id": "1Vr-l7daJzyh",
        "colab": {
          "base_uri": "https://localhost:8080/",
          "height": 223
        },
        "outputId": "3234adb2-cafb-431d-ff7a-1cc53434c7a5"
      },
      "source": [
        "# Verify\n",
        "dummy.head()"
      ],
      "execution_count": 22,
      "outputs": [
        {
          "output_type": "execute_result",
          "data": {
            "text/html": [
              "<div>\n",
              "<style scoped>\n",
              "    .dataframe tbody tr th:only-of-type {\n",
              "        vertical-align: middle;\n",
              "    }\n",
              "\n",
              "    .dataframe tbody tr th {\n",
              "        vertical-align: top;\n",
              "    }\n",
              "\n",
              "    .dataframe thead th {\n",
              "        text-align: right;\n",
              "    }\n",
              "</style>\n",
              "<table border=\"1\" class=\"dataframe\">\n",
              "  <thead>\n",
              "    <tr style=\"text-align: right;\">\n",
              "      <th></th>\n",
              "      <th>weekday_Mon</th>\n",
              "      <th>weekday_Sat</th>\n",
              "      <th>weekday_Sun</th>\n",
              "      <th>weekday_Thur</th>\n",
              "      <th>weekday_Tue</th>\n",
              "      <th>weekday_Wed</th>\n",
              "      <th>season_Spring</th>\n",
              "      <th>season_Summer</th>\n",
              "      <th>season_Winter</th>\n",
              "      <th>weathersit_LightRain</th>\n",
              "      <th>weathersit_MistyWeather</th>\n",
              "    </tr>\n",
              "  </thead>\n",
              "  <tbody>\n",
              "    <tr>\n",
              "      <th>0</th>\n",
              "      <td>1</td>\n",
              "      <td>0</td>\n",
              "      <td>0</td>\n",
              "      <td>0</td>\n",
              "      <td>0</td>\n",
              "      <td>0</td>\n",
              "      <td>1</td>\n",
              "      <td>0</td>\n",
              "      <td>0</td>\n",
              "      <td>0</td>\n",
              "      <td>1</td>\n",
              "    </tr>\n",
              "    <tr>\n",
              "      <th>1</th>\n",
              "      <td>0</td>\n",
              "      <td>0</td>\n",
              "      <td>0</td>\n",
              "      <td>0</td>\n",
              "      <td>1</td>\n",
              "      <td>0</td>\n",
              "      <td>1</td>\n",
              "      <td>0</td>\n",
              "      <td>0</td>\n",
              "      <td>0</td>\n",
              "      <td>1</td>\n",
              "    </tr>\n",
              "    <tr>\n",
              "      <th>2</th>\n",
              "      <td>0</td>\n",
              "      <td>0</td>\n",
              "      <td>0</td>\n",
              "      <td>0</td>\n",
              "      <td>0</td>\n",
              "      <td>1</td>\n",
              "      <td>1</td>\n",
              "      <td>0</td>\n",
              "      <td>0</td>\n",
              "      <td>0</td>\n",
              "      <td>0</td>\n",
              "    </tr>\n",
              "    <tr>\n",
              "      <th>3</th>\n",
              "      <td>0</td>\n",
              "      <td>0</td>\n",
              "      <td>0</td>\n",
              "      <td>1</td>\n",
              "      <td>0</td>\n",
              "      <td>0</td>\n",
              "      <td>1</td>\n",
              "      <td>0</td>\n",
              "      <td>0</td>\n",
              "      <td>0</td>\n",
              "      <td>0</td>\n",
              "    </tr>\n",
              "    <tr>\n",
              "      <th>4</th>\n",
              "      <td>0</td>\n",
              "      <td>0</td>\n",
              "      <td>0</td>\n",
              "      <td>0</td>\n",
              "      <td>0</td>\n",
              "      <td>0</td>\n",
              "      <td>1</td>\n",
              "      <td>0</td>\n",
              "      <td>0</td>\n",
              "      <td>0</td>\n",
              "      <td>0</td>\n",
              "    </tr>\n",
              "  </tbody>\n",
              "</table>\n",
              "</div>"
            ],
            "text/plain": [
              "   weekday_Mon  weekday_Sat  ...  weathersit_LightRain  weathersit_MistyWeather\n",
              "0            1            0  ...                     0                        1\n",
              "1            0            0  ...                     0                        1\n",
              "2            0            0  ...                     0                        0\n",
              "3            0            0  ...                     0                        0\n",
              "4            0            0  ...                     0                        0\n",
              "\n",
              "[5 rows x 11 columns]"
            ]
          },
          "metadata": {
            "tags": []
          },
          "execution_count": 22
        }
      ]
    },
    {
      "cell_type": "code",
      "metadata": {
        "id": "7CoU_prbJzyi"
      },
      "source": [
        "# concat the bikedata with the dummy dataset\n",
        "bikedata=pd.concat([bikedata, dummy],axis=1)"
      ],
      "execution_count": 23,
      "outputs": []
    },
    {
      "cell_type": "markdown",
      "metadata": {
        "id": "wyS9D4zr4QrD"
      },
      "source": [
        "####Drop the weekday, season and weathersit columns"
      ]
    },
    {
      "cell_type": "code",
      "metadata": {
        "id": "vzXOrwGHJzyi"
      },
      "source": [
        "#Drop the columns for which we have already created dummy variables\n",
        "bikedata.drop(['weekday','season','weathersit'],axis=1,inplace=True)"
      ],
      "execution_count": 24,
      "outputs": []
    },
    {
      "cell_type": "markdown",
      "metadata": {
        "id": "oABYu8OS4uvw"
      },
      "source": [
        "###Finalised Dataset"
      ]
    },
    {
      "cell_type": "code",
      "metadata": {
        "id": "mFz-dRkKJzyi",
        "colab": {
          "base_uri": "https://localhost:8080/",
          "height": 223
        },
        "outputId": "c4470474-6331-477d-9fc3-32cfbf113d64"
      },
      "source": [
        "#Verify\n",
        "bikedata.head()"
      ],
      "execution_count": 25,
      "outputs": [
        {
          "output_type": "execute_result",
          "data": {
            "text/html": [
              "<div>\n",
              "<style scoped>\n",
              "    .dataframe tbody tr th:only-of-type {\n",
              "        vertical-align: middle;\n",
              "    }\n",
              "\n",
              "    .dataframe tbody tr th {\n",
              "        vertical-align: top;\n",
              "    }\n",
              "\n",
              "    .dataframe thead th {\n",
              "        text-align: right;\n",
              "    }\n",
              "</style>\n",
              "<table border=\"1\" class=\"dataframe\">\n",
              "  <thead>\n",
              "    <tr style=\"text-align: right;\">\n",
              "      <th></th>\n",
              "      <th>yr</th>\n",
              "      <th>holiday</th>\n",
              "      <th>workingday</th>\n",
              "      <th>temp</th>\n",
              "      <th>hum</th>\n",
              "      <th>windspeed</th>\n",
              "      <th>cnt</th>\n",
              "      <th>weekday_Mon</th>\n",
              "      <th>weekday_Sat</th>\n",
              "      <th>weekday_Sun</th>\n",
              "      <th>weekday_Thur</th>\n",
              "      <th>weekday_Tue</th>\n",
              "      <th>weekday_Wed</th>\n",
              "      <th>season_Spring</th>\n",
              "      <th>season_Summer</th>\n",
              "      <th>season_Winter</th>\n",
              "      <th>weathersit_LightRain</th>\n",
              "      <th>weathersit_MistyWeather</th>\n",
              "    </tr>\n",
              "  </thead>\n",
              "  <tbody>\n",
              "    <tr>\n",
              "      <th>0</th>\n",
              "      <td>0</td>\n",
              "      <td>0</td>\n",
              "      <td>1</td>\n",
              "      <td>14.110847</td>\n",
              "      <td>80.5833</td>\n",
              "      <td>10.749882</td>\n",
              "      <td>985</td>\n",
              "      <td>1</td>\n",
              "      <td>0</td>\n",
              "      <td>0</td>\n",
              "      <td>0</td>\n",
              "      <td>0</td>\n",
              "      <td>0</td>\n",
              "      <td>1</td>\n",
              "      <td>0</td>\n",
              "      <td>0</td>\n",
              "      <td>0</td>\n",
              "      <td>1</td>\n",
              "    </tr>\n",
              "    <tr>\n",
              "      <th>1</th>\n",
              "      <td>0</td>\n",
              "      <td>0</td>\n",
              "      <td>1</td>\n",
              "      <td>14.902598</td>\n",
              "      <td>69.6087</td>\n",
              "      <td>16.652113</td>\n",
              "      <td>801</td>\n",
              "      <td>0</td>\n",
              "      <td>0</td>\n",
              "      <td>0</td>\n",
              "      <td>0</td>\n",
              "      <td>1</td>\n",
              "      <td>0</td>\n",
              "      <td>1</td>\n",
              "      <td>0</td>\n",
              "      <td>0</td>\n",
              "      <td>0</td>\n",
              "      <td>1</td>\n",
              "    </tr>\n",
              "    <tr>\n",
              "      <th>2</th>\n",
              "      <td>0</td>\n",
              "      <td>0</td>\n",
              "      <td>1</td>\n",
              "      <td>8.050924</td>\n",
              "      <td>43.7273</td>\n",
              "      <td>16.636703</td>\n",
              "      <td>1349</td>\n",
              "      <td>0</td>\n",
              "      <td>0</td>\n",
              "      <td>0</td>\n",
              "      <td>0</td>\n",
              "      <td>0</td>\n",
              "      <td>1</td>\n",
              "      <td>1</td>\n",
              "      <td>0</td>\n",
              "      <td>0</td>\n",
              "      <td>0</td>\n",
              "      <td>0</td>\n",
              "    </tr>\n",
              "    <tr>\n",
              "      <th>3</th>\n",
              "      <td>0</td>\n",
              "      <td>0</td>\n",
              "      <td>1</td>\n",
              "      <td>8.200000</td>\n",
              "      <td>59.0435</td>\n",
              "      <td>10.739832</td>\n",
              "      <td>1562</td>\n",
              "      <td>0</td>\n",
              "      <td>0</td>\n",
              "      <td>0</td>\n",
              "      <td>1</td>\n",
              "      <td>0</td>\n",
              "      <td>0</td>\n",
              "      <td>1</td>\n",
              "      <td>0</td>\n",
              "      <td>0</td>\n",
              "      <td>0</td>\n",
              "      <td>0</td>\n",
              "    </tr>\n",
              "    <tr>\n",
              "      <th>4</th>\n",
              "      <td>0</td>\n",
              "      <td>0</td>\n",
              "      <td>1</td>\n",
              "      <td>9.305237</td>\n",
              "      <td>43.6957</td>\n",
              "      <td>12.522300</td>\n",
              "      <td>1600</td>\n",
              "      <td>0</td>\n",
              "      <td>0</td>\n",
              "      <td>0</td>\n",
              "      <td>0</td>\n",
              "      <td>0</td>\n",
              "      <td>0</td>\n",
              "      <td>1</td>\n",
              "      <td>0</td>\n",
              "      <td>0</td>\n",
              "      <td>0</td>\n",
              "      <td>0</td>\n",
              "    </tr>\n",
              "  </tbody>\n",
              "</table>\n",
              "</div>"
            ],
            "text/plain": [
              "   yr  holiday  ...  weathersit_LightRain  weathersit_MistyWeather\n",
              "0   0        0  ...                     0                        1\n",
              "1   0        0  ...                     0                        1\n",
              "2   0        0  ...                     0                        0\n",
              "3   0        0  ...                     0                        0\n",
              "4   0        0  ...                     0                        0\n",
              "\n",
              "[5 rows x 18 columns]"
            ]
          },
          "metadata": {
            "tags": []
          },
          "execution_count": 25
        }
      ]
    },
    {
      "cell_type": "code",
      "metadata": {
        "id": "atIKxyNNq1Wc"
      },
      "source": [
        ""
      ],
      "execution_count": 25,
      "outputs": []
    },
    {
      "cell_type": "markdown",
      "metadata": {
        "id": "pA7usPIHJzyj"
      },
      "source": [
        "# <span style=\"color:IndianRed ;\">5. Split the data into train and test"
      ]
    },
    {
      "cell_type": "code",
      "metadata": {
        "colab": {
          "base_uri": "https://localhost:8080/"
        },
        "id": "K9e3GO-K6tbf",
        "outputId": "b15c33db-2842-4154-9f4e-db3c6008069e"
      },
      "source": [
        "#Split the dataset in to train and test\n",
        "df_train, df_test = train_test_split(bikedata,train_size=0.7,random_state=100 )\n",
        "print (\"Shape of Train Data: \", df_train.shape)\n",
        "print (\"Shape of Test Data: \", df_test.shape)\n"
      ],
      "execution_count": 26,
      "outputs": [
        {
          "output_type": "stream",
          "text": [
            "Shape of Train Data:  (510, 18)\n",
            "Shape of Test Data:  (220, 18)\n"
          ],
          "name": "stdout"
        }
      ]
    },
    {
      "cell_type": "code",
      "metadata": {
        "id": "BM2-BzTuJzyk",
        "colab": {
          "base_uri": "https://localhost:8080/",
          "height": 223
        },
        "outputId": "8fe0357f-9624-4a7a-d5f5-8f28fa9623d3"
      },
      "source": [
        "# verify the train dataset\n",
        "df_train.head()"
      ],
      "execution_count": 27,
      "outputs": [
        {
          "output_type": "execute_result",
          "data": {
            "text/html": [
              "<div>\n",
              "<style scoped>\n",
              "    .dataframe tbody tr th:only-of-type {\n",
              "        vertical-align: middle;\n",
              "    }\n",
              "\n",
              "    .dataframe tbody tr th {\n",
              "        vertical-align: top;\n",
              "    }\n",
              "\n",
              "    .dataframe thead th {\n",
              "        text-align: right;\n",
              "    }\n",
              "</style>\n",
              "<table border=\"1\" class=\"dataframe\">\n",
              "  <thead>\n",
              "    <tr style=\"text-align: right;\">\n",
              "      <th></th>\n",
              "      <th>yr</th>\n",
              "      <th>holiday</th>\n",
              "      <th>workingday</th>\n",
              "      <th>temp</th>\n",
              "      <th>hum</th>\n",
              "      <th>windspeed</th>\n",
              "      <th>cnt</th>\n",
              "      <th>weekday_Mon</th>\n",
              "      <th>weekday_Sat</th>\n",
              "      <th>weekday_Sun</th>\n",
              "      <th>weekday_Thur</th>\n",
              "      <th>weekday_Tue</th>\n",
              "      <th>weekday_Wed</th>\n",
              "      <th>season_Spring</th>\n",
              "      <th>season_Summer</th>\n",
              "      <th>season_Winter</th>\n",
              "      <th>weathersit_LightRain</th>\n",
              "      <th>weathersit_MistyWeather</th>\n",
              "    </tr>\n",
              "  </thead>\n",
              "  <tbody>\n",
              "    <tr>\n",
              "      <th>576</th>\n",
              "      <td>1</td>\n",
              "      <td>0</td>\n",
              "      <td>1</td>\n",
              "      <td>29.246653</td>\n",
              "      <td>70.4167</td>\n",
              "      <td>11.083475</td>\n",
              "      <td>7216</td>\n",
              "      <td>0</td>\n",
              "      <td>0</td>\n",
              "      <td>0</td>\n",
              "      <td>0</td>\n",
              "      <td>0</td>\n",
              "      <td>1</td>\n",
              "      <td>0</td>\n",
              "      <td>0</td>\n",
              "      <td>0</td>\n",
              "      <td>0</td>\n",
              "      <td>0</td>\n",
              "    </tr>\n",
              "    <tr>\n",
              "      <th>426</th>\n",
              "      <td>1</td>\n",
              "      <td>0</td>\n",
              "      <td>0</td>\n",
              "      <td>16.980847</td>\n",
              "      <td>62.1250</td>\n",
              "      <td>10.792293</td>\n",
              "      <td>4066</td>\n",
              "      <td>0</td>\n",
              "      <td>0</td>\n",
              "      <td>1</td>\n",
              "      <td>0</td>\n",
              "      <td>0</td>\n",
              "      <td>0</td>\n",
              "      <td>1</td>\n",
              "      <td>0</td>\n",
              "      <td>0</td>\n",
              "      <td>0</td>\n",
              "      <td>1</td>\n",
              "    </tr>\n",
              "    <tr>\n",
              "      <th>728</th>\n",
              "      <td>1</td>\n",
              "      <td>0</td>\n",
              "      <td>1</td>\n",
              "      <td>10.489153</td>\n",
              "      <td>48.3333</td>\n",
              "      <td>23.500518</td>\n",
              "      <td>1796</td>\n",
              "      <td>1</td>\n",
              "      <td>0</td>\n",
              "      <td>0</td>\n",
              "      <td>0</td>\n",
              "      <td>0</td>\n",
              "      <td>0</td>\n",
              "      <td>1</td>\n",
              "      <td>0</td>\n",
              "      <td>0</td>\n",
              "      <td>0</td>\n",
              "      <td>0</td>\n",
              "    </tr>\n",
              "    <tr>\n",
              "      <th>482</th>\n",
              "      <td>1</td>\n",
              "      <td>0</td>\n",
              "      <td>0</td>\n",
              "      <td>15.443347</td>\n",
              "      <td>48.9583</td>\n",
              "      <td>8.708325</td>\n",
              "      <td>4220</td>\n",
              "      <td>0</td>\n",
              "      <td>0</td>\n",
              "      <td>1</td>\n",
              "      <td>0</td>\n",
              "      <td>0</td>\n",
              "      <td>0</td>\n",
              "      <td>0</td>\n",
              "      <td>1</td>\n",
              "      <td>0</td>\n",
              "      <td>0</td>\n",
              "      <td>1</td>\n",
              "    </tr>\n",
              "    <tr>\n",
              "      <th>111</th>\n",
              "      <td>0</td>\n",
              "      <td>0</td>\n",
              "      <td>0</td>\n",
              "      <td>13.803347</td>\n",
              "      <td>72.9583</td>\n",
              "      <td>14.707907</td>\n",
              "      <td>1683</td>\n",
              "      <td>0</td>\n",
              "      <td>0</td>\n",
              "      <td>1</td>\n",
              "      <td>0</td>\n",
              "      <td>0</td>\n",
              "      <td>0</td>\n",
              "      <td>0</td>\n",
              "      <td>1</td>\n",
              "      <td>0</td>\n",
              "      <td>0</td>\n",
              "      <td>1</td>\n",
              "    </tr>\n",
              "  </tbody>\n",
              "</table>\n",
              "</div>"
            ],
            "text/plain": [
              "     yr  holiday  ...  weathersit_LightRain  weathersit_MistyWeather\n",
              "576   1        0  ...                     0                        0\n",
              "426   1        0  ...                     0                        1\n",
              "728   1        0  ...                     0                        0\n",
              "482   1        0  ...                     0                        1\n",
              "111   0        0  ...                     0                        1\n",
              "\n",
              "[5 rows x 18 columns]"
            ]
          },
          "metadata": {
            "tags": []
          },
          "execution_count": 27
        }
      ]
    },
    {
      "cell_type": "code",
      "metadata": {
        "id": "0yYB3PIlJzyk",
        "colab": {
          "base_uri": "https://localhost:8080/",
          "height": 223
        },
        "outputId": "198f3848-cf4f-47d2-d694-204019e539a9"
      },
      "source": [
        "# Verify test dataset\n",
        "df_test.head()"
      ],
      "execution_count": 28,
      "outputs": [
        {
          "output_type": "execute_result",
          "data": {
            "text/html": [
              "<div>\n",
              "<style scoped>\n",
              "    .dataframe tbody tr th:only-of-type {\n",
              "        vertical-align: middle;\n",
              "    }\n",
              "\n",
              "    .dataframe tbody tr th {\n",
              "        vertical-align: top;\n",
              "    }\n",
              "\n",
              "    .dataframe thead th {\n",
              "        text-align: right;\n",
              "    }\n",
              "</style>\n",
              "<table border=\"1\" class=\"dataframe\">\n",
              "  <thead>\n",
              "    <tr style=\"text-align: right;\">\n",
              "      <th></th>\n",
              "      <th>yr</th>\n",
              "      <th>holiday</th>\n",
              "      <th>workingday</th>\n",
              "      <th>temp</th>\n",
              "      <th>hum</th>\n",
              "      <th>windspeed</th>\n",
              "      <th>cnt</th>\n",
              "      <th>weekday_Mon</th>\n",
              "      <th>weekday_Sat</th>\n",
              "      <th>weekday_Sun</th>\n",
              "      <th>weekday_Thur</th>\n",
              "      <th>weekday_Tue</th>\n",
              "      <th>weekday_Wed</th>\n",
              "      <th>season_Spring</th>\n",
              "      <th>season_Summer</th>\n",
              "      <th>season_Winter</th>\n",
              "      <th>weathersit_LightRain</th>\n",
              "      <th>weathersit_MistyWeather</th>\n",
              "    </tr>\n",
              "  </thead>\n",
              "  <tbody>\n",
              "    <tr>\n",
              "      <th>184</th>\n",
              "      <td>0</td>\n",
              "      <td>1</td>\n",
              "      <td>0</td>\n",
              "      <td>29.793347</td>\n",
              "      <td>63.7917</td>\n",
              "      <td>5.459106</td>\n",
              "      <td>6043</td>\n",
              "      <td>0</td>\n",
              "      <td>0</td>\n",
              "      <td>0</td>\n",
              "      <td>0</td>\n",
              "      <td>0</td>\n",
              "      <td>1</td>\n",
              "      <td>0</td>\n",
              "      <td>0</td>\n",
              "      <td>0</td>\n",
              "      <td>0</td>\n",
              "      <td>1</td>\n",
              "    </tr>\n",
              "    <tr>\n",
              "      <th>535</th>\n",
              "      <td>1</td>\n",
              "      <td>0</td>\n",
              "      <td>1</td>\n",
              "      <td>32.082500</td>\n",
              "      <td>59.2083</td>\n",
              "      <td>7.625404</td>\n",
              "      <td>6211</td>\n",
              "      <td>0</td>\n",
              "      <td>0</td>\n",
              "      <td>0</td>\n",
              "      <td>1</td>\n",
              "      <td>0</td>\n",
              "      <td>0</td>\n",
              "      <td>0</td>\n",
              "      <td>1</td>\n",
              "      <td>0</td>\n",
              "      <td>0</td>\n",
              "      <td>0</td>\n",
              "    </tr>\n",
              "    <tr>\n",
              "      <th>299</th>\n",
              "      <td>0</td>\n",
              "      <td>0</td>\n",
              "      <td>0</td>\n",
              "      <td>19.270000</td>\n",
              "      <td>81.2917</td>\n",
              "      <td>13.250121</td>\n",
              "      <td>2659</td>\n",
              "      <td>0</td>\n",
              "      <td>1</td>\n",
              "      <td>0</td>\n",
              "      <td>0</td>\n",
              "      <td>0</td>\n",
              "      <td>0</td>\n",
              "      <td>0</td>\n",
              "      <td>0</td>\n",
              "      <td>1</td>\n",
              "      <td>0</td>\n",
              "      <td>1</td>\n",
              "    </tr>\n",
              "    <tr>\n",
              "      <th>221</th>\n",
              "      <td>0</td>\n",
              "      <td>0</td>\n",
              "      <td>1</td>\n",
              "      <td>31.433347</td>\n",
              "      <td>42.4167</td>\n",
              "      <td>13.417286</td>\n",
              "      <td>4780</td>\n",
              "      <td>0</td>\n",
              "      <td>0</td>\n",
              "      <td>0</td>\n",
              "      <td>0</td>\n",
              "      <td>0</td>\n",
              "      <td>0</td>\n",
              "      <td>0</td>\n",
              "      <td>0</td>\n",
              "      <td>0</td>\n",
              "      <td>0</td>\n",
              "      <td>0</td>\n",
              "    </tr>\n",
              "    <tr>\n",
              "      <th>152</th>\n",
              "      <td>0</td>\n",
              "      <td>0</td>\n",
              "      <td>0</td>\n",
              "      <td>29.315000</td>\n",
              "      <td>30.5000</td>\n",
              "      <td>19.583229</td>\n",
              "      <td>4968</td>\n",
              "      <td>0</td>\n",
              "      <td>1</td>\n",
              "      <td>0</td>\n",
              "      <td>0</td>\n",
              "      <td>0</td>\n",
              "      <td>0</td>\n",
              "      <td>0</td>\n",
              "      <td>1</td>\n",
              "      <td>0</td>\n",
              "      <td>0</td>\n",
              "      <td>0</td>\n",
              "    </tr>\n",
              "  </tbody>\n",
              "</table>\n",
              "</div>"
            ],
            "text/plain": [
              "     yr  holiday  ...  weathersit_LightRain  weathersit_MistyWeather\n",
              "184   0        1  ...                     0                        1\n",
              "535   1        0  ...                     0                        0\n",
              "299   0        0  ...                     0                        1\n",
              "221   0        0  ...                     0                        0\n",
              "152   0        0  ...                     0                        0\n",
              "\n",
              "[5 rows x 18 columns]"
            ]
          },
          "metadata": {
            "tags": []
          },
          "execution_count": 28
        }
      ]
    },
    {
      "cell_type": "code",
      "metadata": {
        "id": "gR8lFUsGJzyk",
        "colab": {
          "base_uri": "https://localhost:8080/",
          "height": 315
        },
        "outputId": "6d17d813-982b-42e6-821e-67a18e9c34df"
      },
      "source": [
        "# check the description for train dataset\n",
        "df_train.describe()"
      ],
      "execution_count": 29,
      "outputs": [
        {
          "output_type": "execute_result",
          "data": {
            "text/html": [
              "<div>\n",
              "<style scoped>\n",
              "    .dataframe tbody tr th:only-of-type {\n",
              "        vertical-align: middle;\n",
              "    }\n",
              "\n",
              "    .dataframe tbody tr th {\n",
              "        vertical-align: top;\n",
              "    }\n",
              "\n",
              "    .dataframe thead th {\n",
              "        text-align: right;\n",
              "    }\n",
              "</style>\n",
              "<table border=\"1\" class=\"dataframe\">\n",
              "  <thead>\n",
              "    <tr style=\"text-align: right;\">\n",
              "      <th></th>\n",
              "      <th>yr</th>\n",
              "      <th>holiday</th>\n",
              "      <th>workingday</th>\n",
              "      <th>temp</th>\n",
              "      <th>hum</th>\n",
              "      <th>windspeed</th>\n",
              "      <th>cnt</th>\n",
              "      <th>weekday_Mon</th>\n",
              "      <th>weekday_Sat</th>\n",
              "      <th>weekday_Sun</th>\n",
              "      <th>weekday_Thur</th>\n",
              "      <th>weekday_Tue</th>\n",
              "      <th>weekday_Wed</th>\n",
              "      <th>season_Spring</th>\n",
              "      <th>season_Summer</th>\n",
              "      <th>season_Winter</th>\n",
              "      <th>weathersit_LightRain</th>\n",
              "      <th>weathersit_MistyWeather</th>\n",
              "    </tr>\n",
              "  </thead>\n",
              "  <tbody>\n",
              "    <tr>\n",
              "      <th>count</th>\n",
              "      <td>510.000000</td>\n",
              "      <td>510.000000</td>\n",
              "      <td>510.000000</td>\n",
              "      <td>510.000000</td>\n",
              "      <td>510.000000</td>\n",
              "      <td>510.000000</td>\n",
              "      <td>510.000000</td>\n",
              "      <td>510.000000</td>\n",
              "      <td>510.000000</td>\n",
              "      <td>510.000000</td>\n",
              "      <td>510.000000</td>\n",
              "      <td>510.000000</td>\n",
              "      <td>510.000000</td>\n",
              "      <td>510.000000</td>\n",
              "      <td>510.000000</td>\n",
              "      <td>510.000000</td>\n",
              "      <td>510.000000</td>\n",
              "      <td>510.000000</td>\n",
              "    </tr>\n",
              "    <tr>\n",
              "      <th>mean</th>\n",
              "      <td>0.507843</td>\n",
              "      <td>0.025490</td>\n",
              "      <td>0.711765</td>\n",
              "      <td>20.108257</td>\n",
              "      <td>63.123710</td>\n",
              "      <td>12.834912</td>\n",
              "      <td>4485.337255</td>\n",
              "      <td>0.154902</td>\n",
              "      <td>0.129412</td>\n",
              "      <td>0.137255</td>\n",
              "      <td>0.143137</td>\n",
              "      <td>0.152941</td>\n",
              "      <td>0.135294</td>\n",
              "      <td>0.243137</td>\n",
              "      <td>0.247059</td>\n",
              "      <td>0.247059</td>\n",
              "      <td>0.029412</td>\n",
              "      <td>0.345098</td>\n",
              "    </tr>\n",
              "    <tr>\n",
              "      <th>std</th>\n",
              "      <td>0.500429</td>\n",
              "      <td>0.157763</td>\n",
              "      <td>0.453386</td>\n",
              "      <td>7.431626</td>\n",
              "      <td>14.153170</td>\n",
              "      <td>5.292031</td>\n",
              "      <td>1950.666077</td>\n",
              "      <td>0.362166</td>\n",
              "      <td>0.335985</td>\n",
              "      <td>0.344454</td>\n",
              "      <td>0.350557</td>\n",
              "      <td>0.360284</td>\n",
              "      <td>0.342373</td>\n",
              "      <td>0.429398</td>\n",
              "      <td>0.431725</td>\n",
              "      <td>0.431725</td>\n",
              "      <td>0.169124</td>\n",
              "      <td>0.475867</td>\n",
              "    </tr>\n",
              "    <tr>\n",
              "      <th>min</th>\n",
              "      <td>0.000000</td>\n",
              "      <td>0.000000</td>\n",
              "      <td>0.000000</td>\n",
              "      <td>2.424346</td>\n",
              "      <td>0.000000</td>\n",
              "      <td>2.834381</td>\n",
              "      <td>22.000000</td>\n",
              "      <td>0.000000</td>\n",
              "      <td>0.000000</td>\n",
              "      <td>0.000000</td>\n",
              "      <td>0.000000</td>\n",
              "      <td>0.000000</td>\n",
              "      <td>0.000000</td>\n",
              "      <td>0.000000</td>\n",
              "      <td>0.000000</td>\n",
              "      <td>0.000000</td>\n",
              "      <td>0.000000</td>\n",
              "      <td>0.000000</td>\n",
              "    </tr>\n",
              "    <tr>\n",
              "      <th>25%</th>\n",
              "      <td>0.000000</td>\n",
              "      <td>0.000000</td>\n",
              "      <td>0.000000</td>\n",
              "      <td>13.606865</td>\n",
              "      <td>52.270825</td>\n",
              "      <td>9.041918</td>\n",
              "      <td>3120.000000</td>\n",
              "      <td>0.000000</td>\n",
              "      <td>0.000000</td>\n",
              "      <td>0.000000</td>\n",
              "      <td>0.000000</td>\n",
              "      <td>0.000000</td>\n",
              "      <td>0.000000</td>\n",
              "      <td>0.000000</td>\n",
              "      <td>0.000000</td>\n",
              "      <td>0.000000</td>\n",
              "      <td>0.000000</td>\n",
              "      <td>0.000000</td>\n",
              "    </tr>\n",
              "    <tr>\n",
              "      <th>50%</th>\n",
              "      <td>1.000000</td>\n",
              "      <td>0.000000</td>\n",
              "      <td>1.000000</td>\n",
              "      <td>20.277923</td>\n",
              "      <td>63.437500</td>\n",
              "      <td>12.083182</td>\n",
              "      <td>4530.000000</td>\n",
              "      <td>0.000000</td>\n",
              "      <td>0.000000</td>\n",
              "      <td>0.000000</td>\n",
              "      <td>0.000000</td>\n",
              "      <td>0.000000</td>\n",
              "      <td>0.000000</td>\n",
              "      <td>0.000000</td>\n",
              "      <td>0.000000</td>\n",
              "      <td>0.000000</td>\n",
              "      <td>0.000000</td>\n",
              "      <td>0.000000</td>\n",
              "    </tr>\n",
              "    <tr>\n",
              "      <th>75%</th>\n",
              "      <td>1.000000</td>\n",
              "      <td>0.000000</td>\n",
              "      <td>1.000000</td>\n",
              "      <td>26.615847</td>\n",
              "      <td>73.250025</td>\n",
              "      <td>15.750879</td>\n",
              "      <td>5973.500000</td>\n",
              "      <td>0.000000</td>\n",
              "      <td>0.000000</td>\n",
              "      <td>0.000000</td>\n",
              "      <td>0.000000</td>\n",
              "      <td>0.000000</td>\n",
              "      <td>0.000000</td>\n",
              "      <td>0.000000</td>\n",
              "      <td>0.000000</td>\n",
              "      <td>0.000000</td>\n",
              "      <td>0.000000</td>\n",
              "      <td>1.000000</td>\n",
              "    </tr>\n",
              "    <tr>\n",
              "      <th>max</th>\n",
              "      <td>1.000000</td>\n",
              "      <td>1.000000</td>\n",
              "      <td>1.000000</td>\n",
              "      <td>35.328347</td>\n",
              "      <td>97.041700</td>\n",
              "      <td>34.000021</td>\n",
              "      <td>8714.000000</td>\n",
              "      <td>1.000000</td>\n",
              "      <td>1.000000</td>\n",
              "      <td>1.000000</td>\n",
              "      <td>1.000000</td>\n",
              "      <td>1.000000</td>\n",
              "      <td>1.000000</td>\n",
              "      <td>1.000000</td>\n",
              "      <td>1.000000</td>\n",
              "      <td>1.000000</td>\n",
              "      <td>1.000000</td>\n",
              "      <td>1.000000</td>\n",
              "    </tr>\n",
              "  </tbody>\n",
              "</table>\n",
              "</div>"
            ],
            "text/plain": [
              "               yr     holiday  ...  weathersit_LightRain  weathersit_MistyWeather\n",
              "count  510.000000  510.000000  ...            510.000000               510.000000\n",
              "mean     0.507843    0.025490  ...              0.029412                 0.345098\n",
              "std      0.500429    0.157763  ...              0.169124                 0.475867\n",
              "min      0.000000    0.000000  ...              0.000000                 0.000000\n",
              "25%      0.000000    0.000000  ...              0.000000                 0.000000\n",
              "50%      1.000000    0.000000  ...              0.000000                 0.000000\n",
              "75%      1.000000    0.000000  ...              0.000000                 1.000000\n",
              "max      1.000000    1.000000  ...              1.000000                 1.000000\n",
              "\n",
              "[8 rows x 18 columns]"
            ]
          },
          "metadata": {
            "tags": []
          },
          "execution_count": 29
        }
      ]
    },
    {
      "cell_type": "code",
      "metadata": {
        "id": "xxFb4mLtJzyl",
        "colab": {
          "base_uri": "https://localhost:8080/"
        },
        "outputId": "b6735ac2-7cdf-42ad-a8a4-7cfcf692e842"
      },
      "source": [
        "# Verify the total columns in bikedataset\n",
        "bikedata.shape , bikedata.columns"
      ],
      "execution_count": 30,
      "outputs": [
        {
          "output_type": "execute_result",
          "data": {
            "text/plain": [
              "((730, 18),\n",
              " Index(['yr', 'holiday', 'workingday', 'temp', 'hum', 'windspeed', 'cnt',\n",
              "        'weekday_Mon', 'weekday_Sat', 'weekday_Sun', 'weekday_Thur',\n",
              "        'weekday_Tue', 'weekday_Wed', 'season_Spring', 'season_Summer',\n",
              "        'season_Winter', 'weathersit_LightRain', 'weathersit_MistyWeather'],\n",
              "       dtype='object'))"
            ]
          },
          "metadata": {
            "tags": []
          },
          "execution_count": 30
        }
      ]
    },
    {
      "cell_type": "markdown",
      "metadata": {
        "id": "PG5dFCcSJzyl"
      },
      "source": [
        "# <span style=\"color:IndianRed ;\">6. Rescaling the Variables \n"
      ]
    },
    {
      "cell_type": "code",
      "metadata": {
        "id": "3RHiHeuPJzyl",
        "colab": {
          "base_uri": "https://localhost:8080/",
          "height": 203
        },
        "outputId": "226030ba-4a83-4f94-92a4-b9028c890945"
      },
      "source": [
        "# Instantiate an object\n",
        "scaler = MinMaxScaler()\n",
        " \n",
        "# Create the list of Numeric Variables to be scaled\n",
        "num_vars = ['temp','hum','windspeed','cnt']\n",
        " \n",
        "#fit on data\n",
        "df_train[num_vars]=scaler.fit_transform(df_train[num_vars])\n",
        "df_train[num_vars].head()"
      ],
      "execution_count": 31,
      "outputs": [
        {
          "output_type": "execute_result",
          "data": {
            "text/html": [
              "<div>\n",
              "<style scoped>\n",
              "    .dataframe tbody tr th:only-of-type {\n",
              "        vertical-align: middle;\n",
              "    }\n",
              "\n",
              "    .dataframe tbody tr th {\n",
              "        vertical-align: top;\n",
              "    }\n",
              "\n",
              "    .dataframe thead th {\n",
              "        text-align: right;\n",
              "    }\n",
              "</style>\n",
              "<table border=\"1\" class=\"dataframe\">\n",
              "  <thead>\n",
              "    <tr style=\"text-align: right;\">\n",
              "      <th></th>\n",
              "      <th>temp</th>\n",
              "      <th>hum</th>\n",
              "      <th>windspeed</th>\n",
              "      <th>cnt</th>\n",
              "    </tr>\n",
              "  </thead>\n",
              "  <tbody>\n",
              "    <tr>\n",
              "      <th>576</th>\n",
              "      <td>0.815169</td>\n",
              "      <td>0.725633</td>\n",
              "      <td>0.264686</td>\n",
              "      <td>0.827658</td>\n",
              "    </tr>\n",
              "    <tr>\n",
              "      <th>426</th>\n",
              "      <td>0.442393</td>\n",
              "      <td>0.640189</td>\n",
              "      <td>0.255342</td>\n",
              "      <td>0.465255</td>\n",
              "    </tr>\n",
              "    <tr>\n",
              "      <th>728</th>\n",
              "      <td>0.245101</td>\n",
              "      <td>0.498067</td>\n",
              "      <td>0.663106</td>\n",
              "      <td>0.204096</td>\n",
              "    </tr>\n",
              "    <tr>\n",
              "      <th>482</th>\n",
              "      <td>0.395666</td>\n",
              "      <td>0.504508</td>\n",
              "      <td>0.188475</td>\n",
              "      <td>0.482973</td>\n",
              "    </tr>\n",
              "    <tr>\n",
              "      <th>111</th>\n",
              "      <td>0.345824</td>\n",
              "      <td>0.751824</td>\n",
              "      <td>0.380981</td>\n",
              "      <td>0.191095</td>\n",
              "    </tr>\n",
              "  </tbody>\n",
              "</table>\n",
              "</div>"
            ],
            "text/plain": [
              "         temp       hum  windspeed       cnt\n",
              "576  0.815169  0.725633   0.264686  0.827658\n",
              "426  0.442393  0.640189   0.255342  0.465255\n",
              "728  0.245101  0.498067   0.663106  0.204096\n",
              "482  0.395666  0.504508   0.188475  0.482973\n",
              "111  0.345824  0.751824   0.380981  0.191095"
            ]
          },
          "metadata": {
            "tags": []
          },
          "execution_count": 31
        }
      ]
    },
    {
      "cell_type": "code",
      "metadata": {
        "id": "EoIkcPseJzym",
        "colab": {
          "base_uri": "https://localhost:8080/",
          "height": 223
        },
        "outputId": "4bff6bbc-f75c-48ff-b2a9-1262fef7c62d"
      },
      "source": [
        "df_train.head()"
      ],
      "execution_count": 32,
      "outputs": [
        {
          "output_type": "execute_result",
          "data": {
            "text/html": [
              "<div>\n",
              "<style scoped>\n",
              "    .dataframe tbody tr th:only-of-type {\n",
              "        vertical-align: middle;\n",
              "    }\n",
              "\n",
              "    .dataframe tbody tr th {\n",
              "        vertical-align: top;\n",
              "    }\n",
              "\n",
              "    .dataframe thead th {\n",
              "        text-align: right;\n",
              "    }\n",
              "</style>\n",
              "<table border=\"1\" class=\"dataframe\">\n",
              "  <thead>\n",
              "    <tr style=\"text-align: right;\">\n",
              "      <th></th>\n",
              "      <th>yr</th>\n",
              "      <th>holiday</th>\n",
              "      <th>workingday</th>\n",
              "      <th>temp</th>\n",
              "      <th>hum</th>\n",
              "      <th>windspeed</th>\n",
              "      <th>cnt</th>\n",
              "      <th>weekday_Mon</th>\n",
              "      <th>weekday_Sat</th>\n",
              "      <th>weekday_Sun</th>\n",
              "      <th>weekday_Thur</th>\n",
              "      <th>weekday_Tue</th>\n",
              "      <th>weekday_Wed</th>\n",
              "      <th>season_Spring</th>\n",
              "      <th>season_Summer</th>\n",
              "      <th>season_Winter</th>\n",
              "      <th>weathersit_LightRain</th>\n",
              "      <th>weathersit_MistyWeather</th>\n",
              "    </tr>\n",
              "  </thead>\n",
              "  <tbody>\n",
              "    <tr>\n",
              "      <th>576</th>\n",
              "      <td>1</td>\n",
              "      <td>0</td>\n",
              "      <td>1</td>\n",
              "      <td>0.815169</td>\n",
              "      <td>0.725633</td>\n",
              "      <td>0.264686</td>\n",
              "      <td>0.827658</td>\n",
              "      <td>0</td>\n",
              "      <td>0</td>\n",
              "      <td>0</td>\n",
              "      <td>0</td>\n",
              "      <td>0</td>\n",
              "      <td>1</td>\n",
              "      <td>0</td>\n",
              "      <td>0</td>\n",
              "      <td>0</td>\n",
              "      <td>0</td>\n",
              "      <td>0</td>\n",
              "    </tr>\n",
              "    <tr>\n",
              "      <th>426</th>\n",
              "      <td>1</td>\n",
              "      <td>0</td>\n",
              "      <td>0</td>\n",
              "      <td>0.442393</td>\n",
              "      <td>0.640189</td>\n",
              "      <td>0.255342</td>\n",
              "      <td>0.465255</td>\n",
              "      <td>0</td>\n",
              "      <td>0</td>\n",
              "      <td>1</td>\n",
              "      <td>0</td>\n",
              "      <td>0</td>\n",
              "      <td>0</td>\n",
              "      <td>1</td>\n",
              "      <td>0</td>\n",
              "      <td>0</td>\n",
              "      <td>0</td>\n",
              "      <td>1</td>\n",
              "    </tr>\n",
              "    <tr>\n",
              "      <th>728</th>\n",
              "      <td>1</td>\n",
              "      <td>0</td>\n",
              "      <td>1</td>\n",
              "      <td>0.245101</td>\n",
              "      <td>0.498067</td>\n",
              "      <td>0.663106</td>\n",
              "      <td>0.204096</td>\n",
              "      <td>1</td>\n",
              "      <td>0</td>\n",
              "      <td>0</td>\n",
              "      <td>0</td>\n",
              "      <td>0</td>\n",
              "      <td>0</td>\n",
              "      <td>1</td>\n",
              "      <td>0</td>\n",
              "      <td>0</td>\n",
              "      <td>0</td>\n",
              "      <td>0</td>\n",
              "    </tr>\n",
              "    <tr>\n",
              "      <th>482</th>\n",
              "      <td>1</td>\n",
              "      <td>0</td>\n",
              "      <td>0</td>\n",
              "      <td>0.395666</td>\n",
              "      <td>0.504508</td>\n",
              "      <td>0.188475</td>\n",
              "      <td>0.482973</td>\n",
              "      <td>0</td>\n",
              "      <td>0</td>\n",
              "      <td>1</td>\n",
              "      <td>0</td>\n",
              "      <td>0</td>\n",
              "      <td>0</td>\n",
              "      <td>0</td>\n",
              "      <td>1</td>\n",
              "      <td>0</td>\n",
              "      <td>0</td>\n",
              "      <td>1</td>\n",
              "    </tr>\n",
              "    <tr>\n",
              "      <th>111</th>\n",
              "      <td>0</td>\n",
              "      <td>0</td>\n",
              "      <td>0</td>\n",
              "      <td>0.345824</td>\n",
              "      <td>0.751824</td>\n",
              "      <td>0.380981</td>\n",
              "      <td>0.191095</td>\n",
              "      <td>0</td>\n",
              "      <td>0</td>\n",
              "      <td>1</td>\n",
              "      <td>0</td>\n",
              "      <td>0</td>\n",
              "      <td>0</td>\n",
              "      <td>0</td>\n",
              "      <td>1</td>\n",
              "      <td>0</td>\n",
              "      <td>0</td>\n",
              "      <td>1</td>\n",
              "    </tr>\n",
              "  </tbody>\n",
              "</table>\n",
              "</div>"
            ],
            "text/plain": [
              "     yr  holiday  ...  weathersit_LightRain  weathersit_MistyWeather\n",
              "576   1        0  ...                     0                        0\n",
              "426   1        0  ...                     0                        1\n",
              "728   1        0  ...                     0                        0\n",
              "482   1        0  ...                     0                        1\n",
              "111   0        0  ...                     0                        1\n",
              "\n",
              "[5 rows x 18 columns]"
            ]
          },
          "metadata": {
            "tags": []
          },
          "execution_count": 32
        }
      ]
    },
    {
      "cell_type": "code",
      "metadata": {
        "id": "yq6zEEuHJzyn",
        "colab": {
          "base_uri": "https://localhost:8080/",
          "height": 315
        },
        "outputId": "6200c86f-a2b3-4396-8caf-9c4d39a22840"
      },
      "source": [
        "# check the description after scaling\n",
        "df_train.describe()"
      ],
      "execution_count": 33,
      "outputs": [
        {
          "output_type": "execute_result",
          "data": {
            "text/html": [
              "<div>\n",
              "<style scoped>\n",
              "    .dataframe tbody tr th:only-of-type {\n",
              "        vertical-align: middle;\n",
              "    }\n",
              "\n",
              "    .dataframe tbody tr th {\n",
              "        vertical-align: top;\n",
              "    }\n",
              "\n",
              "    .dataframe thead th {\n",
              "        text-align: right;\n",
              "    }\n",
              "</style>\n",
              "<table border=\"1\" class=\"dataframe\">\n",
              "  <thead>\n",
              "    <tr style=\"text-align: right;\">\n",
              "      <th></th>\n",
              "      <th>yr</th>\n",
              "      <th>holiday</th>\n",
              "      <th>workingday</th>\n",
              "      <th>temp</th>\n",
              "      <th>hum</th>\n",
              "      <th>windspeed</th>\n",
              "      <th>cnt</th>\n",
              "      <th>weekday_Mon</th>\n",
              "      <th>weekday_Sat</th>\n",
              "      <th>weekday_Sun</th>\n",
              "      <th>weekday_Thur</th>\n",
              "      <th>weekday_Tue</th>\n",
              "      <th>weekday_Wed</th>\n",
              "      <th>season_Spring</th>\n",
              "      <th>season_Summer</th>\n",
              "      <th>season_Winter</th>\n",
              "      <th>weathersit_LightRain</th>\n",
              "      <th>weathersit_MistyWeather</th>\n",
              "    </tr>\n",
              "  </thead>\n",
              "  <tbody>\n",
              "    <tr>\n",
              "      <th>count</th>\n",
              "      <td>510.000000</td>\n",
              "      <td>510.000000</td>\n",
              "      <td>510.000000</td>\n",
              "      <td>510.000000</td>\n",
              "      <td>510.000000</td>\n",
              "      <td>510.000000</td>\n",
              "      <td>510.000000</td>\n",
              "      <td>510.000000</td>\n",
              "      <td>510.000000</td>\n",
              "      <td>510.000000</td>\n",
              "      <td>510.000000</td>\n",
              "      <td>510.000000</td>\n",
              "      <td>510.000000</td>\n",
              "      <td>510.000000</td>\n",
              "      <td>510.000000</td>\n",
              "      <td>510.000000</td>\n",
              "      <td>510.000000</td>\n",
              "      <td>510.000000</td>\n",
              "    </tr>\n",
              "    <tr>\n",
              "      <th>mean</th>\n",
              "      <td>0.507843</td>\n",
              "      <td>0.025490</td>\n",
              "      <td>0.711765</td>\n",
              "      <td>0.537440</td>\n",
              "      <td>0.650480</td>\n",
              "      <td>0.320883</td>\n",
              "      <td>0.513499</td>\n",
              "      <td>0.154902</td>\n",
              "      <td>0.129412</td>\n",
              "      <td>0.137255</td>\n",
              "      <td>0.143137</td>\n",
              "      <td>0.152941</td>\n",
              "      <td>0.135294</td>\n",
              "      <td>0.243137</td>\n",
              "      <td>0.247059</td>\n",
              "      <td>0.247059</td>\n",
              "      <td>0.029412</td>\n",
              "      <td>0.345098</td>\n",
              "    </tr>\n",
              "    <tr>\n",
              "      <th>std</th>\n",
              "      <td>0.500429</td>\n",
              "      <td>0.157763</td>\n",
              "      <td>0.453386</td>\n",
              "      <td>0.225858</td>\n",
              "      <td>0.145846</td>\n",
              "      <td>0.169803</td>\n",
              "      <td>0.224421</td>\n",
              "      <td>0.362166</td>\n",
              "      <td>0.335985</td>\n",
              "      <td>0.344454</td>\n",
              "      <td>0.350557</td>\n",
              "      <td>0.360284</td>\n",
              "      <td>0.342373</td>\n",
              "      <td>0.429398</td>\n",
              "      <td>0.431725</td>\n",
              "      <td>0.431725</td>\n",
              "      <td>0.169124</td>\n",
              "      <td>0.475867</td>\n",
              "    </tr>\n",
              "    <tr>\n",
              "      <th>min</th>\n",
              "      <td>0.000000</td>\n",
              "      <td>0.000000</td>\n",
              "      <td>0.000000</td>\n",
              "      <td>0.000000</td>\n",
              "      <td>0.000000</td>\n",
              "      <td>0.000000</td>\n",
              "      <td>0.000000</td>\n",
              "      <td>0.000000</td>\n",
              "      <td>0.000000</td>\n",
              "      <td>0.000000</td>\n",
              "      <td>0.000000</td>\n",
              "      <td>0.000000</td>\n",
              "      <td>0.000000</td>\n",
              "      <td>0.000000</td>\n",
              "      <td>0.000000</td>\n",
              "      <td>0.000000</td>\n",
              "      <td>0.000000</td>\n",
              "      <td>0.000000</td>\n",
              "    </tr>\n",
              "    <tr>\n",
              "      <th>25%</th>\n",
              "      <td>0.000000</td>\n",
              "      <td>0.000000</td>\n",
              "      <td>0.000000</td>\n",
              "      <td>0.339853</td>\n",
              "      <td>0.538643</td>\n",
              "      <td>0.199179</td>\n",
              "      <td>0.356420</td>\n",
              "      <td>0.000000</td>\n",
              "      <td>0.000000</td>\n",
              "      <td>0.000000</td>\n",
              "      <td>0.000000</td>\n",
              "      <td>0.000000</td>\n",
              "      <td>0.000000</td>\n",
              "      <td>0.000000</td>\n",
              "      <td>0.000000</td>\n",
              "      <td>0.000000</td>\n",
              "      <td>0.000000</td>\n",
              "      <td>0.000000</td>\n",
              "    </tr>\n",
              "    <tr>\n",
              "      <th>50%</th>\n",
              "      <td>1.000000</td>\n",
              "      <td>0.000000</td>\n",
              "      <td>1.000000</td>\n",
              "      <td>0.542596</td>\n",
              "      <td>0.653714</td>\n",
              "      <td>0.296763</td>\n",
              "      <td>0.518638</td>\n",
              "      <td>0.000000</td>\n",
              "      <td>0.000000</td>\n",
              "      <td>0.000000</td>\n",
              "      <td>0.000000</td>\n",
              "      <td>0.000000</td>\n",
              "      <td>0.000000</td>\n",
              "      <td>0.000000</td>\n",
              "      <td>0.000000</td>\n",
              "      <td>0.000000</td>\n",
              "      <td>0.000000</td>\n",
              "      <td>0.000000</td>\n",
              "    </tr>\n",
              "    <tr>\n",
              "      <th>75%</th>\n",
              "      <td>1.000000</td>\n",
              "      <td>0.000000</td>\n",
              "      <td>1.000000</td>\n",
              "      <td>0.735215</td>\n",
              "      <td>0.754830</td>\n",
              "      <td>0.414447</td>\n",
              "      <td>0.684710</td>\n",
              "      <td>0.000000</td>\n",
              "      <td>0.000000</td>\n",
              "      <td>0.000000</td>\n",
              "      <td>0.000000</td>\n",
              "      <td>0.000000</td>\n",
              "      <td>0.000000</td>\n",
              "      <td>0.000000</td>\n",
              "      <td>0.000000</td>\n",
              "      <td>0.000000</td>\n",
              "      <td>0.000000</td>\n",
              "      <td>1.000000</td>\n",
              "    </tr>\n",
              "    <tr>\n",
              "      <th>max</th>\n",
              "      <td>1.000000</td>\n",
              "      <td>1.000000</td>\n",
              "      <td>1.000000</td>\n",
              "      <td>1.000000</td>\n",
              "      <td>1.000000</td>\n",
              "      <td>1.000000</td>\n",
              "      <td>1.000000</td>\n",
              "      <td>1.000000</td>\n",
              "      <td>1.000000</td>\n",
              "      <td>1.000000</td>\n",
              "      <td>1.000000</td>\n",
              "      <td>1.000000</td>\n",
              "      <td>1.000000</td>\n",
              "      <td>1.000000</td>\n",
              "      <td>1.000000</td>\n",
              "      <td>1.000000</td>\n",
              "      <td>1.000000</td>\n",
              "      <td>1.000000</td>\n",
              "    </tr>\n",
              "  </tbody>\n",
              "</table>\n",
              "</div>"
            ],
            "text/plain": [
              "               yr     holiday  ...  weathersit_LightRain  weathersit_MistyWeather\n",
              "count  510.000000  510.000000  ...            510.000000               510.000000\n",
              "mean     0.507843    0.025490  ...              0.029412                 0.345098\n",
              "std      0.500429    0.157763  ...              0.169124                 0.475867\n",
              "min      0.000000    0.000000  ...              0.000000                 0.000000\n",
              "25%      0.000000    0.000000  ...              0.000000                 0.000000\n",
              "50%      1.000000    0.000000  ...              0.000000                 0.000000\n",
              "75%      1.000000    0.000000  ...              0.000000                 1.000000\n",
              "max      1.000000    1.000000  ...              1.000000                 1.000000\n",
              "\n",
              "[8 rows x 18 columns]"
            ]
          },
          "metadata": {
            "tags": []
          },
          "execution_count": 33
        }
      ]
    },
    {
      "cell_type": "code",
      "metadata": {
        "colab": {
          "base_uri": "https://localhost:8080/",
          "height": 992
        },
        "id": "-XU8E5TQ9OeU",
        "outputId": "9e9c5617-c274-4060-8284-c6ff41ee359d"
      },
      "source": [
        "plt.figure(figsize=(32,20))\n",
        "\n",
        "\n",
        "mask = np.array(bikedata.corr())\n",
        "mask[np.tril_indices_from(mask)] = False\n",
        "sns.heatmap(bikedata.corr(), mask=mask, vmax=.7, square=True, annot=True, cmap = \"YlGnBu\");\n"
      ],
      "execution_count": 34,
      "outputs": [
        {
          "output_type": "display_data",
          "data": {
            "image/png": "[encoded data removed]",
            "text/plain": [
              "<Figure size 2304x1440 with 2 Axes>"
            ]
          },
          "metadata": {
            "tags": [],
            "needs_background": "light"
          }
        }
      ]
    },
    {
      "cell_type": "markdown",
      "metadata": {
        "id": "yj8tqmFeJzyn"
      },
      "source": [
        "# <span style=\"color:IndianRed ;\">7. Model building\n",
        "Fit a regression line through the training data using `statsmodels`."
      ]
    },
    {
      "cell_type": "markdown",
      "metadata": {
        "id": "xhYBYizKp4KF"
      },
      "source": [
        "### Dividing into X and Y sets for the model building"
      ]
    },
    {
      "cell_type": "code",
      "metadata": {
        "id": "rXh3WDRPp4KG"
      },
      "source": [
        "y_train = df_train.pop('cnt')\n",
        "X_train = df_train"
      ],
      "execution_count": 35,
      "outputs": []
    },
    {
      "cell_type": "markdown",
      "metadata": {
        "id": "OqcA5-z0HuNT"
      },
      "source": [
        "##Machine Learning Model 1"
      ]
    },
    {
      "cell_type": "code",
      "metadata": {
        "colab": {
          "base_uri": "https://localhost:8080/"
        },
        "id": "b0AF4dJRLwdD",
        "outputId": "43783c59-5fbb-46ef-d60b-66b87a10c4cd"
      },
      "source": [
        "#Build a linear model\n",
        "X_train_lm_0 = sm.add_constant(X_train)\n",
        "\n",
        "lr_1 = sm.OLS(y_train, X_train_lm_0).fit()\n",
        "lr_1.params\n",
        "\n",
        "print(lr_1.summary())"
      ],
      "execution_count": 36,
      "outputs": [
        {
          "output_type": "stream",
          "text": [
            "                            OLS Regression Results                            \n",
            "==============================================================================\n",
            "Dep. Variable:                    cnt   R-squared:                       0.831\n",
            "Model:                            OLS   Adj. R-squared:                  0.825\n",
            "Method:                 Least Squares   F-statistic:                     142.5\n",
            "Date:                Sat, 31 Jul 2021   Prob (F-statistic):          1.43e-177\n",
            "Time:                        21:28:33   Log-Likelihood:                 492.60\n",
            "No. Observations:                 510   AIC:                            -949.2\n",
            "Df Residuals:                     492   BIC:                            -873.0\n",
            "Df Model:                          17                                         \n",
            "Covariance Type:            nonrobust                                         \n",
            "===========================================================================================\n",
            "                              coef    std err          t      P>|t|      [0.025      0.975]\n",
            "-------------------------------------------------------------------------------------------\n",
            "const                       0.3776      0.084      4.490      0.000       0.212       0.543\n",
            "yr                          0.2303      0.008     27.187      0.000       0.214       0.247\n",
            "holiday                    -0.1502      0.068     -2.219      0.027      -0.283      -0.017\n",
            "workingday                 -0.0794      0.074     -1.074      0.283      -0.224       0.066\n",
            "temp                        0.4911      0.035     14.225      0.000       0.423       0.559\n",
            "hum                        -0.1331      0.039     -3.399      0.001      -0.210      -0.056\n",
            "windspeed                  -0.1771      0.027     -6.593      0.000      -0.230      -0.124\n",
            "weekday_Mon                -0.0274      0.015     -1.808      0.071      -0.057       0.002\n",
            "weekday_Sat                -0.0750      0.074     -1.007      0.314      -0.221       0.071\n",
            "weekday_Sun                -0.0704      0.075     -0.945      0.345      -0.217       0.076\n",
            "weekday_Thur                0.0039      0.016      0.253      0.800      -0.027       0.035\n",
            "weekday_Tue                -0.0293      0.015     -1.917      0.056      -0.059       0.001\n",
            "weekday_Wed                -0.0110      0.016     -0.691      0.490      -0.042       0.020\n",
            "season_Spring              -0.0765      0.021     -3.699      0.000      -0.117      -0.036\n",
            "season_Summer               0.0429      0.014      3.093      0.002       0.016       0.070\n",
            "season_Winter               0.0893      0.017      5.259      0.000       0.056       0.123\n",
            "weathersit_LightRain       -0.2443      0.028     -8.856      0.000      -0.298      -0.190\n",
            "weathersit_MistyWeather    -0.0552      0.011     -5.028      0.000      -0.077      -0.034\n",
            "==============================================================================\n",
            "Omnibus:                       68.034   Durbin-Watson:                   2.020\n",
            "Prob(Omnibus):                  0.000   Jarque-Bera (JB):              170.231\n",
            "Skew:                          -0.683   Prob(JB):                     1.08e-37\n",
            "Kurtosis:                       5.478   Cond. No.                         68.6\n",
            "==============================================================================\n",
            "\n",
            "Warnings:\n",
            "[1] Standard Errors assume that the covariance matrix of the errors is correctly specified.\n"
          ],
          "name": "stdout"
        }
      ]
    },
    {
      "cell_type": "code",
      "metadata": {
        "colab": {
          "base_uri": "https://localhost:8080/"
        },
        "id": "Fkg7hDtfHuQr",
        "outputId": "d7ac1bdb-8c85-4307-b2be-e15980a2bf39"
      },
      "source": [
        "print(lr_1.summary())"
      ],
      "execution_count": 37,
      "outputs": [
        {
          "output_type": "stream",
          "text": [
            "                            OLS Regression Results                            \n",
            "==============================================================================\n",
            "Dep. Variable:                    cnt   R-squared:                       0.831\n",
            "Model:                            OLS   Adj. R-squared:                  0.825\n",
            "Method:                 Least Squares   F-statistic:                     142.5\n",
            "Date:                Sat, 31 Jul 2021   Prob (F-statistic):          1.43e-177\n",
            "Time:                        21:28:34   Log-Likelihood:                 492.60\n",
            "No. Observations:                 510   AIC:                            -949.2\n",
            "Df Residuals:                     492   BIC:                            -873.0\n",
            "Df Model:                          17                                         \n",
            "Covariance Type:            nonrobust                                         \n",
            "===========================================================================================\n",
            "                              coef    std err          t      P>|t|      [0.025      0.975]\n",
            "-------------------------------------------------------------------------------------------\n",
            "const                       0.3776      0.084      4.490      0.000       0.212       0.543\n",
            "yr                          0.2303      0.008     27.187      0.000       0.214       0.247\n",
            "holiday                    -0.1502      0.068     -2.219      0.027      -0.283      -0.017\n",
            "workingday                 -0.0794      0.074     -1.074      0.283      -0.224       0.066\n",
            "temp                        0.4911      0.035     14.225      0.000       0.423       0.559\n",
            "hum                        -0.1331      0.039     -3.399      0.001      -0.210      -0.056\n",
            "windspeed                  -0.1771      0.027     -6.593      0.000      -0.230      -0.124\n",
            "weekday_Mon                -0.0274      0.015     -1.808      0.071      -0.057       0.002\n",
            "weekday_Sat                -0.0750      0.074     -1.007      0.314      -0.221       0.071\n",
            "weekday_Sun                -0.0704      0.075     -0.945      0.345      -0.217       0.076\n",
            "weekday_Thur                0.0039      0.016      0.253      0.800      -0.027       0.035\n",
            "weekday_Tue                -0.0293      0.015     -1.917      0.056      -0.059       0.001\n",
            "weekday_Wed                -0.0110      0.016     -0.691      0.490      -0.042       0.020\n",
            "season_Spring              -0.0765      0.021     -3.699      0.000      -0.117      -0.036\n",
            "season_Summer               0.0429      0.014      3.093      0.002       0.016       0.070\n",
            "season_Winter               0.0893      0.017      5.259      0.000       0.056       0.123\n",
            "weathersit_LightRain       -0.2443      0.028     -8.856      0.000      -0.298      -0.190\n",
            "weathersit_MistyWeather    -0.0552      0.011     -5.028      0.000      -0.077      -0.034\n",
            "==============================================================================\n",
            "Omnibus:                       68.034   Durbin-Watson:                   2.020\n",
            "Prob(Omnibus):                  0.000   Jarque-Bera (JB):              170.231\n",
            "Skew:                          -0.683   Prob(JB):                     1.08e-37\n",
            "Kurtosis:                       5.478   Cond. No.                         68.6\n",
            "==============================================================================\n",
            "\n",
            "Warnings:\n",
            "[1] Standard Errors assume that the covariance matrix of the errors is correctly specified.\n"
          ],
          "name": "stdout"
        }
      ]
    },
    {
      "cell_type": "code",
      "metadata": {
        "colab": {
          "base_uri": "https://localhost:8080/",
          "height": 573
        },
        "id": "suQRgRQa-ry0",
        "outputId": "cabb7dd4-c85c-4503-9830-f175e386dcc3"
      },
      "source": [
        "# Create a dataframe that will contain the names of all the feature variables and their respective VIFs\n",
        "vif = pd.DataFrame()\n",
        "vif['Features'] = X_train.columns\n",
        "vif['VIF'] = [variance_inflation_factor(X_train.values, i) for i in range(X_train.shape[1])]\n",
        "vif['VIF'] = round(vif['VIF'], 2)\n",
        "vif = vif.sort_values(by = \"VIF\", ascending = False)\n",
        "vif"
      ],
      "execution_count": 38,
      "outputs": [
        {
          "output_type": "execute_result",
          "data": {
            "text/html": [
              "<div>\n",
              "<style scoped>\n",
              "    .dataframe tbody tr th:only-of-type {\n",
              "        vertical-align: middle;\n",
              "    }\n",
              "\n",
              "    .dataframe tbody tr th {\n",
              "        vertical-align: top;\n",
              "    }\n",
              "\n",
              "    .dataframe thead th {\n",
              "        text-align: right;\n",
              "    }\n",
              "</style>\n",
              "<table border=\"1\" class=\"dataframe\">\n",
              "  <thead>\n",
              "    <tr style=\"text-align: right;\">\n",
              "      <th></th>\n",
              "      <th>Features</th>\n",
              "      <th>VIF</th>\n",
              "    </tr>\n",
              "  </thead>\n",
              "  <tbody>\n",
              "    <tr>\n",
              "      <th>2</th>\n",
              "      <td>workingday</td>\n",
              "      <td>43.90</td>\n",
              "    </tr>\n",
              "    <tr>\n",
              "      <th>4</th>\n",
              "      <td>hum</td>\n",
              "      <td>36.54</td>\n",
              "    </tr>\n",
              "    <tr>\n",
              "      <th>3</th>\n",
              "      <td>temp</td>\n",
              "      <td>21.63</td>\n",
              "    </tr>\n",
              "    <tr>\n",
              "      <th>8</th>\n",
              "      <td>weekday_Sun</td>\n",
              "      <td>8.43</td>\n",
              "    </tr>\n",
              "    <tr>\n",
              "      <th>7</th>\n",
              "      <td>weekday_Sat</td>\n",
              "      <td>8.09</td>\n",
              "    </tr>\n",
              "    <tr>\n",
              "      <th>12</th>\n",
              "      <td>season_Spring</td>\n",
              "      <td>5.47</td>\n",
              "    </tr>\n",
              "    <tr>\n",
              "      <th>5</th>\n",
              "      <td>windspeed</td>\n",
              "      <td>5.41</td>\n",
              "    </tr>\n",
              "    <tr>\n",
              "      <th>14</th>\n",
              "      <td>season_Winter</td>\n",
              "      <td>4.00</td>\n",
              "    </tr>\n",
              "    <tr>\n",
              "      <th>13</th>\n",
              "      <td>season_Summer</td>\n",
              "      <td>2.65</td>\n",
              "    </tr>\n",
              "    <tr>\n",
              "      <th>16</th>\n",
              "      <td>weathersit_MistyWeather</td>\n",
              "      <td>2.40</td>\n",
              "    </tr>\n",
              "    <tr>\n",
              "      <th>1</th>\n",
              "      <td>holiday</td>\n",
              "      <td>2.17</td>\n",
              "    </tr>\n",
              "    <tr>\n",
              "      <th>0</th>\n",
              "      <td>yr</td>\n",
              "      <td>2.09</td>\n",
              "    </tr>\n",
              "    <tr>\n",
              "      <th>10</th>\n",
              "      <td>weekday_Tue</td>\n",
              "      <td>2.05</td>\n",
              "    </tr>\n",
              "    <tr>\n",
              "      <th>6</th>\n",
              "      <td>weekday_Mon</td>\n",
              "      <td>2.05</td>\n",
              "    </tr>\n",
              "    <tr>\n",
              "      <th>9</th>\n",
              "      <td>weekday_Thur</td>\n",
              "      <td>2.00</td>\n",
              "    </tr>\n",
              "    <tr>\n",
              "      <th>11</th>\n",
              "      <td>weekday_Wed</td>\n",
              "      <td>1.94</td>\n",
              "    </tr>\n",
              "    <tr>\n",
              "      <th>15</th>\n",
              "      <td>weathersit_LightRain</td>\n",
              "      <td>1.29</td>\n",
              "    </tr>\n",
              "  </tbody>\n",
              "</table>\n",
              "</div>"
            ],
            "text/plain": [
              "                   Features    VIF\n",
              "2                workingday  43.90\n",
              "4                       hum  36.54\n",
              "3                      temp  21.63\n",
              "8               weekday_Sun   8.43\n",
              "7               weekday_Sat   8.09\n",
              "12            season_Spring   5.47\n",
              "5                 windspeed   5.41\n",
              "14            season_Winter   4.00\n",
              "13            season_Summer   2.65\n",
              "16  weathersit_MistyWeather   2.40\n",
              "1                   holiday   2.17\n",
              "0                        yr   2.09\n",
              "10              weekday_Tue   2.05\n",
              "6               weekday_Mon   2.05\n",
              "9              weekday_Thur   2.00\n",
              "11              weekday_Wed   1.94\n",
              "15     weathersit_LightRain   1.29"
            ]
          },
          "metadata": {
            "tags": []
          },
          "execution_count": 38
        }
      ]
    },
    {
      "cell_type": "markdown",
      "metadata": {
        "id": "CIrVGPuHTJyz"
      },
      "source": [
        "##Machine Learning Model 2"
      ]
    },
    {
      "cell_type": "code",
      "metadata": {
        "colab": {
          "base_uri": "https://localhost:8080/"
        },
        "id": "-qqfZzc1-r2-",
        "outputId": "88c348a4-be7f-43da-a156-c4ae01b41a82"
      },
      "source": [
        "# drop the variable weekday_Sun\n",
        "X_train_lm_1 = X_train_lm_0.drop(['weekday_Sun'],axis = 1)\n",
        "\n",
        "#Rebuilding model without weekday_Sun\n",
        "X_train_lm_0 = sm.add_constant(X_train_lm_1)\n",
        "\n",
        "lm = sm.OLS(y_train.astype(float), X_train_lm_0.astype(float)).fit()\n",
        "\n",
        "#summary\n",
        "print (lm.summary())"
      ],
      "execution_count": 39,
      "outputs": [
        {
          "output_type": "stream",
          "text": [
            "                            OLS Regression Results                            \n",
            "==============================================================================\n",
            "Dep. Variable:                    cnt   R-squared:                       0.831\n",
            "Model:                            OLS   Adj. R-squared:                  0.825\n",
            "Method:                 Least Squares   F-statistic:                     151.4\n",
            "Date:                Sat, 31 Jul 2021   Prob (F-statistic):          1.78e-178\n",
            "Time:                        21:28:34   Log-Likelihood:                 492.14\n",
            "No. Observations:                 510   AIC:                            -950.3\n",
            "Df Residuals:                     493   BIC:                            -878.3\n",
            "Df Model:                          16                                         \n",
            "Covariance Type:            nonrobust                                         \n",
            "===========================================================================================\n",
            "                              coef    std err          t      P>|t|      [0.025      0.975]\n",
            "-------------------------------------------------------------------------------------------\n",
            "const                       0.3062      0.037      8.337      0.000       0.234       0.378\n",
            "yr                          0.2307      0.008     27.287      0.000       0.214       0.247\n",
            "holiday                    -0.0929      0.030     -3.087      0.002      -0.152      -0.034\n",
            "workingday                 -0.0111      0.016     -0.716      0.474      -0.042       0.019\n",
            "temp                        0.4919      0.035     14.258      0.000       0.424       0.560\n",
            "hum                        -0.1312      0.039     -3.356      0.001      -0.208      -0.054\n",
            "windspeed                  -0.1779      0.027     -6.627      0.000      -0.231      -0.125\n",
            "weekday_Mon                -0.0260      0.015     -1.721      0.086      -0.056       0.004\n",
            "weekday_Sat                -0.0063      0.016     -0.394      0.694      -0.038       0.025\n",
            "weekday_Thur                0.0053      0.016      0.344      0.731      -0.025       0.036\n",
            "weekday_Tue                -0.0275      0.015     -1.812      0.071      -0.057       0.002\n",
            "weekday_Wed                -0.0085      0.016     -0.541      0.589      -0.039       0.022\n",
            "season_Spring              -0.0755      0.021     -3.657      0.000      -0.116      -0.035\n",
            "season_Summer               0.0430      0.014      3.107      0.002       0.016       0.070\n",
            "season_Winter               0.0887      0.017      5.228      0.000       0.055       0.122\n",
            "weathersit_LightRain       -0.2438      0.028     -8.840      0.000      -0.298      -0.190\n",
            "weathersit_MistyWeather    -0.0552      0.011     -5.027      0.000      -0.077      -0.034\n",
            "==============================================================================\n",
            "Omnibus:                       68.039   Durbin-Watson:                   2.022\n",
            "Prob(Omnibus):                  0.000   Jarque-Bera (JB):              166.184\n",
            "Skew:                          -0.691   Prob(JB):                     8.19e-37\n",
            "Kurtosis:                       5.431   Cond. No.                         21.8\n",
            "==============================================================================\n",
            "\n",
            "Warnings:\n",
            "[1] Standard Errors assume that the covariance matrix of the errors is correctly specified.\n"
          ],
          "name": "stdout"
        }
      ]
    },
    {
      "cell_type": "code",
      "metadata": {
        "colab": {
          "base_uri": "https://localhost:8080/",
          "height": 573
        },
        "id": "vnJlwHWOHtn7",
        "outputId": "0c26a8f6-13e9-4784-db21-cf5df42b525c"
      },
      "source": [
        "# Create a dataframe that will contain the names of all the feature variables and their respective VIFs\n",
        "\n",
        "vif = pd.DataFrame()\n",
        "vif['Features'] = X_train_lm_1.columns\n",
        "vif['VIF'] = [variance_inflation_factor(X_train_lm_1.values.astype(float),i) for i in range(X_train_lm_1.shape[1])]\n",
        "vif['VIF'] = round(vif['VIF'],2)\n",
        "vif = vif.sort_values(by = 'VIF',ascending = False)\n",
        "vif"
      ],
      "execution_count": 40,
      "outputs": [
        {
          "output_type": "execute_result",
          "data": {
            "text/html": [
              "<div>\n",
              "<style scoped>\n",
              "    .dataframe tbody tr th:only-of-type {\n",
              "        vertical-align: middle;\n",
              "    }\n",
              "\n",
              "    .dataframe tbody tr th {\n",
              "        vertical-align: top;\n",
              "    }\n",
              "\n",
              "    .dataframe thead th {\n",
              "        text-align: right;\n",
              "    }\n",
              "</style>\n",
              "<table border=\"1\" class=\"dataframe\">\n",
              "  <thead>\n",
              "    <tr style=\"text-align: right;\">\n",
              "      <th></th>\n",
              "      <th>Features</th>\n",
              "      <th>VIF</th>\n",
              "    </tr>\n",
              "  </thead>\n",
              "  <tbody>\n",
              "    <tr>\n",
              "      <th>0</th>\n",
              "      <td>const</td>\n",
              "      <td>78.23</td>\n",
              "    </tr>\n",
              "    <tr>\n",
              "      <th>12</th>\n",
              "      <td>season_Spring</td>\n",
              "      <td>4.55</td>\n",
              "    </tr>\n",
              "    <tr>\n",
              "      <th>4</th>\n",
              "      <td>temp</td>\n",
              "      <td>3.52</td>\n",
              "    </tr>\n",
              "    <tr>\n",
              "      <th>14</th>\n",
              "      <td>season_Winter</td>\n",
              "      <td>3.10</td>\n",
              "    </tr>\n",
              "    <tr>\n",
              "      <th>3</th>\n",
              "      <td>workingday</td>\n",
              "      <td>2.88</td>\n",
              "    </tr>\n",
              "    <tr>\n",
              "      <th>13</th>\n",
              "      <td>season_Summer</td>\n",
              "      <td>2.07</td>\n",
              "    </tr>\n",
              "    <tr>\n",
              "      <th>5</th>\n",
              "      <td>hum</td>\n",
              "      <td>1.88</td>\n",
              "    </tr>\n",
              "    <tr>\n",
              "      <th>10</th>\n",
              "      <td>weekday_Tue</td>\n",
              "      <td>1.73</td>\n",
              "    </tr>\n",
              "    <tr>\n",
              "      <th>7</th>\n",
              "      <td>weekday_Mon</td>\n",
              "      <td>1.73</td>\n",
              "    </tr>\n",
              "    <tr>\n",
              "      <th>9</th>\n",
              "      <td>weekday_Thur</td>\n",
              "      <td>1.71</td>\n",
              "    </tr>\n",
              "    <tr>\n",
              "      <th>8</th>\n",
              "      <td>weekday_Sat</td>\n",
              "      <td>1.68</td>\n",
              "    </tr>\n",
              "    <tr>\n",
              "      <th>11</th>\n",
              "      <td>weekday_Wed</td>\n",
              "      <td>1.67</td>\n",
              "    </tr>\n",
              "    <tr>\n",
              "      <th>16</th>\n",
              "      <td>weathersit_MistyWeather</td>\n",
              "      <td>1.58</td>\n",
              "    </tr>\n",
              "    <tr>\n",
              "      <th>2</th>\n",
              "      <td>holiday</td>\n",
              "      <td>1.31</td>\n",
              "    </tr>\n",
              "    <tr>\n",
              "      <th>15</th>\n",
              "      <td>weathersit_LightRain</td>\n",
              "      <td>1.26</td>\n",
              "    </tr>\n",
              "    <tr>\n",
              "      <th>6</th>\n",
              "      <td>windspeed</td>\n",
              "      <td>1.20</td>\n",
              "    </tr>\n",
              "    <tr>\n",
              "      <th>1</th>\n",
              "      <td>yr</td>\n",
              "      <td>1.04</td>\n",
              "    </tr>\n",
              "  </tbody>\n",
              "</table>\n",
              "</div>"
            ],
            "text/plain": [
              "                   Features    VIF\n",
              "0                     const  78.23\n",
              "12            season_Spring   4.55\n",
              "4                      temp   3.52\n",
              "14            season_Winter   3.10\n",
              "3                workingday   2.88\n",
              "13            season_Summer   2.07\n",
              "5                       hum   1.88\n",
              "10              weekday_Tue   1.73\n",
              "7               weekday_Mon   1.73\n",
              "9              weekday_Thur   1.71\n",
              "8               weekday_Sat   1.68\n",
              "11              weekday_Wed   1.67\n",
              "16  weathersit_MistyWeather   1.58\n",
              "2                   holiday   1.31\n",
              "15     weathersit_LightRain   1.26\n",
              "6                 windspeed   1.20\n",
              "1                        yr   1.04"
            ]
          },
          "metadata": {
            "tags": []
          },
          "execution_count": 40
        }
      ]
    },
    {
      "cell_type": "markdown",
      "metadata": {
        "id": "D9Xme3ABTNdG"
      },
      "source": [
        "##Machine Learning Model 3"
      ]
    },
    {
      "cell_type": "code",
      "metadata": {
        "colab": {
          "base_uri": "https://localhost:8080/"
        },
        "id": "yxYdMIf-QFCS",
        "outputId": "b6525123-d5ab-4bfc-d249-0b5ace43c4f9"
      },
      "source": [
        "# drop the variable weekday_Thur\n",
        "X_train_lm_2 = X_train_lm_1.drop(['weekday_Thur'],axis = 1)\n",
        "\n",
        "#Rebuilding model without weekday_Thur\n",
        "X_train_lm_1 = sm.add_constant(X_train_lm_2)\n",
        "\n",
        "lm = sm.OLS(y_train.astype(float), X_train_lm_1.astype(float)).fit()\n",
        "\n",
        "#summary\n",
        "print (lm.summary())"
      ],
      "execution_count": 41,
      "outputs": [
        {
          "output_type": "stream",
          "text": [
            "                            OLS Regression Results                            \n",
            "==============================================================================\n",
            "Dep. Variable:                    cnt   R-squared:                       0.831\n",
            "Model:                            OLS   Adj. R-squared:                  0.826\n",
            "Method:                 Least Squares   F-statistic:                     161.8\n",
            "Date:                Sat, 31 Jul 2021   Prob (F-statistic):          1.46e-179\n",
            "Time:                        21:28:34   Log-Likelihood:                 492.08\n",
            "No. Observations:                 510   AIC:                            -952.2\n",
            "Df Residuals:                     494   BIC:                            -884.4\n",
            "Df Model:                          15                                         \n",
            "Covariance Type:            nonrobust                                         \n",
            "===========================================================================================\n",
            "                              coef    std err          t      P>|t|      [0.025      0.975]\n",
            "-------------------------------------------------------------------------------------------\n",
            "const                       0.3063      0.037      8.351      0.000       0.234       0.378\n",
            "yr                          0.2308      0.008     27.339      0.000       0.214       0.247\n",
            "holiday                    -0.0910      0.030     -3.081      0.002      -0.149      -0.033\n",
            "workingday                 -0.0086      0.014     -0.628      0.530      -0.035       0.018\n",
            "temp                        0.4922      0.034     14.280      0.000       0.424       0.560\n",
            "hum                        -0.1316      0.039     -3.370      0.001      -0.208      -0.055\n",
            "windspeed                  -0.1780      0.027     -6.638      0.000      -0.231      -0.125\n",
            "weekday_Mon                -0.0286      0.013     -2.186      0.029      -0.054      -0.003\n",
            "weekday_Sat                -0.0063      0.016     -0.396      0.692      -0.038       0.025\n",
            "weekday_Tue                -0.0301      0.013     -2.286      0.023      -0.056      -0.004\n",
            "weekday_Wed                -0.0110      0.014     -0.796      0.426      -0.038       0.016\n",
            "season_Spring              -0.0756      0.021     -3.665      0.000      -0.116      -0.035\n",
            "season_Summer               0.0432      0.014      3.120      0.002       0.016       0.070\n",
            "season_Winter               0.0886      0.017      5.230      0.000       0.055       0.122\n",
            "weathersit_LightRain       -0.2446      0.027     -8.909      0.000      -0.298      -0.191\n",
            "weathersit_MistyWeather    -0.0553      0.011     -5.042      0.000      -0.077      -0.034\n",
            "==============================================================================\n",
            "Omnibus:                       68.294   Durbin-Watson:                   2.023\n",
            "Prob(Omnibus):                  0.000   Jarque-Bera (JB):              167.029\n",
            "Skew:                          -0.693   Prob(JB):                     5.37e-37\n",
            "Kurtosis:                       5.437   Cond. No.                         21.7\n",
            "==============================================================================\n",
            "\n",
            "Warnings:\n",
            "[1] Standard Errors assume that the covariance matrix of the errors is correctly specified.\n"
          ],
          "name": "stdout"
        }
      ]
    },
    {
      "cell_type": "code",
      "metadata": {
        "colab": {
          "base_uri": "https://localhost:8080/",
          "height": 542
        },
        "id": "c_tsOBJnQFGm",
        "outputId": "80f0919f-6669-4ebe-b7ed-933d32b5c6f8"
      },
      "source": [
        "# Create a dataframe that will contain the names of all the feature variables and their respective VIFs\n",
        "\n",
        "vif = pd.DataFrame()\n",
        "vif['Features'] = X_train_lm_2.columns\n",
        "vif['VIF'] = [variance_inflation_factor(X_train_lm_2.values.astype(float),i) for i in range(X_train_lm_2.shape[1])]\n",
        "vif['VIF'] = round(vif['VIF'],2)\n",
        "vif = vif.sort_values(by = 'VIF',ascending = False)\n",
        "vif"
      ],
      "execution_count": 42,
      "outputs": [
        {
          "output_type": "execute_result",
          "data": {
            "text/html": [
              "<div>\n",
              "<style scoped>\n",
              "    .dataframe tbody tr th:only-of-type {\n",
              "        vertical-align: middle;\n",
              "    }\n",
              "\n",
              "    .dataframe tbody tr th {\n",
              "        vertical-align: top;\n",
              "    }\n",
              "\n",
              "    .dataframe thead th {\n",
              "        text-align: right;\n",
              "    }\n",
              "</style>\n",
              "<table border=\"1\" class=\"dataframe\">\n",
              "  <thead>\n",
              "    <tr style=\"text-align: right;\">\n",
              "      <th></th>\n",
              "      <th>Features</th>\n",
              "      <th>VIF</th>\n",
              "    </tr>\n",
              "  </thead>\n",
              "  <tbody>\n",
              "    <tr>\n",
              "      <th>0</th>\n",
              "      <td>const</td>\n",
              "      <td>78.21</td>\n",
              "    </tr>\n",
              "    <tr>\n",
              "      <th>11</th>\n",
              "      <td>season_Spring</td>\n",
              "      <td>4.55</td>\n",
              "    </tr>\n",
              "    <tr>\n",
              "      <th>4</th>\n",
              "      <td>temp</td>\n",
              "      <td>3.51</td>\n",
              "    </tr>\n",
              "    <tr>\n",
              "      <th>13</th>\n",
              "      <td>season_Winter</td>\n",
              "      <td>3.10</td>\n",
              "    </tr>\n",
              "    <tr>\n",
              "      <th>3</th>\n",
              "      <td>workingday</td>\n",
              "      <td>2.21</td>\n",
              "    </tr>\n",
              "    <tr>\n",
              "      <th>12</th>\n",
              "      <td>season_Summer</td>\n",
              "      <td>2.07</td>\n",
              "    </tr>\n",
              "    <tr>\n",
              "      <th>5</th>\n",
              "      <td>hum</td>\n",
              "      <td>1.88</td>\n",
              "    </tr>\n",
              "    <tr>\n",
              "      <th>8</th>\n",
              "      <td>weekday_Sat</td>\n",
              "      <td>1.68</td>\n",
              "    </tr>\n",
              "    <tr>\n",
              "      <th>15</th>\n",
              "      <td>weathersit_MistyWeather</td>\n",
              "      <td>1.58</td>\n",
              "    </tr>\n",
              "    <tr>\n",
              "      <th>7</th>\n",
              "      <td>weekday_Mon</td>\n",
              "      <td>1.30</td>\n",
              "    </tr>\n",
              "    <tr>\n",
              "      <th>9</th>\n",
              "      <td>weekday_Tue</td>\n",
              "      <td>1.30</td>\n",
              "    </tr>\n",
              "    <tr>\n",
              "      <th>10</th>\n",
              "      <td>weekday_Wed</td>\n",
              "      <td>1.30</td>\n",
              "    </tr>\n",
              "    <tr>\n",
              "      <th>2</th>\n",
              "      <td>holiday</td>\n",
              "      <td>1.26</td>\n",
              "    </tr>\n",
              "    <tr>\n",
              "      <th>14</th>\n",
              "      <td>weathersit_LightRain</td>\n",
              "      <td>1.25</td>\n",
              "    </tr>\n",
              "    <tr>\n",
              "      <th>6</th>\n",
              "      <td>windspeed</td>\n",
              "      <td>1.20</td>\n",
              "    </tr>\n",
              "    <tr>\n",
              "      <th>1</th>\n",
              "      <td>yr</td>\n",
              "      <td>1.04</td>\n",
              "    </tr>\n",
              "  </tbody>\n",
              "</table>\n",
              "</div>"
            ],
            "text/plain": [
              "                   Features    VIF\n",
              "0                     const  78.21\n",
              "11            season_Spring   4.55\n",
              "4                      temp   3.51\n",
              "13            season_Winter   3.10\n",
              "3                workingday   2.21\n",
              "12            season_Summer   2.07\n",
              "5                       hum   1.88\n",
              "8               weekday_Sat   1.68\n",
              "15  weathersit_MistyWeather   1.58\n",
              "7               weekday_Mon   1.30\n",
              "9               weekday_Tue   1.30\n",
              "10              weekday_Wed   1.30\n",
              "2                   holiday   1.26\n",
              "14     weathersit_LightRain   1.25\n",
              "6                 windspeed   1.20\n",
              "1                        yr   1.04"
            ]
          },
          "metadata": {
            "tags": []
          },
          "execution_count": 42
        }
      ]
    },
    {
      "cell_type": "markdown",
      "metadata": {
        "id": "7oufQGq1TQlk"
      },
      "source": [
        "##Machine Learning Model 4"
      ]
    },
    {
      "cell_type": "code",
      "metadata": {
        "colab": {
          "base_uri": "https://localhost:8080/"
        },
        "id": "uizE1MZKQTvv",
        "outputId": "4f57c977-650c-49f8-8f88-fd2245e8005b"
      },
      "source": [
        "# drop the variable weekday_Sat\n",
        "X_train_lm_3 = X_train_lm_2.drop(['weekday_Sat'],axis = 1)\n",
        "\n",
        "#Rebuilding model without weekday_Sat\n",
        "X_train_lm_2 = sm.add_constant(X_train_lm_3)\n",
        "\n",
        "lm = sm.OLS(y_train.astype(float), X_train_lm_2.astype(float)).fit()\n",
        "\n",
        "#summary\n",
        "print (lm.summary())"
      ],
      "execution_count": 43,
      "outputs": [
        {
          "output_type": "stream",
          "text": [
            "                            OLS Regression Results                            \n",
            "==============================================================================\n",
            "Dep. Variable:                    cnt   R-squared:                       0.831\n",
            "Model:                            OLS   Adj. R-squared:                  0.826\n",
            "Method:                 Least Squares   F-statistic:                     173.6\n",
            "Date:                Sat, 31 Jul 2021   Prob (F-statistic):          1.17e-180\n",
            "Time:                        21:28:34   Log-Likelihood:                 492.00\n",
            "No. Observations:                 510   AIC:                            -954.0\n",
            "Df Residuals:                     495   BIC:                            -890.5\n",
            "Df Model:                          14                                         \n",
            "Covariance Type:            nonrobust                                         \n",
            "===========================================================================================\n",
            "                              coef    std err          t      P>|t|      [0.025      0.975]\n",
            "-------------------------------------------------------------------------------------------\n",
            "const                       0.3034      0.036      8.454      0.000       0.233       0.374\n",
            "yr                          0.2309      0.008     27.384      0.000       0.214       0.247\n",
            "holiday                    -0.0884      0.029     -3.070      0.002      -0.145      -0.032\n",
            "workingday                 -0.0055      0.011     -0.490      0.624      -0.027       0.017\n",
            "temp                        0.4919      0.034     14.287      0.000       0.424       0.560\n",
            "hum                        -0.1317      0.039     -3.374      0.001      -0.208      -0.055\n",
            "windspeed                  -0.1778      0.027     -6.637      0.000      -0.230      -0.125\n",
            "weekday_Mon                -0.0285      0.013     -2.186      0.029      -0.054      -0.003\n",
            "weekday_Tue                -0.0300      0.013     -2.285      0.023      -0.056      -0.004\n",
            "weekday_Wed                -0.0109      0.014     -0.791      0.429      -0.038       0.016\n",
            "season_Spring              -0.0757      0.021     -3.675      0.000      -0.116      -0.035\n",
            "season_Summer               0.0430      0.014      3.114      0.002       0.016       0.070\n",
            "season_Winter               0.0885      0.017      5.227      0.000       0.055       0.122\n",
            "weathersit_LightRain       -0.2450      0.027     -8.938      0.000      -0.299      -0.191\n",
            "weathersit_MistyWeather    -0.0552      0.011     -5.039      0.000      -0.077      -0.034\n",
            "==============================================================================\n",
            "Omnibus:                       67.234   Durbin-Watson:                   2.019\n",
            "Prob(Omnibus):                  0.000   Jarque-Bera (JB):              164.509\n",
            "Skew:                          -0.683   Prob(JB):                     1.89e-36\n",
            "Kurtosis:                       5.424   Cond. No.                         21.5\n",
            "==============================================================================\n",
            "\n",
            "Warnings:\n",
            "[1] Standard Errors assume that the covariance matrix of the errors is correctly specified.\n"
          ],
          "name": "stdout"
        }
      ]
    },
    {
      "cell_type": "code",
      "metadata": {
        "colab": {
          "base_uri": "https://localhost:8080/",
          "height": 511
        },
        "id": "_4kpW78GQTvx",
        "outputId": "bc4e7cda-9cf0-426b-a602-25c9ed2ea6ad"
      },
      "source": [
        "# Create a dataframe that will contain the names of all the feature variables and their respective VIFs\n",
        "\n",
        "vif = pd.DataFrame()\n",
        "vif['Features'] = X_train_lm_2.columns\n",
        "vif['VIF'] = [variance_inflation_factor(X_train_lm_2.values.astype(float),i) for i in range(X_train_lm_2.shape[1])]\n",
        "vif['VIF'] = round(vif['VIF'],2)\n",
        "vif = vif.sort_values(by = 'VIF',ascending = False)\n",
        "vif"
      ],
      "execution_count": 44,
      "outputs": [
        {
          "output_type": "execute_result",
          "data": {
            "text/html": [
              "<div>\n",
              "<style scoped>\n",
              "    .dataframe tbody tr th:only-of-type {\n",
              "        vertical-align: middle;\n",
              "    }\n",
              "\n",
              "    .dataframe tbody tr th {\n",
              "        vertical-align: top;\n",
              "    }\n",
              "\n",
              "    .dataframe thead th {\n",
              "        text-align: right;\n",
              "    }\n",
              "</style>\n",
              "<table border=\"1\" class=\"dataframe\">\n",
              "  <thead>\n",
              "    <tr style=\"text-align: right;\">\n",
              "      <th></th>\n",
              "      <th>Features</th>\n",
              "      <th>VIF</th>\n",
              "    </tr>\n",
              "  </thead>\n",
              "  <tbody>\n",
              "    <tr>\n",
              "      <th>0</th>\n",
              "      <td>const</td>\n",
              "      <td>74.96</td>\n",
              "    </tr>\n",
              "    <tr>\n",
              "      <th>10</th>\n",
              "      <td>season_Spring</td>\n",
              "      <td>4.55</td>\n",
              "    </tr>\n",
              "    <tr>\n",
              "      <th>4</th>\n",
              "      <td>temp</td>\n",
              "      <td>3.51</td>\n",
              "    </tr>\n",
              "    <tr>\n",
              "      <th>12</th>\n",
              "      <td>season_Winter</td>\n",
              "      <td>3.10</td>\n",
              "    </tr>\n",
              "    <tr>\n",
              "      <th>11</th>\n",
              "      <td>season_Summer</td>\n",
              "      <td>2.07</td>\n",
              "    </tr>\n",
              "    <tr>\n",
              "      <th>5</th>\n",
              "      <td>hum</td>\n",
              "      <td>1.88</td>\n",
              "    </tr>\n",
              "    <tr>\n",
              "      <th>14</th>\n",
              "      <td>weathersit_MistyWeather</td>\n",
              "      <td>1.58</td>\n",
              "    </tr>\n",
              "    <tr>\n",
              "      <th>3</th>\n",
              "      <td>workingday</td>\n",
              "      <td>1.50</td>\n",
              "    </tr>\n",
              "    <tr>\n",
              "      <th>7</th>\n",
              "      <td>weekday_Mon</td>\n",
              "      <td>1.30</td>\n",
              "    </tr>\n",
              "    <tr>\n",
              "      <th>8</th>\n",
              "      <td>weekday_Tue</td>\n",
              "      <td>1.30</td>\n",
              "    </tr>\n",
              "    <tr>\n",
              "      <th>9</th>\n",
              "      <td>weekday_Wed</td>\n",
              "      <td>1.30</td>\n",
              "    </tr>\n",
              "    <tr>\n",
              "      <th>13</th>\n",
              "      <td>weathersit_LightRain</td>\n",
              "      <td>1.25</td>\n",
              "    </tr>\n",
              "    <tr>\n",
              "      <th>2</th>\n",
              "      <td>holiday</td>\n",
              "      <td>1.20</td>\n",
              "    </tr>\n",
              "    <tr>\n",
              "      <th>6</th>\n",
              "      <td>windspeed</td>\n",
              "      <td>1.20</td>\n",
              "    </tr>\n",
              "    <tr>\n",
              "      <th>1</th>\n",
              "      <td>yr</td>\n",
              "      <td>1.03</td>\n",
              "    </tr>\n",
              "  </tbody>\n",
              "</table>\n",
              "</div>"
            ],
            "text/plain": [
              "                   Features    VIF\n",
              "0                     const  74.96\n",
              "10            season_Spring   4.55\n",
              "4                      temp   3.51\n",
              "12            season_Winter   3.10\n",
              "11            season_Summer   2.07\n",
              "5                       hum   1.88\n",
              "14  weathersit_MistyWeather   1.58\n",
              "3                workingday   1.50\n",
              "7               weekday_Mon   1.30\n",
              "8               weekday_Tue   1.30\n",
              "9               weekday_Wed   1.30\n",
              "13     weathersit_LightRain   1.25\n",
              "2                   holiday   1.20\n",
              "6                 windspeed   1.20\n",
              "1                        yr   1.03"
            ]
          },
          "metadata": {
            "tags": []
          },
          "execution_count": 44
        }
      ]
    },
    {
      "cell_type": "code",
      "metadata": {
        "id": "aG6ylIc7QTvx"
      },
      "source": [
        ""
      ],
      "execution_count": 44,
      "outputs": []
    },
    {
      "cell_type": "markdown",
      "metadata": {
        "id": "sdcmPdZDTW90"
      },
      "source": [
        "##Machine Learning Model 5"
      ]
    },
    {
      "cell_type": "code",
      "metadata": {
        "colab": {
          "base_uri": "https://localhost:8080/"
        },
        "id": "6P1MLfLAQUuS",
        "outputId": "ff83ffd8-11d4-45f2-fcf4-34bb88b2e8ac"
      },
      "source": [
        "# drop the variable workingday\n",
        "X_train_lm_4 = X_train_lm_3.drop(['workingday'],axis = 1)\n",
        "\n",
        "#Rebuilding model without workingday\n",
        "X_train_lm_3 = sm.add_constant(X_train_lm_4)\n",
        "\n",
        "lm = sm.OLS(y_train.astype(float), X_train_lm_3.astype(float)).fit()\n",
        "\n",
        "#summary\n",
        "print (lm.summary())"
      ],
      "execution_count": 45,
      "outputs": [
        {
          "output_type": "stream",
          "text": [
            "                            OLS Regression Results                            \n",
            "==============================================================================\n",
            "Dep. Variable:                    cnt   R-squared:                       0.831\n",
            "Model:                            OLS   Adj. R-squared:                  0.826\n",
            "Method:                 Least Squares   F-statistic:                     187.3\n",
            "Date:                Sat, 31 Jul 2021   Prob (F-statistic):          9.47e-182\n",
            "Time:                        21:28:34   Log-Likelihood:                 491.87\n",
            "No. Observations:                 510   AIC:                            -955.7\n",
            "Df Residuals:                     496   BIC:                            -896.5\n",
            "Df Model:                          13                                         \n",
            "Covariance Type:            nonrobust                                         \n",
            "===========================================================================================\n",
            "                              coef    std err          t      P>|t|      [0.025      0.975]\n",
            "-------------------------------------------------------------------------------------------\n",
            "const                       0.3009      0.035      8.477      0.000       0.231       0.371\n",
            "yr                          0.2309      0.008     27.408      0.000       0.214       0.247\n",
            "holiday                    -0.0835      0.027     -3.094      0.002      -0.137      -0.030\n",
            "temp                        0.4921      0.034     14.304      0.000       0.424       0.560\n",
            "hum                        -0.1326      0.039     -3.404      0.001      -0.209      -0.056\n",
            "windspeed                  -0.1779      0.027     -6.645      0.000      -0.230      -0.125\n",
            "weekday_Mon                -0.0311      0.012     -2.604      0.009      -0.055      -0.008\n",
            "weekday_Tue                -0.0326      0.012     -2.698      0.007      -0.056      -0.009\n",
            "weekday_Wed                -0.0135      0.013     -1.049      0.295      -0.039       0.012\n",
            "season_Spring              -0.0757      0.021     -3.678      0.000      -0.116      -0.035\n",
            "season_Summer               0.0429      0.014      3.104      0.002       0.016       0.070\n",
            "season_Winter               0.0884      0.017      5.226      0.000       0.055       0.122\n",
            "weathersit_LightRain       -0.2447      0.027     -8.937      0.000      -0.298      -0.191\n",
            "weathersit_MistyWeather    -0.0547      0.011     -5.019      0.000      -0.076      -0.033\n",
            "==============================================================================\n",
            "Omnibus:                       65.897   Durbin-Watson:                   2.020\n",
            "Prob(Omnibus):                  0.000   Jarque-Bera (JB):              162.536\n",
            "Skew:                          -0.667   Prob(JB):                     5.08e-36\n",
            "Kurtosis:                       5.422   Cond. No.                         19.5\n",
            "==============================================================================\n",
            "\n",
            "Warnings:\n",
            "[1] Standard Errors assume that the covariance matrix of the errors is correctly specified.\n"
          ],
          "name": "stdout"
        }
      ]
    },
    {
      "cell_type": "code",
      "metadata": {
        "colab": {
          "base_uri": "https://localhost:8080/",
          "height": 480
        },
        "id": "p8dwyg5lQUuT",
        "outputId": "287abbc0-5fee-4c52-de15-7ff994fa5730"
      },
      "source": [
        "# Create a dataframe that will contain the names of all the feature variables and their respective VIFs\n",
        "\n",
        "vif = pd.DataFrame()\n",
        "vif['Features'] = X_train_lm_3.columns\n",
        "vif['VIF'] = [variance_inflation_factor(X_train_lm_3.values.astype(float),i) for i in range(X_train_lm_3.shape[1])]\n",
        "vif['VIF'] = round(vif['VIF'],2)\n",
        "vif = vif.sort_values(by = 'VIF',ascending = False)\n",
        "vif"
      ],
      "execution_count": 46,
      "outputs": [
        {
          "output_type": "execute_result",
          "data": {
            "text/html": [
              "<div>\n",
              "<style scoped>\n",
              "    .dataframe tbody tr th:only-of-type {\n",
              "        vertical-align: middle;\n",
              "    }\n",
              "\n",
              "    .dataframe tbody tr th {\n",
              "        vertical-align: top;\n",
              "    }\n",
              "\n",
              "    .dataframe thead th {\n",
              "        text-align: right;\n",
              "    }\n",
              "</style>\n",
              "<table border=\"1\" class=\"dataframe\">\n",
              "  <thead>\n",
              "    <tr style=\"text-align: right;\">\n",
              "      <th></th>\n",
              "      <th>Features</th>\n",
              "      <th>VIF</th>\n",
              "    </tr>\n",
              "  </thead>\n",
              "  <tbody>\n",
              "    <tr>\n",
              "      <th>0</th>\n",
              "      <td>const</td>\n",
              "      <td>73.44</td>\n",
              "    </tr>\n",
              "    <tr>\n",
              "      <th>9</th>\n",
              "      <td>season_Spring</td>\n",
              "      <td>4.55</td>\n",
              "    </tr>\n",
              "    <tr>\n",
              "      <th>3</th>\n",
              "      <td>temp</td>\n",
              "      <td>3.51</td>\n",
              "    </tr>\n",
              "    <tr>\n",
              "      <th>11</th>\n",
              "      <td>season_Winter</td>\n",
              "      <td>3.10</td>\n",
              "    </tr>\n",
              "    <tr>\n",
              "      <th>10</th>\n",
              "      <td>season_Summer</td>\n",
              "      <td>2.07</td>\n",
              "    </tr>\n",
              "    <tr>\n",
              "      <th>4</th>\n",
              "      <td>hum</td>\n",
              "      <td>1.88</td>\n",
              "    </tr>\n",
              "    <tr>\n",
              "      <th>13</th>\n",
              "      <td>weathersit_MistyWeather</td>\n",
              "      <td>1.56</td>\n",
              "    </tr>\n",
              "    <tr>\n",
              "      <th>12</th>\n",
              "      <td>weathersit_LightRain</td>\n",
              "      <td>1.25</td>\n",
              "    </tr>\n",
              "    <tr>\n",
              "      <th>5</th>\n",
              "      <td>windspeed</td>\n",
              "      <td>1.20</td>\n",
              "    </tr>\n",
              "    <tr>\n",
              "      <th>8</th>\n",
              "      <td>weekday_Wed</td>\n",
              "      <td>1.12</td>\n",
              "    </tr>\n",
              "    <tr>\n",
              "      <th>7</th>\n",
              "      <td>weekday_Tue</td>\n",
              "      <td>1.10</td>\n",
              "    </tr>\n",
              "    <tr>\n",
              "      <th>6</th>\n",
              "      <td>weekday_Mon</td>\n",
              "      <td>1.09</td>\n",
              "    </tr>\n",
              "    <tr>\n",
              "      <th>2</th>\n",
              "      <td>holiday</td>\n",
              "      <td>1.06</td>\n",
              "    </tr>\n",
              "    <tr>\n",
              "      <th>1</th>\n",
              "      <td>yr</td>\n",
              "      <td>1.03</td>\n",
              "    </tr>\n",
              "  </tbody>\n",
              "</table>\n",
              "</div>"
            ],
            "text/plain": [
              "                   Features    VIF\n",
              "0                     const  73.44\n",
              "9             season_Spring   4.55\n",
              "3                      temp   3.51\n",
              "11            season_Winter   3.10\n",
              "10            season_Summer   2.07\n",
              "4                       hum   1.88\n",
              "13  weathersit_MistyWeather   1.56\n",
              "12     weathersit_LightRain   1.25\n",
              "5                 windspeed   1.20\n",
              "8               weekday_Wed   1.12\n",
              "7               weekday_Tue   1.10\n",
              "6               weekday_Mon   1.09\n",
              "2                   holiday   1.06\n",
              "1                        yr   1.03"
            ]
          },
          "metadata": {
            "tags": []
          },
          "execution_count": 46
        }
      ]
    },
    {
      "cell_type": "code",
      "metadata": {
        "id": "kTJxIYJZQUuT"
      },
      "source": [
        ""
      ],
      "execution_count": 46,
      "outputs": []
    },
    {
      "cell_type": "markdown",
      "metadata": {
        "id": "l9Fws2-ldbJA"
      },
      "source": [
        "##Machine Learning Model 6"
      ]
    },
    {
      "cell_type": "code",
      "metadata": {
        "colab": {
          "base_uri": "https://localhost:8080/"
        },
        "id": "FCzLS4VTQVjk",
        "outputId": "a6d5b919-7d76-4b95-a634-950d1298fced"
      },
      "source": [
        "\n",
        "\n",
        "# drop the variable weekday_Wed\n",
        "X_train_lm_5 = X_train_lm_4.drop(['weekday_Wed'],axis = 1)\n",
        "\n",
        "#Rebuilding model without weekday_Wed\n",
        "X_train_lm_4 = sm.add_constant(X_train_lm_5)\n",
        "\n",
        "lm = sm.OLS(y_train.astype(float), X_train_lm_4.astype(float)).fit()\n",
        "\n",
        "#summary\n",
        "print (lm.summary())"
      ],
      "execution_count": 47,
      "outputs": [
        {
          "output_type": "stream",
          "text": [
            "                            OLS Regression Results                            \n",
            "==============================================================================\n",
            "Dep. Variable:                    cnt   R-squared:                       0.830\n",
            "Model:                            OLS   Adj. R-squared:                  0.826\n",
            "Method:                 Least Squares   F-statistic:                     202.7\n",
            "Date:                Sat, 31 Jul 2021   Prob (F-statistic):          1.12e-182\n",
            "Time:                        21:28:34   Log-Likelihood:                 491.31\n",
            "No. Observations:                 510   AIC:                            -956.6\n",
            "Df Residuals:                     497   BIC:                            -901.6\n",
            "Df Model:                          12                                         \n",
            "Covariance Type:            nonrobust                                         \n",
            "===========================================================================================\n",
            "                              coef    std err          t      P>|t|      [0.025      0.975]\n",
            "-------------------------------------------------------------------------------------------\n",
            "const                       0.2982      0.035      8.422      0.000       0.229       0.368\n",
            "yr                          0.2307      0.008     27.388      0.000       0.214       0.247\n",
            "holiday                    -0.0889      0.027     -3.351      0.001      -0.141      -0.037\n",
            "temp                        0.4935      0.034     14.354      0.000       0.426       0.561\n",
            "hum                        -0.1338      0.039     -3.437      0.001      -0.210      -0.057\n",
            "windspeed                  -0.1767      0.027     -6.606      0.000      -0.229      -0.124\n",
            "weekday_Mon                -0.0286      0.012     -2.445      0.015      -0.052      -0.006\n",
            "weekday_Tue                -0.0298      0.012     -2.532      0.012      -0.053      -0.007\n",
            "season_Spring              -0.0755      0.021     -3.667      0.000      -0.116      -0.035\n",
            "season_Summer               0.0426      0.014      3.089      0.002       0.016       0.070\n",
            "season_Winter               0.0882      0.017      5.215      0.000       0.055       0.121\n",
            "weathersit_LightRain       -0.2444      0.027     -8.925      0.000      -0.298      -0.191\n",
            "weathersit_MistyWeather    -0.0545      0.011     -5.004      0.000      -0.076      -0.033\n",
            "==============================================================================\n",
            "Omnibus:                       64.426   Durbin-Watson:                   2.019\n",
            "Prob(Omnibus):                  0.000   Jarque-Bera (JB):              161.415\n",
            "Skew:                          -0.648   Prob(JB):                     8.90e-36\n",
            "Kurtosis:                       5.432   Cond. No.                         19.4\n",
            "==============================================================================\n",
            "\n",
            "Warnings:\n",
            "[1] Standard Errors assume that the covariance matrix of the errors is correctly specified.\n"
          ],
          "name": "stdout"
        }
      ]
    },
    {
      "cell_type": "code",
      "metadata": {
        "colab": {
          "base_uri": "https://localhost:8080/",
          "height": 450
        },
        "id": "YaCNiPPPQVjk",
        "outputId": "b0344080-acff-4474-d03c-c920dc62257e"
      },
      "source": [
        "# Create a dataframe that will contain the names of all the feature variables and their respective VIFs\n",
        "\n",
        "vif = pd.DataFrame()\n",
        "vif['Features'] = X_train_lm_5.columns\n",
        "vif['VIF'] = [variance_inflation_factor(X_train_lm_5.values.astype(float),i) for i in range(X_train_lm_5.shape[1])]\n",
        "vif['VIF'] = round(vif['VIF'],2)\n",
        "vif = vif.sort_values(by = 'VIF',ascending = False)\n",
        "vif"
      ],
      "execution_count": 48,
      "outputs": [
        {
          "output_type": "execute_result",
          "data": {
            "text/html": [
              "<div>\n",
              "<style scoped>\n",
              "    .dataframe tbody tr th:only-of-type {\n",
              "        vertical-align: middle;\n",
              "    }\n",
              "\n",
              "    .dataframe tbody tr th {\n",
              "        vertical-align: top;\n",
              "    }\n",
              "\n",
              "    .dataframe thead th {\n",
              "        text-align: right;\n",
              "    }\n",
              "</style>\n",
              "<table border=\"1\" class=\"dataframe\">\n",
              "  <thead>\n",
              "    <tr style=\"text-align: right;\">\n",
              "      <th></th>\n",
              "      <th>Features</th>\n",
              "      <th>VIF</th>\n",
              "    </tr>\n",
              "  </thead>\n",
              "  <tbody>\n",
              "    <tr>\n",
              "      <th>0</th>\n",
              "      <td>const</td>\n",
              "      <td>73.05</td>\n",
              "    </tr>\n",
              "    <tr>\n",
              "      <th>8</th>\n",
              "      <td>season_Spring</td>\n",
              "      <td>4.55</td>\n",
              "    </tr>\n",
              "    <tr>\n",
              "      <th>3</th>\n",
              "      <td>temp</td>\n",
              "      <td>3.51</td>\n",
              "    </tr>\n",
              "    <tr>\n",
              "      <th>10</th>\n",
              "      <td>season_Winter</td>\n",
              "      <td>3.10</td>\n",
              "    </tr>\n",
              "    <tr>\n",
              "      <th>9</th>\n",
              "      <td>season_Summer</td>\n",
              "      <td>2.07</td>\n",
              "    </tr>\n",
              "    <tr>\n",
              "      <th>4</th>\n",
              "      <td>hum</td>\n",
              "      <td>1.88</td>\n",
              "    </tr>\n",
              "    <tr>\n",
              "      <th>12</th>\n",
              "      <td>weathersit_MistyWeather</td>\n",
              "      <td>1.56</td>\n",
              "    </tr>\n",
              "    <tr>\n",
              "      <th>11</th>\n",
              "      <td>weathersit_LightRain</td>\n",
              "      <td>1.25</td>\n",
              "    </tr>\n",
              "    <tr>\n",
              "      <th>5</th>\n",
              "      <td>windspeed</td>\n",
              "      <td>1.20</td>\n",
              "    </tr>\n",
              "    <tr>\n",
              "      <th>6</th>\n",
              "      <td>weekday_Mon</td>\n",
              "      <td>1.05</td>\n",
              "    </tr>\n",
              "    <tr>\n",
              "      <th>7</th>\n",
              "      <td>weekday_Tue</td>\n",
              "      <td>1.05</td>\n",
              "    </tr>\n",
              "    <tr>\n",
              "      <th>1</th>\n",
              "      <td>yr</td>\n",
              "      <td>1.03</td>\n",
              "    </tr>\n",
              "    <tr>\n",
              "      <th>2</th>\n",
              "      <td>holiday</td>\n",
              "      <td>1.02</td>\n",
              "    </tr>\n",
              "  </tbody>\n",
              "</table>\n",
              "</div>"
            ],
            "text/plain": [
              "                   Features    VIF\n",
              "0                     const  73.05\n",
              "8             season_Spring   4.55\n",
              "3                      temp   3.51\n",
              "10            season_Winter   3.10\n",
              "9             season_Summer   2.07\n",
              "4                       hum   1.88\n",
              "12  weathersit_MistyWeather   1.56\n",
              "11     weathersit_LightRain   1.25\n",
              "5                 windspeed   1.20\n",
              "6               weekday_Mon   1.05\n",
              "7               weekday_Tue   1.05\n",
              "1                        yr   1.03\n",
              "2                   holiday   1.02"
            ]
          },
          "metadata": {
            "tags": []
          },
          "execution_count": 48
        }
      ]
    },
    {
      "cell_type": "code",
      "metadata": {
        "id": "ypOrVYJJQVjl"
      },
      "source": [
        ""
      ],
      "execution_count": 48,
      "outputs": []
    },
    {
      "cell_type": "markdown",
      "metadata": {
        "id": "UU9nhB-4di2J"
      },
      "source": [
        "##Machine Learning Model 7"
      ]
    },
    {
      "cell_type": "code",
      "metadata": {
        "colab": {
          "base_uri": "https://localhost:8080/"
        },
        "id": "I9na-3lbQWVI",
        "outputId": "7c52f499-5701-4602-f6fb-30e3ea126018"
      },
      "source": [
        "# drop the variable season_Spring\n",
        "X_train_lm_6 = X_train_lm_5.drop(['season_Spring'],axis = 1)\n",
        "\n",
        "#Rebuilding model without season_Spring\n",
        "X_train_lm_5 = sm.add_constant(X_train_lm_6)\n",
        "\n",
        "lm = sm.OLS(y_train.astype(float), X_train_lm_5.astype(float)).fit()\n",
        "\n",
        "#summary\n",
        "print (lm.summary())"
      ],
      "execution_count": 49,
      "outputs": [
        {
          "output_type": "stream",
          "text": [
            "                            OLS Regression Results                            \n",
            "==============================================================================\n",
            "Dep. Variable:                    cnt   R-squared:                       0.826\n",
            "Model:                            OLS   Adj. R-squared:                  0.822\n",
            "Method:                 Least Squares   F-statistic:                     214.6\n",
            "Date:                Sat, 31 Jul 2021   Prob (F-statistic):          5.54e-181\n",
            "Time:                        21:28:34   Log-Likelihood:                 484.50\n",
            "No. Observations:                 510   AIC:                            -945.0\n",
            "Df Residuals:                     498   BIC:                            -894.2\n",
            "Df Model:                          11                                         \n",
            "Covariance Type:            nonrobust                                         \n",
            "===========================================================================================\n",
            "                              coef    std err          t      P>|t|      [0.025      0.975]\n",
            "-------------------------------------------------------------------------------------------\n",
            "const                       0.2179      0.028      7.736      0.000       0.163       0.273\n",
            "yr                          0.2286      0.009     26.866      0.000       0.212       0.245\n",
            "holiday                    -0.0905      0.027     -3.369      0.001      -0.143      -0.038\n",
            "temp                        0.5951      0.021     28.896      0.000       0.555       0.636\n",
            "hum                        -0.1487      0.039     -3.793      0.000      -0.226      -0.072\n",
            "windspeed                  -0.1881      0.027     -6.994      0.000      -0.241      -0.135\n",
            "weekday_Mon                -0.0275      0.012     -2.324      0.021      -0.051      -0.004\n",
            "weekday_Tue                -0.0303      0.012     -2.536      0.012      -0.054      -0.007\n",
            "season_Summer               0.0765      0.010      7.352      0.000       0.056       0.097\n",
            "season_Winter               0.1361      0.011     12.512      0.000       0.115       0.157\n",
            "weathersit_LightRain       -0.2362      0.028     -8.548      0.000      -0.290      -0.182\n",
            "weathersit_MistyWeather    -0.0510      0.011     -4.638      0.000      -0.073      -0.029\n",
            "==============================================================================\n",
            "Omnibus:                       54.201   Durbin-Watson:                   2.020\n",
            "Prob(Omnibus):                  0.000   Jarque-Bera (JB):              128.911\n",
            "Skew:                          -0.563   Prob(JB):                     1.02e-28\n",
            "Kurtosis:                       5.191   Cond. No.                         18.5\n",
            "==============================================================================\n",
            "\n",
            "Warnings:\n",
            "[1] Standard Errors assume that the covariance matrix of the errors is correctly specified.\n"
          ],
          "name": "stdout"
        }
      ]
    },
    {
      "cell_type": "code",
      "metadata": {
        "colab": {
          "base_uri": "https://localhost:8080/",
          "height": 418
        },
        "id": "de78hDlhQWVJ",
        "outputId": "09fe7c9d-e13d-4a6d-de2c-f07244b774c7"
      },
      "source": [
        "# Create a dataframe that will contain the names of all the feature variables and their respective VIFs\n",
        "\n",
        "vif = pd.DataFrame()\n",
        "vif['Features'] = X_train_lm_6.columns\n",
        "vif['VIF'] = [variance_inflation_factor(X_train_lm_6.values.astype(float),i) for i in range(X_train_lm_6.shape[1])]\n",
        "vif['VIF'] = round(vif['VIF'],2)\n",
        "vif = vif.sort_values(by = 'VIF',ascending = False)\n",
        "vif"
      ],
      "execution_count": 50,
      "outputs": [
        {
          "output_type": "execute_result",
          "data": {
            "text/html": [
              "<div>\n",
              "<style scoped>\n",
              "    .dataframe tbody tr th:only-of-type {\n",
              "        vertical-align: middle;\n",
              "    }\n",
              "\n",
              "    .dataframe tbody tr th {\n",
              "        vertical-align: top;\n",
              "    }\n",
              "\n",
              "    .dataframe thead th {\n",
              "        text-align: right;\n",
              "    }\n",
              "</style>\n",
              "<table border=\"1\" class=\"dataframe\">\n",
              "  <thead>\n",
              "    <tr style=\"text-align: right;\">\n",
              "      <th></th>\n",
              "      <th>Features</th>\n",
              "      <th>VIF</th>\n",
              "    </tr>\n",
              "  </thead>\n",
              "  <tbody>\n",
              "    <tr>\n",
              "      <th>0</th>\n",
              "      <td>const</td>\n",
              "      <td>45.10</td>\n",
              "    </tr>\n",
              "    <tr>\n",
              "      <th>4</th>\n",
              "      <td>hum</td>\n",
              "      <td>1.86</td>\n",
              "    </tr>\n",
              "    <tr>\n",
              "      <th>11</th>\n",
              "      <td>weathersit_MistyWeather</td>\n",
              "      <td>1.55</td>\n",
              "    </tr>\n",
              "    <tr>\n",
              "      <th>9</th>\n",
              "      <td>season_Winter</td>\n",
              "      <td>1.25</td>\n",
              "    </tr>\n",
              "    <tr>\n",
              "      <th>10</th>\n",
              "      <td>weathersit_LightRain</td>\n",
              "      <td>1.24</td>\n",
              "    </tr>\n",
              "    <tr>\n",
              "      <th>3</th>\n",
              "      <td>temp</td>\n",
              "      <td>1.23</td>\n",
              "    </tr>\n",
              "    <tr>\n",
              "      <th>5</th>\n",
              "      <td>windspeed</td>\n",
              "      <td>1.18</td>\n",
              "    </tr>\n",
              "    <tr>\n",
              "      <th>8</th>\n",
              "      <td>season_Summer</td>\n",
              "      <td>1.14</td>\n",
              "    </tr>\n",
              "    <tr>\n",
              "      <th>6</th>\n",
              "      <td>weekday_Mon</td>\n",
              "      <td>1.05</td>\n",
              "    </tr>\n",
              "    <tr>\n",
              "      <th>7</th>\n",
              "      <td>weekday_Tue</td>\n",
              "      <td>1.05</td>\n",
              "    </tr>\n",
              "    <tr>\n",
              "      <th>1</th>\n",
              "      <td>yr</td>\n",
              "      <td>1.03</td>\n",
              "    </tr>\n",
              "    <tr>\n",
              "      <th>2</th>\n",
              "      <td>holiday</td>\n",
              "      <td>1.02</td>\n",
              "    </tr>\n",
              "  </tbody>\n",
              "</table>\n",
              "</div>"
            ],
            "text/plain": [
              "                   Features    VIF\n",
              "0                     const  45.10\n",
              "4                       hum   1.86\n",
              "11  weathersit_MistyWeather   1.55\n",
              "9             season_Winter   1.25\n",
              "10     weathersit_LightRain   1.24\n",
              "3                      temp   1.23\n",
              "5                 windspeed   1.18\n",
              "8             season_Summer   1.14\n",
              "6               weekday_Mon   1.05\n",
              "7               weekday_Tue   1.05\n",
              "1                        yr   1.03\n",
              "2                   holiday   1.02"
            ]
          },
          "metadata": {
            "tags": []
          },
          "execution_count": 50
        }
      ]
    },
    {
      "cell_type": "code",
      "metadata": {
        "id": "KJ-OvrB-QWVJ"
      },
      "source": [
        ""
      ],
      "execution_count": 50,
      "outputs": []
    },
    {
      "cell_type": "markdown",
      "metadata": {
        "id": "x_4zpgPIp4Ks"
      },
      "source": [
        "Now, the VIFs and p-values both are within an acceptable range. So we can go ahead and make our predictions using this model."
      ]
    },
    {
      "cell_type": "markdown",
      "metadata": {
        "id": "o19gelNsM446"
      },
      "source": [
        "#Delete"
      ]
    },
    {
      "cell_type": "code",
      "metadata": {
        "id": "rFlfIdGkVQAk"
      },
      "source": [
        ""
      ],
      "execution_count": null,
      "outputs": []
    },
    {
      "cell_type": "markdown",
      "metadata": {
        "id": "7dtalk3pp4Kt"
      },
      "source": [
        "## Step 7: Residual Analysis of the train data\n",
        "\n",
        "So, now to check if the error terms are also normally distributed (which is infact, one of the major assumptions of linear regression), let us plot the histogram of the error terms and see what it looks like."
      ]
    },
    {
      "cell_type": "code",
      "metadata": {
        "id": "rVzGkS6AenVg"
      },
      "source": [
        "# drop the variable season_Spring\n",
        "X_train_lm_6 = X_train_lm_5.drop(['season_Spring'],axis = 1)\n",
        "\n",
        "#Rebuilding model without season_Spring\n",
        "X_train_lm_5 = sm.add_constant(X_train_lm_6)\n",
        "\n",
        "lm = sm.OLS(y_train.astype(float), X_train_lm_5.astype(float)).fit()\n",
        "\n",
        "#summary\n",
        "print (lm.summary())\n",
        "\n",
        "# Build a fourth fitted model\n",
        "X_train_lm = sm.add_constant(X)\n",
        "\n",
        "lr_4 = sm.OLS(y_train, X_train_lm).fit()"
      ],
      "execution_count": null,
      "outputs": []
    },
    {
      "cell_type": "code",
      "metadata": {
        "id": "SfrUNf2Jp4Kt",
        "colab": {
          "base_uri": "https://localhost:8080/",
          "height": 167
        },
        "outputId": "ae533a56-73ca-4c40-8740-6456d4fd6374"
      },
      "source": [
        "y_train_price = lm.predict(X_train_lm)"
      ],
      "execution_count": 54,
      "outputs": [
        {
          "output_type": "error",
          "ename": "NameError",
          "evalue": "ignored",
          "traceback": [
            "\u001b[0;31m---------------------------------------------------------------------------\u001b[0m",
            "\u001b[0;31mNameError\u001b[0m                                 Traceback (most recent call last)",
            "\u001b[0;32m<ipython-input-54-3477c74429be>\u001b[0m in \u001b[0;36m<module>\u001b[0;34m()\u001b[0m\n\u001b[0;32m----> 1\u001b[0;31m \u001b[0my_train_price\u001b[0m \u001b[0;34m=\u001b[0m \u001b[0mlm\u001b[0m\u001b[0;34m.\u001b[0m\u001b[0mpredict\u001b[0m\u001b[0;34m(\u001b[0m\u001b[0mX_train_lm\u001b[0m\u001b[0;34m)\u001b[0m\u001b[0;34m\u001b[0m\u001b[0;34m\u001b[0m\u001b[0m\n\u001b[0m",
            "\u001b[0;31mNameError\u001b[0m: name 'X_train_lm' is not defined"
          ]
        }
      ]
    },
    {
      "cell_type": "code",
      "metadata": {
        "id": "jr7DN3tQp4Ku"
      },
      "source": [
        "# Plot the histogram of the error terms\n",
        "fig = plt.figure()\n",
        "sns.distplot((y_train - y_train_price), bins = 20)\n",
        "fig.suptitle('Error Terms', fontsize = 20)                  # Plot heading \n",
        "plt.xlabel('Errors', fontsize = 18)                         # X-label"
      ],
      "execution_count": null,
      "outputs": []
    },
    {
      "cell_type": "markdown",
      "metadata": {
        "id": "imMuIqIpp4Kv"
      },
      "source": [
        "## Step 8: Making Predictions Using the Final Model\n",
        "\n",
        "Now that we have fitted the model and checked the normality of error terms, it's time to go ahead and make predictions using the final, i.e. fourth model."
      ]
    },
    {
      "cell_type": "markdown",
      "metadata": {
        "id": "4zsz_ttBp4Kw"
      },
      "source": [
        "#### Applying the scaling on the test sets"
      ]
    },
    {
      "cell_type": "code",
      "metadata": {
        "id": "CZidKy_-p4Kz"
      },
      "source": [
        "num_vars = ['area', 'bedrooms', 'bathrooms', 'stories', 'parking','price']\n",
        "\n",
        "df_test[num_vars] = scaler.transform(df_test[num_vars])"
      ],
      "execution_count": null,
      "outputs": []
    },
    {
      "cell_type": "code",
      "metadata": {
        "id": "wAGIjiJlp4Kz"
      },
      "source": [
        "df_test.describe()"
      ],
      "execution_count": null,
      "outputs": []
    },
    {
      "cell_type": "markdown",
      "metadata": {
        "id": "1lO8yzYfp4K1"
      },
      "source": [
        "#### Dividing into X_test and y_test"
      ]
    },
    {
      "cell_type": "code",
      "metadata": {
        "id": "EtSsHt2Wp4K2"
      },
      "source": [
        "y_test = df_test.pop('price')\n",
        "X_test = df_test"
      ],
      "execution_count": null,
      "outputs": []
    },
    {
      "cell_type": "code",
      "metadata": {
        "id": "XnOBl7LCp4K2"
      },
      "source": [
        "# Adding constant variable to test dataframe\n",
        "X_test_m4 = sm.add_constant(X_test)"
      ],
      "execution_count": null,
      "outputs": []
    },
    {
      "cell_type": "code",
      "metadata": {
        "id": "9SN7Z4wpp4K3"
      },
      "source": [
        "# Creating X_test_m4 dataframe by dropping variables from X_test_m4\n",
        "\n",
        "X_test_m4 = X_test_m4.drop([\"bedrooms\", \"semi-furnished\", \"basement\"], axis = 1)"
      ],
      "execution_count": null,
      "outputs": []
    },
    {
      "cell_type": "code",
      "metadata": {
        "id": "RC72OU-vp4K3"
      },
      "source": [
        "# Making predictions using the fourth model\n",
        "\n",
        "y_pred_m4 = lr_4.predict(X_test_m4)"
      ],
      "execution_count": null,
      "outputs": []
    },
    {
      "cell_type": "markdown",
      "metadata": {
        "id": "75u6LGrbp4K3"
      },
      "source": [
        "## Step 9: Model Evaluation\n",
        "\n",
        "Let's now plot the graph for actual versus predicted values."
      ]
    },
    {
      "cell_type": "code",
      "metadata": {
        "id": "7C51HwJRp4K4"
      },
      "source": [
        "# Plotting y_test and y_pred to understand the spread\n",
        "\n",
        "fig = plt.figure()\n",
        "plt.scatter(y_test, y_pred_m4)\n",
        "fig.suptitle('y_test vs y_pred', fontsize = 20)              # Plot heading \n",
        "plt.xlabel('y_test', fontsize = 18)                          # X-label\n",
        "plt.ylabel('y_pred', fontsize = 16)      "
      ],
      "execution_count": null,
      "outputs": []
    },
    {
      "cell_type": "markdown",
      "metadata": {
        "id": "uNbayzAup4K4"
      },
      "source": [
        "\n",
        "We can see that the equation of our best fitted line is:\n",
        "\n",
        "$ price = 0.236  \\times  area + 0.202  \\times  bathrooms + 0.11 \\times stories + 0.05 \\times mainroad + 0.04 \\times guestroom + 0.0876 \\times hotwaterheating + 0.0682 \\times airconditioning + 0.0629 \\times parking + 0.0637 \\times prefarea - 0.0337 \\times unfurnished $\n"
      ]
    },
    {
      "cell_type": "markdown",
      "metadata": {
        "id": "dtUHBAXYp4K5"
      },
      "source": [
        "Overall we have a decent model, but we also acknowledge that we could do better. \n",
        "\n",
        "We have a couple of options:\n",
        "1. Add new features (bathrooms/bedrooms, area/stories, etc.)\n",
        "2. Build a non-linear model"
      ]
    },
    {
      "cell_type": "code",
      "metadata": {
        "id": "uGkEg1AZImWP"
      },
      "source": [
        ""
      ],
      "execution_count": null,
      "outputs": []
    },
    {
      "cell_type": "code",
      "metadata": {
        "id": "ujDLtu-SImZH"
      },
      "source": [
        ""
      ],
      "execution_count": null,
      "outputs": []
    },
    {
      "cell_type": "code",
      "metadata": {
        "id": "IFPK-KhJImbs"
      },
      "source": [
        "Delete"
      ],
      "execution_count": null,
      "outputs": []
    },
    {
      "cell_type": "code",
      "metadata": {
        "id": "QYWMXMvLImel"
      },
      "source": [
        ""
      ],
      "execution_count": null,
      "outputs": []
    },
    {
      "cell_type": "code",
      "metadata": {
        "id": "JeP7ahGRImmT"
      },
      "source": [
        ""
      ],
      "execution_count": null,
      "outputs": []
    },
    {
      "cell_type": "code",
      "metadata": {
        "id": "04kye6NMImn9"
      },
      "source": [
        ""
      ],
      "execution_count": null,
      "outputs": []
    },
    {
      "cell_type": "code",
      "metadata": {
        "id": "lD2ErBc-Impa"
      },
      "source": [
        ""
      ],
      "execution_count": null,
      "outputs": []
    },
    {
      "cell_type": "code",
      "metadata": {
        "id": "39DhVyGb-r4S"
      },
      "source": [
        "\n",
        "lr_2 = sm.OLS(y_train, X_train_lm).fit()\n",
        "lr_2.params"
      ],
      "execution_count": null,
      "outputs": []
    },
    {
      "cell_type": "code",
      "metadata": {
        "id": "cqhFMizHFE5F"
      },
      "source": [
        "print(lr_2.summary())\n"
      ],
      "execution_count": null,
      "outputs": []
    },
    {
      "cell_type": "code",
      "metadata": {
        "id": "oKzrAKUSFEwx"
      },
      "source": [
        "# Create a dataframe that will contain the names of all the feature variables and their respective VIFs\n",
        "vif = pd.DataFrame()\n",
        "vif['Features'] = X_train.columns\n",
        "vif['VIF'] = [variance_inflation_factor(X_train.values, i) for i in range(X_train.shape[1])]\n",
        "vif['VIF'] = round(vif['VIF'], 2)\n",
        "vif = vif.sort_values(by = \"VIF\", ascending = False)\n",
        "vif"
      ],
      "execution_count": null,
      "outputs": []
    },
    {
      "cell_type": "code",
      "metadata": {
        "id": "5TVCMhl9-r6-"
      },
      "source": [
        "delete"
      ],
      "execution_count": null,
      "outputs": []
    },
    {
      "cell_type": "code",
      "metadata": {
        "id": "yZy2wTmH-r92"
      },
      "source": [
        ""
      ],
      "execution_count": null,
      "outputs": []
    },
    {
      "cell_type": "code",
      "metadata": {
        "id": "ZW3y97zZ-sDS"
      },
      "source": [
        ""
      ],
      "execution_count": null,
      "outputs": []
    },
    {
      "cell_type": "code",
      "metadata": {
        "id": "3EIAD4ue-sF6"
      },
      "source": [
        ""
      ],
      "execution_count": null,
      "outputs": []
    },
    {
      "cell_type": "code",
      "metadata": {
        "id": "rZ4rKPZB3vHU"
      },
      "source": [
        "#Using RFE to build our model\n",
        "lm = LinearRegression()\n",
        "lm.fit(X_train, y_train)\n",
        "\n",
        "#run RFE by choosing top 25 variables\n",
        "rfe = RFE(lm,15)\n",
        "rfe = rfe.fit(X_train, y_train)"
      ],
      "execution_count": null,
      "outputs": []
    },
    {
      "cell_type": "code",
      "metadata": {
        "id": "j3X1grez3vHV"
      },
      "source": [
        "#check the rankings\n",
        "list(zip(X_train.columns,rfe.support_,rfe.ranking_))"
      ],
      "execution_count": null,
      "outputs": []
    },
    {
      "cell_type": "code",
      "metadata": {
        "id": "EKb4RFPz3vHV"
      },
      "source": [
        "column = X_train.columns[rfe.support_]\n",
        "column"
      ],
      "execution_count": null,
      "outputs": []
    },
    {
      "cell_type": "code",
      "metadata": {
        "id": "L2rZWLI93vHW"
      },
      "source": [
        "X_train.columns[~rfe.support_]"
      ],
      "execution_count": null,
      "outputs": []
    },
    {
      "cell_type": "markdown",
      "metadata": {
        "id": "AG070g6d3vHX"
      },
      "source": [
        "### Let us look at detailed statistics using statsmodel"
      ]
    },
    {
      "cell_type": "code",
      "metadata": {
        "id": "QCrcCAXD3vHX"
      },
      "source": [
        "# Creating X_test dataframe with RFE selected variables\n",
        "X_train_rfe = X_train[column]"
      ],
      "execution_count": null,
      "outputs": []
    },
    {
      "cell_type": "code",
      "metadata": {
        "id": "kktnzNcZ3vHY"
      },
      "source": [
        "# Adding a constant variable\n",
        "X_train_rfe = sm.add_constant(X_train_rfe)\n",
        "\n",
        "#Run the Linear Model\n",
        "lm = sm.OLS(y_train.astype(float),X_train_rfe.astype(float)).fit()"
      ],
      "execution_count": null,
      "outputs": []
    },
    {
      "cell_type": "code",
      "metadata": {
        "id": "M5Muq69G3vHY"
      },
      "source": [
        "# print the summary\n",
        "print(lm.summary())"
      ],
      "execution_count": null,
      "outputs": []
    },
    {
      "cell_type": "code",
      "metadata": {
        "id": "Xr4B1Wb33vHZ"
      },
      "source": [
        "#VIF\n",
        "vif = pd.DataFrame()\n",
        "vif['Features'] = X_train.columns\n",
        "vif['VIF'] = [variance_inflation_factor(X_train.values.astype(float),i) for i in range(X_train.shape[1])]\n",
        "vif['VIF'] = round(vif['VIF'],2)\n",
        "vif = vif.sort_values(by = 'VIF',ascending = False)\n",
        "vif"
      ],
      "execution_count": null,
      "outputs": []
    },
    {
      "cell_type": "code",
      "metadata": {
        "id": "OKE-n9td3vHa"
      },
      "source": [
        "# drop the variable workingday\n",
        "X_train_new = X_train_rfe.drop(['workingday'],axis = 1)\n",
        "\n",
        "#Rebuilding model without workingday\n",
        "X_train_lm = sm.add_constant(X_train_new)\n",
        "\n",
        "lm = sm.OLS(y_train.astype(float), X_train_lm.astype(float)).fit()\n",
        "\n",
        "#summary\n",
        "lm.summary()"
      ],
      "execution_count": null,
      "outputs": []
    },
    {
      "cell_type": "code",
      "metadata": {
        "id": "LaW3lS8x3vHa"
      },
      "source": [
        "#VIF\n",
        "vif = pd.DataFrame()\n",
        "vif['Features'] = X_train_new.columns\n",
        "vif['VIF'] = [variance_inflation_factor(X_train_new.values.astype(float),i) for i in range(X_train_new.shape[1])]\n",
        "vif['VIF'] = round(vif['VIF'],2)\n",
        "vif = vif.sort_values(by = 'VIF',ascending = False)\n",
        "vif"
      ],
      "execution_count": null,
      "outputs": []
    },
    {
      "cell_type": "code",
      "metadata": {
        "id": "KR2p1qxk3vHb"
      },
      "source": [
        "# drop the variable holiday\n",
        "X_train_n2 = X_train_new.drop(['holiday'],axis = 1)\n",
        "\n",
        "#Rebuilding model without 'holiday'\n",
        "X_train_lm = sm.add_constant(X_train_n2)\n",
        "\n",
        "lm = sm.OLS(y_train.astype(float), X_train_lm.astype(float)).fit()\n",
        "\n",
        "#summary\n",
        "print(lm.summary())"
      ],
      "execution_count": null,
      "outputs": []
    },
    {
      "cell_type": "code",
      "metadata": {
        "id": "V9TeTm7A3vHc"
      },
      "source": [
        "#VIF\n",
        "vif = pd.DataFrame()\n",
        "vif['Features'] = X_train_n2.columns\n",
        "vif['VIF'] = [variance_inflation_factor(X_train_n2.values.astype(float),i) for i in range(X_train_n2.shape[1])]\n",
        "vif['VIF'] = round(vif['VIF'],2)\n",
        "vif = vif.sort_values(by = 'VIF',ascending = False)\n",
        "vif"
      ],
      "execution_count": null,
      "outputs": []
    },
    {
      "cell_type": "code",
      "metadata": {
        "id": "p6p1WTL93vHc"
      },
      "source": [
        "# drop the variable 'weekday_Thursday'\n",
        "X_train_n3 = X_train_n2.drop(['weekday_Thursday'],axis = 1)\n",
        "\n",
        "#Rebuilding model without 'weekday_Thursday'\n",
        "X_train_lm = sm.add_constant(X_train_n3)\n",
        "\n",
        "lm = sm.OLS(y_train.astype(float), X_train_lm.astype(float)).fit()\n",
        "\n",
        "#summary\n",
        "print(lm.summary())"
      ],
      "execution_count": null,
      "outputs": []
    },
    {
      "cell_type": "code",
      "metadata": {
        "id": "jN9WNYBG3vHd"
      },
      "source": [
        "#VIF\n",
        "vif = pd.DataFrame()\n",
        "vif['Features'] = X_train_n3.columns\n",
        "vif['VIF'] = [variance_inflation_factor(X_train_n3.values.astype(float),i) for i in range(X_train_n3.shape[1])]\n",
        "vif['VIF'] = round(vif['VIF'],2)\n",
        "vif = vif.sort_values(by = 'VIF',ascending = False)\n",
        "vif"
      ],
      "execution_count": null,
      "outputs": []
    },
    {
      "cell_type": "code",
      "metadata": {
        "id": "0L3vW2v13vHe"
      },
      "source": [
        "# drop the variable 'mnth_Aug'\n",
        "X_train_n4 = X_train_n3.drop(['mnth_Aug'],axis = 1)\n",
        "\n",
        "#Rebuilding model without 'mnth_Aug'\n",
        "X_train_lm = sm.add_constant(X_train_n4)\n",
        "\n",
        "lm = sm.OLS(y_train.astype(float), X_train_lm.astype(float)).fit()\n",
        "\n",
        "#summary\n",
        "print(lm.summary())"
      ],
      "execution_count": null,
      "outputs": []
    },
    {
      "cell_type": "code",
      "metadata": {
        "id": "H0s1uncs3vHf"
      },
      "source": [
        "#VIF\n",
        "vif = pd.DataFrame()\n",
        "vif['Features'] = X_train_n4.columns\n",
        "vif['VIF'] = [variance_inflation_factor(X_train_n4.values.astype(float),i) for i in range(X_train_n4.shape[1])]\n",
        "vif['VIF'] = round(vif['VIF'],2)\n",
        "vif = vif.sort_values(by = 'VIF',ascending = False)\n",
        "vif"
      ],
      "execution_count": null,
      "outputs": []
    },
    {
      "cell_type": "code",
      "metadata": {
        "id": "ow8xqWsb3vHg"
      },
      "source": [
        "# drop the variable 'weekday_Sunday'\n",
        "X_train_n5 = X_train_n4.drop(['weekday_Sunday'],axis = 1)\n",
        "\n",
        "#Rebuilding model without 'weekday_Sunday'\n",
        "X_train_lm = sm.add_constant(X_train_n5)\n",
        "\n",
        "lm = sm.OLS(y_train.astype(float), X_train_lm.astype(float)).fit()\n",
        "\n",
        "#summary\n",
        "print(lm.summary())"
      ],
      "execution_count": null,
      "outputs": []
    },
    {
      "cell_type": "code",
      "metadata": {
        "id": "QTdr-a6e3vHh"
      },
      "source": [
        "#VIF\n",
        "vif = pd.DataFrame()\n",
        "vif['Features'] = X_train_n5.columns\n",
        "vif['VIF'] = [variance_inflation_factor(X_train_n5.values.astype(float),i) for i in range(X_train_n5.shape[1])]\n",
        "vif['VIF'] = round(vif['VIF'],2)\n",
        "vif = vif.sort_values(by = 'VIF',ascending = False)\n",
        "vif"
      ],
      "execution_count": null,
      "outputs": []
    },
    {
      "cell_type": "code",
      "metadata": {
        "id": "YizJCvXF3vHi"
      },
      "source": [
        "# drop the variable 'weekday_Tuesday'\n",
        "X_train_n6 = X_train_n5.drop(['weekday_Tuesday'],axis = 1)\n",
        "\n",
        "#Rebuilding model without 'weekday_Tuesday'\n",
        "X_train_lm = sm.add_constant(X_train_n6)\n",
        "\n",
        "lm = sm.OLS(y_train.astype(float), X_train_lm.astype(float)).fit()\n",
        "\n",
        "#summary\n",
        "print(lm.summary())"
      ],
      "execution_count": null,
      "outputs": []
    },
    {
      "cell_type": "code",
      "metadata": {
        "id": "OCsw-VdR3vHi"
      },
      "source": [
        "#VIF\n",
        "vif = pd.DataFrame()\n",
        "vif['Features'] = X_train_n6.columns\n",
        "vif['VIF'] = [variance_inflation_factor(X_train_n6.values.astype(float),i) for i in range(X_train_n6.shape[1])]\n",
        "vif['VIF'] = round(vif['VIF'],2)\n",
        "vif = vif.sort_values(by = 'VIF',ascending = False)\n",
        "vif"
      ],
      "execution_count": null,
      "outputs": []
    },
    {
      "cell_type": "code",
      "metadata": {
        "id": "8kNjM6MP3vHj"
      },
      "source": [
        "# drop the variable 'mnth_May'\n",
        "X_train_n7 = X_train_n6.drop(['mnth_May'],axis = 1)\n",
        "\n",
        "#Rebuilding model without 'mnth_May'\n",
        "X_train_lm = sm.add_constant(X_train_n7)\n",
        "\n",
        "lm = sm.OLS(y_train.astype(float), X_train_lm.astype(float)).fit()\n",
        "\n",
        "#summary\n",
        "print(lm.summary())"
      ],
      "execution_count": null,
      "outputs": []
    },
    {
      "cell_type": "code",
      "metadata": {
        "id": "GiEEYbSE3vHk"
      },
      "source": [
        "#VIF\n",
        "vif = pd.DataFrame()\n",
        "vif['Features'] = X_train_n7.columns\n",
        "vif['VIF'] = [variance_inflation_factor(X_train_n7.values.astype(float),i) for i in range(X_train_n7.shape[1])]\n",
        "vif['VIF'] = round(vif['VIF'],2)\n",
        "vif = vif.sort_values(by = 'VIF',ascending = False)\n",
        "vif"
      ],
      "execution_count": null,
      "outputs": []
    },
    {
      "cell_type": "code",
      "metadata": {
        "id": "RzEq2hrn3vHk"
      },
      "source": [
        "# drop the variable 'season_Spring'\n",
        "X_train_n8 = X_train_n7.drop(['season_Spring'],axis = 1)\n",
        "\n",
        "#Rebuilding model without 'season_Spring'\n",
        "X_train_lm = sm.add_constant(X_train_n8)\n",
        "\n",
        "lm = sm.OLS(y_train.astype(float), X_train_lm.astype(float)).fit()\n",
        "\n",
        "#summary\n",
        "print(lm.summary())"
      ],
      "execution_count": null,
      "outputs": []
    },
    {
      "cell_type": "code",
      "metadata": {
        "id": "X7x1fSbw3vHl"
      },
      "source": [
        "#VIF\n",
        "vif = pd.DataFrame()\n",
        "vif['Features'] = X_train_n8.columns\n",
        "vif['VIF'] = [variance_inflation_factor(X_train_n8.values.astype(float),i) for i in range(X_train_n8.shape[1])]\n",
        "vif['VIF'] = round(vif['VIF'],2)\n",
        "vif = vif.sort_values(by = 'VIF',ascending = False)\n",
        "vif"
      ],
      "execution_count": null,
      "outputs": []
    },
    {
      "cell_type": "code",
      "metadata": {
        "id": "3n9BCbBV3vHm"
      },
      "source": [
        "# drop the variable 'weekday_Monday'\n",
        "X_train_n9 = X_train_n8.drop(['weekday_Monday'],axis = 1)\n",
        "\n",
        "#Rebuilding model without 'weekday_Monday'\n",
        "X_train_lm = sm.add_constant(X_train_n9)\n",
        "\n",
        "lm = sm.OLS(y_train.astype(float), X_train_lm.astype(float)).fit()\n",
        "\n",
        "#summary\n",
        "print(lm.summary())"
      ],
      "execution_count": null,
      "outputs": []
    },
    {
      "cell_type": "code",
      "metadata": {
        "id": "jJ98ETra3vHu"
      },
      "source": [
        "#VIF\n",
        "vif = pd.DataFrame()\n",
        "vif['Features'] = X_train_n9.columns\n",
        "vif['VIF'] = [variance_inflation_factor(X_train_n9.values.astype(float),i) for i in range(X_train_n9.shape[1])]\n",
        "vif['VIF'] = round(vif['VIF'],2)\n",
        "vif = vif.sort_values(by = 'VIF',ascending = False)\n",
        "vif"
      ],
      "execution_count": null,
      "outputs": []
    },
    {
      "cell_type": "code",
      "metadata": {
        "id": "TtWh_jNs3vHv"
      },
      "source": [
        "#drop contsant term\n",
        "X_train_final = X_train_n9.drop(['const'], axis=1)"
      ],
      "execution_count": null,
      "outputs": []
    },
    {
      "cell_type": "markdown",
      "metadata": {
        "id": "2zuGKbjd3vHw"
      },
      "source": [
        "**Values of P for all variables are < 0.05**\n",
        "**All values of VIF are < 5**"
      ]
    },
    {
      "cell_type": "markdown",
      "metadata": {
        "id": "Rcya4AvY3vHx"
      },
      "source": [
        "## The number of variables are 15 excluding the constant which has given the desired R-squared, p value and VIF"
      ]
    },
    {
      "cell_type": "markdown",
      "metadata": {
        "id": "8aXJ9e6A3vHy"
      },
      "source": [
        "## Step 4. Residual Analysis"
      ]
    },
    {
      "cell_type": "code",
      "metadata": {
        "id": "t27fQ3hF3vHz"
      },
      "source": [
        "# Let us look at the residual analysis to see if the distribution is normal\n",
        "y_train_pred = lm.predict(X_train_lm.astype(float))\n",
        "\n",
        "fig = plt.figure()\n",
        "residual = y_train - y_train_pred\n",
        "sns.distplot(residual)\n",
        "fig.suptitle('Error Terms', fontsize = 20)                  # Plot heading \n",
        "plt.xlabel('Errors', fontsize = 18)  "
      ],
      "execution_count": null,
      "outputs": []
    },
    {
      "cell_type": "code",
      "metadata": {
        "id": "r_kKRwQK3vH0"
      },
      "source": [
        "# Lets us check if the error terms are independant\n",
        "sns.scatterplot(data = residual)"
      ],
      "execution_count": null,
      "outputs": []
    },
    {
      "cell_type": "markdown",
      "metadata": {
        "id": "FEU219fT3vH1"
      },
      "source": [
        "**Residual Analysis also shows that:**\n",
        "- Error terms are normalized (mean is zero)\n",
        "- Error terms are independant"
      ]
    },
    {
      "cell_type": "markdown",
      "metadata": {
        "id": "LQ9DZJ133vH2"
      },
      "source": [
        "## STEP 5: Predictions and Evaluations on Test Set"
      ]
    },
    {
      "cell_type": "code",
      "metadata": {
        "id": "ojd1QDrE3vH2"
      },
      "source": [
        "#create a list of numeric variables\n",
        "num_vars = ['temp','hum','windspeed', 'cnt']\n",
        "\n",
        "#2. Transform Test data set\n",
        "\n",
        "df_test[num_vars] = scl.transform(df_test[num_vars])\n",
        "df_test.head()"
      ],
      "execution_count": null,
      "outputs": []
    },
    {
      "cell_type": "code",
      "metadata": {
        "id": "no6WILBz3vH3"
      },
      "source": [
        "df_test.describe()"
      ],
      "execution_count": null,
      "outputs": []
    },
    {
      "cell_type": "code",
      "metadata": {
        "id": "ubnDQfgx3vH4"
      },
      "source": [
        "y_test = df_test.pop('cnt')\n",
        "X_test = df_test"
      ],
      "execution_count": null,
      "outputs": []
    },
    {
      "cell_type": "code",
      "metadata": {
        "id": "NhfUQRjf3vH4"
      },
      "source": [
        "# Creating X_test_new dataframe by dropping variables from X_test\n",
        "X_test_new = X_test[X_train_final.columns]\n",
        "X_test_new = X_test_new.astype(float)\n",
        "\n",
        "# Adding a constant variable \n",
        "X_test_new = sm.add_constant(X_test_new)"
      ],
      "execution_count": null,
      "outputs": []
    },
    {
      "cell_type": "code",
      "metadata": {
        "id": "hEtpqmVm3vH5"
      },
      "source": [
        "# Making predictions\n",
        "y_pred = lm.predict(X_test_new)"
      ],
      "execution_count": null,
      "outputs": []
    },
    {
      "cell_type": "markdown",
      "metadata": {
        "id": "G2vFxeOQ3vH6"
      },
      "source": [
        "### Model Evaluation"
      ]
    },
    {
      "cell_type": "code",
      "metadata": {
        "id": "1gSay5IQ3vH6"
      },
      "source": [
        "# Plotting y_test and y_pred to understand the spread.\n",
        "fig = plt.figure()\n",
        "plt.scatter(y_test,y_pred)\n",
        "fig.suptitle('y_test vs y_pred', fontsize=20)              # Plot heading \n",
        "plt.xlabel('y_test', fontsize=18)                          # X-label\n",
        "plt.ylabel('y_pred', fontsize=16)                          # Y-label"
      ],
      "execution_count": null,
      "outputs": []
    },
    {
      "cell_type": "code",
      "metadata": {
        "id": "d2wfj6i73vH7"
      },
      "source": [
        "#evaluate\n",
        "r2_score(y_true = y_test,y_pred = y_pred)"
      ],
      "execution_count": null,
      "outputs": []
    },
    {
      "cell_type": "markdown",
      "metadata": {
        "id": "gXg0mmVs3vH8"
      },
      "source": [
        "**Overall we have a good model with almost 81% of variance in the output being explained by the model.**"
      ]
    },
    {
      "cell_type": "markdown",
      "metadata": {
        "id": "NOZT5Ct03vH9"
      },
      "source": [
        "### The following 3 variables are significant in the demand of shared bikes\n",
        "- Temperature: \n",
        "- Season: Winter\n",
        "- Month: January"
      ]
    },
    {
      "cell_type": "code",
      "metadata": {
        "id": "Ylwt0ek1-sLZ"
      },
      "source": [
        ""
      ],
      "execution_count": null,
      "outputs": []
    }
  ]
}