{
  "nbformat": 4,
  "nbformat_minor": 0,
  "metadata": {
    "colab": {
      "name": "Machine Learning Modelling.ipynb",
      "provenance": [],
      "collapsed_sections": [],
      "toc_visible": true,
      "authorship_tag": "ABX9TyPlDH5jiGVkeFLA+2oHdK3v",
      "include_colab_link": true
    },
    "kernelspec": {
      "name": "python3",
      "display_name": "Python 3"
    },
    "language_info": {
      "name": "python"
    }
  },
  "cells": [
    {
      "cell_type": "markdown",
      "metadata": {
        "id": "view-in-github",
        "colab_type": "text"
      },
      "source": [
        "<a href=\"https://colab.research.google.com/github/datagrad/DataScience-Projects/blob/main/Machine_Learning_Modelling.ipynb\" target=\"_parent\"><img src=\"https://colab.research.google.com/assets/colab-badge.svg\" alt=\"Open In Colab\"/></a>"
      ]
    },
    {
      "cell_type": "markdown",
      "metadata": {
        "id": "PS0UZXwJ311T"
      },
      "source": [
        "**Disclaimer:** This is a framework designed, to help someone with Zero knowledge about coding involved in model creation and testing it.<br/>\n",
        "**Steps to follow:** \n",
        "\n",
        "\n",
        "1.   Replace the `Dataframe_name` with your dataframe name.\n",
        "2.   Frome Machine Learning Model 2 onward, start replacing the `variable_tbd` with the variable you want to be dropped in the next stage of model.\n",
        "3.   This framework shows 10 levels of Machine Leaning model creation, though your model may require more or less number of tritration. \n",
        "4.   In case you need more number of titration, copy the code of Machine Learning Model 10, paste it at the end as new Machine Learning Model say `Machine Learning Model 11`, and change `lr_10` to `lr_11` at two places. Repeat the same until yoou get your potential result.\n"
      ]
    },
    {
      "cell_type": "markdown",
      "metadata": {
        "id": "yj8tqmFeJzyn"
      },
      "source": [
        "# <span style=\"color:IndianRed ;\">Model building\n",
        "Fit a regression line through the training data using `statsmodels`."
      ]
    },
    {
      "cell_type": "code",
      "metadata": {
        "id": "SoOIDk7KWYsX"
      },
      "source": [
        "# Check for the VIF values of the feature variables. \n",
        "from statsmodels.stats.outliers_influence import variance_inflation_factor"
      ],
      "execution_count": null,
      "outputs": []
    },
    {
      "cell_type": "markdown",
      "metadata": {
        "id": "NfvkScI7wQ2b"
      },
      "source": [
        "**Steps of Model Building Phase:** \n",
        "\n",
        "1.   Create a Machine Learning Model lr_n* using OLS, taking X_train as the constant source, where n will be the respective model number. \n",
        "2.   Print summary of the newly created model, and analyse the values. Keep relatively higher focus on p- value and constant collumn.\n",
        "3.   Check for the VIF values of the feature variables using variance_inflation_factor from the statsmodels.\n",
        "4.   Check the variables for which p>0.05 and VIF>5, drop one such variable at once.\n",
        "5.   Repeat the Step 1 to step 4, until we get p < 0.05 and VIF < 5 for all the variables."
      ]
    },
    {
      "cell_type": "markdown",
      "metadata": {
        "id": "urCGCakxWYsX"
      },
      "source": [
        "**About p-value**\n",
        "The p-values determines the significance level of the variable to the model. Higher the absolute p-value, lesser is the significance level.\n",
        "\n",
        "We can simply drop the variable with the highest (i.e. non-significant) p-value. A better way would be to supplement this with the VIF information. "
      ]
    },
    {
      "cell_type": "markdown",
      "metadata": {
        "id": "7YRxxf2MWYsX"
      },
      "source": [
        "**Checking VIF**\n",
        "\n",
        "Variance Inflation Factor or VIF, gives a basic quantitative idea about how much the feature variables are correlated with each other. It is an extremely important parameter to test our linear model. The formula for calculating `VIF` is:\n",
        "\n",
        "### $ VIF_i = \\frac{1}{1 - {R_i}^2} $"
      ]
    },
    {
      "cell_type": "markdown",
      "metadata": {
        "id": "xhYBYizKp4KF"
      },
      "source": [
        "### Dividing into X and Y sets for the model building"
      ]
    },
    {
      "cell_type": "code",
      "metadata": {
        "id": "rXh3WDRPp4KG"
      },
      "source": [
        "y_train = df_train.pop('cnt')\n",
        "X_train = df_train"
      ],
      "execution_count": null,
      "outputs": []
    },
    {
      "cell_type": "code",
      "metadata": {
        "id": "NERjLCdlWYsX"
      },
      "source": [
        "# Check all the columns of the dataframe\n",
        "\n",
        "Dataframe_name.columns"
      ],
      "execution_count": null,
      "outputs": []
    },
    {
      "cell_type": "markdown",
      "metadata": {
        "id": "OqcA5-z0HuNT"
      },
      "source": [
        "##Machine Learning Model 1"
      ]
    },
    {
      "cell_type": "markdown",
      "metadata": {
        "id": "eJBSsWBgsjZk"
      },
      "source": [
        "####Create first model"
      ]
    },
    {
      "cell_type": "code",
      "metadata": {
        "id": "YO6HYktUWYsX"
      },
      "source": [
        "#Build a linear model\n",
        "\n",
        "import statsmodels.api as sm\n",
        "X_train_lm = sm.add_constant(X_train)\n",
        "\n",
        "lr_1 = sm.OLS(y_train, X_train_lm).fit()\n",
        "\n",
        "lr_1.params"
      ],
      "execution_count": null,
      "outputs": []
    },
    {
      "cell_type": "markdown",
      "metadata": {
        "id": "1eqFf3vysR4D"
      },
      "source": [
        "####Print first model"
      ]
    },
    {
      "cell_type": "code",
      "metadata": {
        "scrolled": false,
        "id": "e8djntUEWYsX"
      },
      "source": [
        "print(lr_1.summary())"
      ],
      "execution_count": null,
      "outputs": []
    },
    {
      "cell_type": "markdown",
      "metadata": {
        "id": "dNSNNPo_sVH1"
      },
      "source": [
        "####Check VIF of first model"
      ]
    },
    {
      "cell_type": "code",
      "metadata": {
        "id": "0_wdpUBgWYsY"
      },
      "source": [
        "# Create a dataframe that will contain the names of all the feature variables and their respective VIFs\n",
        "vif = pd.DataFrame()\n",
        "vif['Features'] = X_train.columns\n",
        "vif['VIF'] = [variance_inflation_factor(X_train.values, i) for i in range(X_train.shape[1])]\n",
        "vif['VIF'] = round(vif['VIF'], 2)\n",
        "vif = vif.sort_values(by = \"VIF\", ascending = False)\n",
        "vif"
      ],
      "execution_count": null,
      "outputs": []
    },
    {
      "cell_type": "markdown",
      "metadata": {
        "id": "qSxO8wpYcwV9"
      },
      "source": [
        "##Machine Learning Model 2"
      ]
    },
    {
      "cell_type": "markdown",
      "metadata": {
        "id": "2tYX0PnosurX"
      },
      "source": [
        "####Create second model by dropping a variable\n"
      ]
    },
    {
      "cell_type": "code",
      "metadata": {
        "id": "cp8cvllJWYsY"
      },
      "source": [
        "# Dropping highly correlated variables and insignificant variables\n",
        "\n",
        "X = X_train.drop('variable_tbd', 1,)"
      ],
      "execution_count": null,
      "outputs": []
    },
    {
      "cell_type": "code",
      "metadata": {
        "id": "UX3Y3OjoWYsY"
      },
      "source": [
        "# Build a third fitted model\n",
        "X_train_lm = sm.add_constant(X)\n",
        "\n",
        "lr_2 = sm.OLS(y_train, X_train_lm).fit()"
      ],
      "execution_count": null,
      "outputs": []
    },
    {
      "cell_type": "markdown",
      "metadata": {
        "id": "uRafVa-mueb9"
      },
      "source": [
        "####Print second model"
      ]
    },
    {
      "cell_type": "code",
      "metadata": {
        "id": "srkORHxuWYsY"
      },
      "source": [
        "# Print the summary of the model\n",
        "print(lr_2.summary())"
      ],
      "execution_count": null,
      "outputs": []
    },
    {
      "cell_type": "markdown",
      "metadata": {
        "id": "Y4U_5DP-ugSt"
      },
      "source": [
        "####Check VIF of second model"
      ]
    },
    {
      "cell_type": "code",
      "metadata": {
        "id": "h8sGQ-3CWYsY"
      },
      "source": [
        "# Calculate the VIFs again for the new model\n",
        "\n",
        "vif = pd.DataFrame()\n",
        "vif['Features'] = X.columns\n",
        "vif['VIF'] = [variance_inflation_factor(X.values, i) for i in range(X.shape[1])]\n",
        "vif['VIF'] = round(vif['VIF'], 2)\n",
        "vif = vif.sort_values(by = \"VIF\", ascending = False)\n",
        "vif"
      ],
      "execution_count": null,
      "outputs": []
    },
    {
      "cell_type": "markdown",
      "metadata": {
        "id": "X13Ga7a5cz8C"
      },
      "source": [
        "##Machine Learning Model 3"
      ]
    },
    {
      "cell_type": "markdown",
      "metadata": {
        "id": "Dt48HZ4gtA1H"
      },
      "source": [
        "####Create third model by dropping a variable\n"
      ]
    },
    {
      "cell_type": "code",
      "metadata": {
        "id": "nLhByr3UWYsZ"
      },
      "source": [
        "# Dropping highly correlated variables and insignificant variables\n",
        "X = X.drop('variable_tbd', 1)"
      ],
      "execution_count": null,
      "outputs": []
    },
    {
      "cell_type": "code",
      "metadata": {
        "id": "WcfgOY00WYsZ"
      },
      "source": [
        "# Build a second fitted model\n",
        "X_train_lm = sm.add_constant(X)\n",
        "\n",
        "lr_3 = sm.OLS(y_train, X_train_lm).fit()"
      ],
      "execution_count": null,
      "outputs": []
    },
    {
      "cell_type": "markdown",
      "metadata": {
        "id": "OHsOv1IEumr9"
      },
      "source": [
        "####Print third model"
      ]
    },
    {
      "cell_type": "code",
      "metadata": {
        "id": "-2qCpDrFWYsZ"
      },
      "source": [
        "# Print the summary of the model\n",
        "\n",
        "print(lr_3.summary())"
      ],
      "execution_count": null,
      "outputs": []
    },
    {
      "cell_type": "markdown",
      "metadata": {
        "id": "i1FULLzzuoFL"
      },
      "source": [
        "\n",
        "####Check VIF of third model"
      ]
    },
    {
      "cell_type": "code",
      "metadata": {
        "colab": {
          "base_uri": "https://localhost:8080/",
          "height": 388
        },
        "id": "EArhfWT6WYsZ",
        "outputId": "da82b788-2fa5-4df7-9a7a-473d90a8b16a"
      },
      "source": [
        "# Calculate the VIFs again for the new model\n",
        "vif = pd.DataFrame()\n",
        "vif['Features'] = X.columns\n",
        "vif['VIF'] = [variance_inflation_factor(X.values, i) for i in range(X.shape[1])]\n",
        "vif['VIF'] = round(vif['VIF'], 2)\n",
        "vif = vif.sort_values(by = \"VIF\", ascending = False)\n",
        "vif"
      ],
      "execution_count": null,
      "outputs": [
        {
          "output_type": "execute_result",
          "data": {
            "text/html": [
              "<div>\n",
              "<style scoped>\n",
              "    .dataframe tbody tr th:only-of-type {\n",
              "        vertical-align: middle;\n",
              "    }\n",
              "\n",
              "    .dataframe tbody tr th {\n",
              "        vertical-align: top;\n",
              "    }\n",
              "\n",
              "    .dataframe thead th {\n",
              "        text-align: right;\n",
              "    }\n",
              "</style>\n",
              "<table border=\"1\" class=\"dataframe\">\n",
              "  <thead>\n",
              "    <tr style=\"text-align: right;\">\n",
              "      <th></th>\n",
              "      <th>Features</th>\n",
              "      <th>VIF</th>\n",
              "    </tr>\n",
              "  </thead>\n",
              "  <tbody>\n",
              "    <tr>\n",
              "      <th>3</th>\n",
              "      <td>mainroad</td>\n",
              "      <td>4.79</td>\n",
              "    </tr>\n",
              "    <tr>\n",
              "      <th>0</th>\n",
              "      <td>area</td>\n",
              "      <td>4.55</td>\n",
              "    </tr>\n",
              "    <tr>\n",
              "      <th>2</th>\n",
              "      <td>stories</td>\n",
              "      <td>2.23</td>\n",
              "    </tr>\n",
              "    <tr>\n",
              "      <th>8</th>\n",
              "      <td>parking</td>\n",
              "      <td>2.10</td>\n",
              "    </tr>\n",
              "    <tr>\n",
              "      <th>5</th>\n",
              "      <td>basement</td>\n",
              "      <td>1.87</td>\n",
              "    </tr>\n",
              "    <tr>\n",
              "      <th>7</th>\n",
              "      <td>airconditioning</td>\n",
              "      <td>1.76</td>\n",
              "    </tr>\n",
              "    <tr>\n",
              "      <th>1</th>\n",
              "      <td>bathrooms</td>\n",
              "      <td>1.61</td>\n",
              "    </tr>\n",
              "    <tr>\n",
              "      <th>9</th>\n",
              "      <td>prefarea</td>\n",
              "      <td>1.50</td>\n",
              "    </tr>\n",
              "    <tr>\n",
              "      <th>4</th>\n",
              "      <td>guestroom</td>\n",
              "      <td>1.46</td>\n",
              "    </tr>\n",
              "    <tr>\n",
              "      <th>10</th>\n",
              "      <td>unfurnished</td>\n",
              "      <td>1.33</td>\n",
              "    </tr>\n",
              "    <tr>\n",
              "      <th>6</th>\n",
              "      <td>hotwaterheating</td>\n",
              "      <td>1.12</td>\n",
              "    </tr>\n",
              "  </tbody>\n",
              "</table>\n",
              "</div>"
            ],
            "text/plain": [
              "           Features   VIF\n",
              "3          mainroad  4.79\n",
              "0              area  4.55\n",
              "2           stories  2.23\n",
              "8           parking  2.10\n",
              "5          basement  1.87\n",
              "7   airconditioning  1.76\n",
              "1         bathrooms  1.61\n",
              "9          prefarea  1.50\n",
              "4         guestroom  1.46\n",
              "10      unfurnished  1.33\n",
              "6   hotwaterheating  1.12"
            ]
          },
          "metadata": {
            "tags": []
          },
          "execution_count": 53
        }
      ]
    },
    {
      "cell_type": "markdown",
      "metadata": {
        "id": "z_ZYB8ryc3GB"
      },
      "source": [
        "##Machine Learning Model 4"
      ]
    },
    {
      "cell_type": "markdown",
      "metadata": {
        "id": "hBMp4hpVtDeU"
      },
      "source": [
        "####Create fourth model by dropping a variable\n"
      ]
    },
    {
      "cell_type": "code",
      "metadata": {
        "id": "kg_kDj6hWYsZ"
      },
      "source": [
        "X = X.drop('variable_tbd', 1)"
      ],
      "execution_count": null,
      "outputs": []
    },
    {
      "cell_type": "code",
      "metadata": {
        "id": "F-fDviBrWYsa"
      },
      "source": [
        "# Build a fourth fitted model\n",
        "X_train_lm = sm.add_constant(X)\n",
        "\n",
        "lr_4 = sm.OLS(y_train, X_train_lm).fit()"
      ],
      "execution_count": null,
      "outputs": []
    },
    {
      "cell_type": "markdown",
      "metadata": {
        "id": "YScfd4qCusW7"
      },
      "source": [
        "####Print fourth model"
      ]
    },
    {
      "cell_type": "code",
      "metadata": {
        "id": "QqWQTpW2WYsa"
      },
      "source": [
        "print(lr_4.summary())"
      ],
      "execution_count": null,
      "outputs": []
    },
    {
      "cell_type": "markdown",
      "metadata": {
        "id": "NsKi9WHTuuPR"
      },
      "source": [
        "\n",
        "####Check VIF of fourth model"
      ]
    },
    {
      "cell_type": "code",
      "metadata": {
        "id": "XRYsJfdgWYsa"
      },
      "source": [
        "# Calculate the VIFs again for the new model\n",
        "vif = pd.DataFrame()\n",
        "vif['Features'] = X.columns\n",
        "vif['VIF'] = [variance_inflation_factor(X.values, i) for i in range(X.shape[1])]\n",
        "vif['VIF'] = round(vif['VIF'], 2)\n",
        "vif = vif.sort_values(by = \"VIF\", ascending = False)\n",
        "vif"
      ],
      "execution_count": null,
      "outputs": []
    },
    {
      "cell_type": "markdown",
      "metadata": {
        "id": "qkNkktSjr7Qu"
      },
      "source": [
        "##Machine Learning Model 5"
      ]
    },
    {
      "cell_type": "markdown",
      "metadata": {
        "id": "RelxWUdktJG5"
      },
      "source": [
        "####Create fifth model by dropping a variable\n"
      ]
    },
    {
      "cell_type": "code",
      "metadata": {
        "id": "tk_1Pi3ur7RI"
      },
      "source": [
        "X = X.drop('variable_tbd', 1)"
      ],
      "execution_count": null,
      "outputs": []
    },
    {
      "cell_type": "code",
      "metadata": {
        "id": "AJ-pxMmar7RJ"
      },
      "source": [
        "# Build a fourth fitted model\n",
        "X_train_lm = sm.add_constant(X)\n",
        "\n",
        "lr_5 = sm.OLS(y_train, X_train_lm).fit()"
      ],
      "execution_count": null,
      "outputs": []
    },
    {
      "cell_type": "markdown",
      "metadata": {
        "id": "Gf_in9bfuz54"
      },
      "source": [
        "####Print fifth model"
      ]
    },
    {
      "cell_type": "code",
      "metadata": {
        "id": "Pjudv8m1r7RJ"
      },
      "source": [
        "print(lr_5.summary())"
      ],
      "execution_count": null,
      "outputs": []
    },
    {
      "cell_type": "markdown",
      "metadata": {
        "id": "30XqYIpau1cE"
      },
      "source": [
        "\n",
        "####Check VIF of fifth model"
      ]
    },
    {
      "cell_type": "code",
      "metadata": {
        "colab": {
          "base_uri": "https://localhost:8080/",
          "height": 238
        },
        "id": "HmjPcKPOr7RK",
        "outputId": "d03cc4a1-6483-4449-8984-332a131c737d"
      },
      "source": [
        "# Calculate the VIFs again for the new model\n",
        "vif = pd.DataFrame()\n",
        "vif['Features'] = X.columns\n",
        "vif['VIF'] = [variance_inflation_factor(X.values, i) for i in range(X.shape[1])]\n",
        "vif['VIF'] = round(vif['VIF'], 2)\n",
        "vif = vif.sort_values(by = \"VIF\", ascending = False)\n",
        "vif"
      ],
      "execution_count": 1,
      "outputs": [
        {
          "output_type": "error",
          "ename": "NameError",
          "evalue": "ignored",
          "traceback": [
            "\u001b[0;31m---------------------------------------------------------------------------\u001b[0m",
            "\u001b[0;31mNameError\u001b[0m                                 Traceback (most recent call last)",
            "\u001b[0;32m<ipython-input-1-cf1810528305>\u001b[0m in \u001b[0;36m<module>\u001b[0;34m()\u001b[0m\n\u001b[1;32m      1\u001b[0m \u001b[0;31m# Calculate the VIFs again for the new model\u001b[0m\u001b[0;34m\u001b[0m\u001b[0;34m\u001b[0m\u001b[0;34m\u001b[0m\u001b[0m\n\u001b[0;32m----> 2\u001b[0;31m \u001b[0mvif\u001b[0m \u001b[0;34m=\u001b[0m \u001b[0mpd\u001b[0m\u001b[0;34m.\u001b[0m\u001b[0mDataFrame\u001b[0m\u001b[0;34m(\u001b[0m\u001b[0;34m)\u001b[0m\u001b[0;34m\u001b[0m\u001b[0;34m\u001b[0m\u001b[0m\n\u001b[0m\u001b[1;32m      3\u001b[0m \u001b[0mvif\u001b[0m\u001b[0;34m[\u001b[0m\u001b[0;34m'Features'\u001b[0m\u001b[0;34m]\u001b[0m \u001b[0;34m=\u001b[0m \u001b[0mX\u001b[0m\u001b[0;34m.\u001b[0m\u001b[0mcolumns\u001b[0m\u001b[0;34m\u001b[0m\u001b[0;34m\u001b[0m\u001b[0m\n\u001b[1;32m      4\u001b[0m \u001b[0mvif\u001b[0m\u001b[0;34m[\u001b[0m\u001b[0;34m'VIF'\u001b[0m\u001b[0;34m]\u001b[0m \u001b[0;34m=\u001b[0m \u001b[0;34m[\u001b[0m\u001b[0mvariance_inflation_factor\u001b[0m\u001b[0;34m(\u001b[0m\u001b[0mX\u001b[0m\u001b[0;34m.\u001b[0m\u001b[0mvalues\u001b[0m\u001b[0;34m,\u001b[0m \u001b[0mi\u001b[0m\u001b[0;34m)\u001b[0m \u001b[0;32mfor\u001b[0m \u001b[0mi\u001b[0m \u001b[0;32min\u001b[0m \u001b[0mrange\u001b[0m\u001b[0;34m(\u001b[0m\u001b[0mX\u001b[0m\u001b[0;34m.\u001b[0m\u001b[0mshape\u001b[0m\u001b[0;34m[\u001b[0m\u001b[0;36m1\u001b[0m\u001b[0;34m]\u001b[0m\u001b[0;34m)\u001b[0m\u001b[0;34m]\u001b[0m\u001b[0;34m\u001b[0m\u001b[0;34m\u001b[0m\u001b[0m\n\u001b[1;32m      5\u001b[0m \u001b[0mvif\u001b[0m\u001b[0;34m[\u001b[0m\u001b[0;34m'VIF'\u001b[0m\u001b[0;34m]\u001b[0m \u001b[0;34m=\u001b[0m \u001b[0mround\u001b[0m\u001b[0;34m(\u001b[0m\u001b[0mvif\u001b[0m\u001b[0;34m[\u001b[0m\u001b[0;34m'VIF'\u001b[0m\u001b[0;34m]\u001b[0m\u001b[0;34m,\u001b[0m \u001b[0;36m2\u001b[0m\u001b[0;34m)\u001b[0m\u001b[0;34m\u001b[0m\u001b[0;34m\u001b[0m\u001b[0m\n",
            "\u001b[0;31mNameError\u001b[0m: name 'pd' is not defined"
          ]
        }
      ]
    },
    {
      "cell_type": "code",
      "metadata": {
        "id": "eTYt9tjzr8YJ"
      },
      "source": [
        ""
      ],
      "execution_count": null,
      "outputs": []
    },
    {
      "cell_type": "markdown",
      "metadata": {
        "id": "DYJuTljyr8qp"
      },
      "source": [
        "##Machine Learning Model 6"
      ]
    },
    {
      "cell_type": "markdown",
      "metadata": {
        "id": "AzhM2cMitNX1"
      },
      "source": [
        "####Create sixth model by dropping a variable\n"
      ]
    },
    {
      "cell_type": "code",
      "metadata": {
        "id": "ZaIBg_LRr8qq"
      },
      "source": [
        "X = X.drop('variable_tbd', 1)"
      ],
      "execution_count": null,
      "outputs": []
    },
    {
      "cell_type": "code",
      "metadata": {
        "id": "3jLCRfNrr8qs"
      },
      "source": [
        "# Build a fourth fitted model\n",
        "X_train_lm = sm.add_constant(X)\n",
        "\n",
        "lr_6 = sm.OLS(y_train, X_train_lm).fit()"
      ],
      "execution_count": null,
      "outputs": []
    },
    {
      "cell_type": "markdown",
      "metadata": {
        "id": "9RP5NeH8u9oh"
      },
      "source": [
        "####Print sixth model"
      ]
    },
    {
      "cell_type": "code",
      "metadata": {
        "id": "077qJXwwr8qt"
      },
      "source": [
        "print(lr_6.summary())"
      ],
      "execution_count": null,
      "outputs": []
    },
    {
      "cell_type": "markdown",
      "metadata": {
        "id": "2-54u5Avu_Il"
      },
      "source": [
        "\n",
        "####Check VIF of sixth model"
      ]
    },
    {
      "cell_type": "code",
      "metadata": {
        "colab": {
          "base_uri": "https://localhost:8080/",
          "height": 238
        },
        "id": "kxOFiP9Pr8qt",
        "outputId": "db974af2-2b83-4112-e443-27910bcedd53"
      },
      "source": [
        "# Calculate the VIFs again for the new model\n",
        "vif = pd.DataFrame()\n",
        "vif['Features'] = X.columns\n",
        "vif['VIF'] = [variance_inflation_factor(X.values, i) for i in range(X.shape[1])]\n",
        "vif['VIF'] = round(vif['VIF'], 2)\n",
        "vif = vif.sort_values(by = \"VIF\", ascending = False)\n",
        "vif"
      ],
      "execution_count": 2,
      "outputs": [
        {
          "output_type": "error",
          "ename": "NameError",
          "evalue": "ignored",
          "traceback": [
            "\u001b[0;31m---------------------------------------------------------------------------\u001b[0m",
            "\u001b[0;31mNameError\u001b[0m                                 Traceback (most recent call last)",
            "\u001b[0;32m<ipython-input-2-cf1810528305>\u001b[0m in \u001b[0;36m<module>\u001b[0;34m()\u001b[0m\n\u001b[1;32m      1\u001b[0m \u001b[0;31m# Calculate the VIFs again for the new model\u001b[0m\u001b[0;34m\u001b[0m\u001b[0;34m\u001b[0m\u001b[0;34m\u001b[0m\u001b[0m\n\u001b[0;32m----> 2\u001b[0;31m \u001b[0mvif\u001b[0m \u001b[0;34m=\u001b[0m \u001b[0mpd\u001b[0m\u001b[0;34m.\u001b[0m\u001b[0mDataFrame\u001b[0m\u001b[0;34m(\u001b[0m\u001b[0;34m)\u001b[0m\u001b[0;34m\u001b[0m\u001b[0;34m\u001b[0m\u001b[0m\n\u001b[0m\u001b[1;32m      3\u001b[0m \u001b[0mvif\u001b[0m\u001b[0;34m[\u001b[0m\u001b[0;34m'Features'\u001b[0m\u001b[0;34m]\u001b[0m \u001b[0;34m=\u001b[0m \u001b[0mX\u001b[0m\u001b[0;34m.\u001b[0m\u001b[0mcolumns\u001b[0m\u001b[0;34m\u001b[0m\u001b[0;34m\u001b[0m\u001b[0m\n\u001b[1;32m      4\u001b[0m \u001b[0mvif\u001b[0m\u001b[0;34m[\u001b[0m\u001b[0;34m'VIF'\u001b[0m\u001b[0;34m]\u001b[0m \u001b[0;34m=\u001b[0m \u001b[0;34m[\u001b[0m\u001b[0mvariance_inflation_factor\u001b[0m\u001b[0;34m(\u001b[0m\u001b[0mX\u001b[0m\u001b[0;34m.\u001b[0m\u001b[0mvalues\u001b[0m\u001b[0;34m,\u001b[0m \u001b[0mi\u001b[0m\u001b[0;34m)\u001b[0m \u001b[0;32mfor\u001b[0m \u001b[0mi\u001b[0m \u001b[0;32min\u001b[0m \u001b[0mrange\u001b[0m\u001b[0;34m(\u001b[0m\u001b[0mX\u001b[0m\u001b[0;34m.\u001b[0m\u001b[0mshape\u001b[0m\u001b[0;34m[\u001b[0m\u001b[0;36m1\u001b[0m\u001b[0;34m]\u001b[0m\u001b[0;34m)\u001b[0m\u001b[0;34m]\u001b[0m\u001b[0;34m\u001b[0m\u001b[0;34m\u001b[0m\u001b[0m\n\u001b[1;32m      5\u001b[0m \u001b[0mvif\u001b[0m\u001b[0;34m[\u001b[0m\u001b[0;34m'VIF'\u001b[0m\u001b[0;34m]\u001b[0m \u001b[0;34m=\u001b[0m \u001b[0mround\u001b[0m\u001b[0;34m(\u001b[0m\u001b[0mvif\u001b[0m\u001b[0;34m[\u001b[0m\u001b[0;34m'VIF'\u001b[0m\u001b[0;34m]\u001b[0m\u001b[0;34m,\u001b[0m \u001b[0;36m2\u001b[0m\u001b[0;34m)\u001b[0m\u001b[0;34m\u001b[0m\u001b[0;34m\u001b[0m\u001b[0m\n",
            "\u001b[0;31mNameError\u001b[0m: name 'pd' is not defined"
          ]
        }
      ]
    },
    {
      "cell_type": "code",
      "metadata": {
        "id": "ZiYH4Rsar92i"
      },
      "source": [
        ""
      ],
      "execution_count": null,
      "outputs": []
    },
    {
      "cell_type": "markdown",
      "metadata": {
        "id": "20hD7gIir-GE"
      },
      "source": [
        "##Machine Learning Model 7"
      ]
    },
    {
      "cell_type": "markdown",
      "metadata": {
        "id": "IMRlMjC5tWD6"
      },
      "source": [
        "####Create seventh model by dropping a variable\n"
      ]
    },
    {
      "cell_type": "code",
      "metadata": {
        "id": "Wdm12_ycr-GF"
      },
      "source": [
        "X = X.drop('variable_tbd', 1)"
      ],
      "execution_count": null,
      "outputs": []
    },
    {
      "cell_type": "code",
      "metadata": {
        "id": "A1dKue7_r-GG"
      },
      "source": [
        "# Build a fourth fitted model\n",
        "X_train_lm = sm.add_constant(X)\n",
        "\n",
        "lr_7 = sm.OLS(y_train, X_train_lm).fit()"
      ],
      "execution_count": null,
      "outputs": []
    },
    {
      "cell_type": "markdown",
      "metadata": {
        "id": "nHlL7KmkvDKl"
      },
      "source": [
        "####Print seventh modelx"
      ]
    },
    {
      "cell_type": "code",
      "metadata": {
        "id": "Ueb1xaEgr-GG"
      },
      "source": [
        "print(lr_7.summary())"
      ],
      "execution_count": null,
      "outputs": []
    },
    {
      "cell_type": "markdown",
      "metadata": {
        "id": "LbmJYVhjvEoF"
      },
      "source": [
        "####Check VIF of seventh model"
      ]
    },
    {
      "cell_type": "code",
      "metadata": {
        "colab": {
          "base_uri": "https://localhost:8080/",
          "height": 238
        },
        "id": "_Frsd6iWr-GH",
        "outputId": "83d5370a-c15b-48ad-aa6c-594eedee4364"
      },
      "source": [
        "# Calculate the VIFs again for the new model\n",
        "vif = pd.DataFrame()\n",
        "vif['Features'] = X.columns\n",
        "vif['VIF'] = [variance_inflation_factor(X.values, i) for i in range(X.shape[1])]\n",
        "vif['VIF'] = round(vif['VIF'], 2)\n",
        "vif = vif.sort_values(by = \"VIF\", ascending = False)\n",
        "vif"
      ],
      "execution_count": 3,
      "outputs": [
        {
          "output_type": "error",
          "ename": "NameError",
          "evalue": "ignored",
          "traceback": [
            "\u001b[0;31m---------------------------------------------------------------------------\u001b[0m",
            "\u001b[0;31mNameError\u001b[0m                                 Traceback (most recent call last)",
            "\u001b[0;32m<ipython-input-3-cf1810528305>\u001b[0m in \u001b[0;36m<module>\u001b[0;34m()\u001b[0m\n\u001b[1;32m      1\u001b[0m \u001b[0;31m# Calculate the VIFs again for the new model\u001b[0m\u001b[0;34m\u001b[0m\u001b[0;34m\u001b[0m\u001b[0;34m\u001b[0m\u001b[0m\n\u001b[0;32m----> 2\u001b[0;31m \u001b[0mvif\u001b[0m \u001b[0;34m=\u001b[0m \u001b[0mpd\u001b[0m\u001b[0;34m.\u001b[0m\u001b[0mDataFrame\u001b[0m\u001b[0;34m(\u001b[0m\u001b[0;34m)\u001b[0m\u001b[0;34m\u001b[0m\u001b[0;34m\u001b[0m\u001b[0m\n\u001b[0m\u001b[1;32m      3\u001b[0m \u001b[0mvif\u001b[0m\u001b[0;34m[\u001b[0m\u001b[0;34m'Features'\u001b[0m\u001b[0;34m]\u001b[0m \u001b[0;34m=\u001b[0m \u001b[0mX\u001b[0m\u001b[0;34m.\u001b[0m\u001b[0mcolumns\u001b[0m\u001b[0;34m\u001b[0m\u001b[0;34m\u001b[0m\u001b[0m\n\u001b[1;32m      4\u001b[0m \u001b[0mvif\u001b[0m\u001b[0;34m[\u001b[0m\u001b[0;34m'VIF'\u001b[0m\u001b[0;34m]\u001b[0m \u001b[0;34m=\u001b[0m \u001b[0;34m[\u001b[0m\u001b[0mvariance_inflation_factor\u001b[0m\u001b[0;34m(\u001b[0m\u001b[0mX\u001b[0m\u001b[0;34m.\u001b[0m\u001b[0mvalues\u001b[0m\u001b[0;34m,\u001b[0m \u001b[0mi\u001b[0m\u001b[0;34m)\u001b[0m \u001b[0;32mfor\u001b[0m \u001b[0mi\u001b[0m \u001b[0;32min\u001b[0m \u001b[0mrange\u001b[0m\u001b[0;34m(\u001b[0m\u001b[0mX\u001b[0m\u001b[0;34m.\u001b[0m\u001b[0mshape\u001b[0m\u001b[0;34m[\u001b[0m\u001b[0;36m1\u001b[0m\u001b[0;34m]\u001b[0m\u001b[0;34m)\u001b[0m\u001b[0;34m]\u001b[0m\u001b[0;34m\u001b[0m\u001b[0;34m\u001b[0m\u001b[0m\n\u001b[1;32m      5\u001b[0m \u001b[0mvif\u001b[0m\u001b[0;34m[\u001b[0m\u001b[0;34m'VIF'\u001b[0m\u001b[0;34m]\u001b[0m \u001b[0;34m=\u001b[0m \u001b[0mround\u001b[0m\u001b[0;34m(\u001b[0m\u001b[0mvif\u001b[0m\u001b[0;34m[\u001b[0m\u001b[0;34m'VIF'\u001b[0m\u001b[0;34m]\u001b[0m\u001b[0;34m,\u001b[0m \u001b[0;36m2\u001b[0m\u001b[0;34m)\u001b[0m\u001b[0;34m\u001b[0m\u001b[0;34m\u001b[0m\u001b[0m\n",
            "\u001b[0;31mNameError\u001b[0m: name 'pd' is not defined"
          ]
        }
      ]
    },
    {
      "cell_type": "code",
      "metadata": {
        "id": "mD_oGgdfr-3B"
      },
      "source": [
        ""
      ],
      "execution_count": null,
      "outputs": []
    },
    {
      "cell_type": "markdown",
      "metadata": {
        "id": "VjIW5MbVr_Ez"
      },
      "source": [
        "##Machine Learning Model 8"
      ]
    },
    {
      "cell_type": "markdown",
      "metadata": {
        "id": "0egdqyGgtYfo"
      },
      "source": [
        "####Create eighth model by dropping a variable\n"
      ]
    },
    {
      "cell_type": "code",
      "metadata": {
        "id": "9UnozQ5Xr_E0"
      },
      "source": [
        "X = X.drop('variable_tbd', 1)"
      ],
      "execution_count": null,
      "outputs": []
    },
    {
      "cell_type": "code",
      "metadata": {
        "id": "9fHkRHpvr_E0"
      },
      "source": [
        "# Build a fourth fitted model\n",
        "X_train_lm = sm.add_constant(X)\n",
        "\n",
        "lr_8 = sm.OLS(y_train, X_train_lm).fit()"
      ],
      "execution_count": null,
      "outputs": []
    },
    {
      "cell_type": "markdown",
      "metadata": {
        "id": "WLUfukb3vOPA"
      },
      "source": [
        "####Print eighth model"
      ]
    },
    {
      "cell_type": "code",
      "metadata": {
        "id": "W8_7xq7fr_E1"
      },
      "source": [
        "print(lr_8.summary())"
      ],
      "execution_count": null,
      "outputs": []
    },
    {
      "cell_type": "markdown",
      "metadata": {
        "id": "oiLvZwYuvPsz"
      },
      "source": [
        "\n",
        "####Check VIF of eighth model"
      ]
    },
    {
      "cell_type": "code",
      "metadata": {
        "colab": {
          "base_uri": "https://localhost:8080/",
          "height": 238
        },
        "id": "w1Ekyq09r_E1",
        "outputId": "a6116108-dd2c-4995-a448-444519dd174e"
      },
      "source": [
        "# Calculate the VIFs again for the new model\n",
        "vif = pd.DataFrame()\n",
        "vif['Features'] = X.columns\n",
        "vif['VIF'] = [variance_inflation_factor(X.values, i) for i in range(X.shape[1])]\n",
        "vif['VIF'] = round(vif['VIF'], 2)\n",
        "vif = vif.sort_values(by = \"VIF\", ascending = False)\n",
        "vif"
      ],
      "execution_count": 4,
      "outputs": [
        {
          "output_type": "error",
          "ename": "NameError",
          "evalue": "ignored",
          "traceback": [
            "\u001b[0;31m---------------------------------------------------------------------------\u001b[0m",
            "\u001b[0;31mNameError\u001b[0m                                 Traceback (most recent call last)",
            "\u001b[0;32m<ipython-input-4-cf1810528305>\u001b[0m in \u001b[0;36m<module>\u001b[0;34m()\u001b[0m\n\u001b[1;32m      1\u001b[0m \u001b[0;31m# Calculate the VIFs again for the new model\u001b[0m\u001b[0;34m\u001b[0m\u001b[0;34m\u001b[0m\u001b[0;34m\u001b[0m\u001b[0m\n\u001b[0;32m----> 2\u001b[0;31m \u001b[0mvif\u001b[0m \u001b[0;34m=\u001b[0m \u001b[0mpd\u001b[0m\u001b[0;34m.\u001b[0m\u001b[0mDataFrame\u001b[0m\u001b[0;34m(\u001b[0m\u001b[0;34m)\u001b[0m\u001b[0;34m\u001b[0m\u001b[0;34m\u001b[0m\u001b[0m\n\u001b[0m\u001b[1;32m      3\u001b[0m \u001b[0mvif\u001b[0m\u001b[0;34m[\u001b[0m\u001b[0;34m'Features'\u001b[0m\u001b[0;34m]\u001b[0m \u001b[0;34m=\u001b[0m \u001b[0mX\u001b[0m\u001b[0;34m.\u001b[0m\u001b[0mcolumns\u001b[0m\u001b[0;34m\u001b[0m\u001b[0;34m\u001b[0m\u001b[0m\n\u001b[1;32m      4\u001b[0m \u001b[0mvif\u001b[0m\u001b[0;34m[\u001b[0m\u001b[0;34m'VIF'\u001b[0m\u001b[0;34m]\u001b[0m \u001b[0;34m=\u001b[0m \u001b[0;34m[\u001b[0m\u001b[0mvariance_inflation_factor\u001b[0m\u001b[0;34m(\u001b[0m\u001b[0mX\u001b[0m\u001b[0;34m.\u001b[0m\u001b[0mvalues\u001b[0m\u001b[0;34m,\u001b[0m \u001b[0mi\u001b[0m\u001b[0;34m)\u001b[0m \u001b[0;32mfor\u001b[0m \u001b[0mi\u001b[0m \u001b[0;32min\u001b[0m \u001b[0mrange\u001b[0m\u001b[0;34m(\u001b[0m\u001b[0mX\u001b[0m\u001b[0;34m.\u001b[0m\u001b[0mshape\u001b[0m\u001b[0;34m[\u001b[0m\u001b[0;36m1\u001b[0m\u001b[0;34m]\u001b[0m\u001b[0;34m)\u001b[0m\u001b[0;34m]\u001b[0m\u001b[0;34m\u001b[0m\u001b[0;34m\u001b[0m\u001b[0m\n\u001b[1;32m      5\u001b[0m \u001b[0mvif\u001b[0m\u001b[0;34m[\u001b[0m\u001b[0;34m'VIF'\u001b[0m\u001b[0;34m]\u001b[0m \u001b[0;34m=\u001b[0m \u001b[0mround\u001b[0m\u001b[0;34m(\u001b[0m\u001b[0mvif\u001b[0m\u001b[0;34m[\u001b[0m\u001b[0;34m'VIF'\u001b[0m\u001b[0;34m]\u001b[0m\u001b[0;34m,\u001b[0m \u001b[0;36m2\u001b[0m\u001b[0;34m)\u001b[0m\u001b[0;34m\u001b[0m\u001b[0;34m\u001b[0m\u001b[0m\n",
            "\u001b[0;31mNameError\u001b[0m: name 'pd' is not defined"
          ]
        }
      ]
    },
    {
      "cell_type": "code",
      "metadata": {
        "id": "m3xFb-XZr_6G"
      },
      "source": [
        ""
      ],
      "execution_count": null,
      "outputs": []
    },
    {
      "cell_type": "markdown",
      "metadata": {
        "id": "qOboNfbJsAI3"
      },
      "source": [
        "##Machine Learning Model 9"
      ]
    },
    {
      "cell_type": "markdown",
      "metadata": {
        "id": "K8Ze_wZJtgo2"
      },
      "source": [
        "####Create nineth model by dropping a variable\n"
      ]
    },
    {
      "cell_type": "code",
      "metadata": {
        "id": "n_fNmMAMsAI4"
      },
      "source": [
        "X = X.drop('variable_tbd', 1)"
      ],
      "execution_count": null,
      "outputs": []
    },
    {
      "cell_type": "code",
      "metadata": {
        "id": "AtZ6sZlRsAI4"
      },
      "source": [
        "# Build a fourth fitted model\n",
        "X_train_lm = sm.add_constant(X)\n",
        "\n",
        "lr_9 = sm.OLS(y_train, X_train_lm).fit()"
      ],
      "execution_count": null,
      "outputs": []
    },
    {
      "cell_type": "markdown",
      "metadata": {
        "id": "TwEhgY2svSRH"
      },
      "source": [
        "####Print nineth model\n"
      ]
    },
    {
      "cell_type": "code",
      "metadata": {
        "id": "78PwIZIusAI5"
      },
      "source": [
        "print(lr_9.summary())"
      ],
      "execution_count": null,
      "outputs": []
    },
    {
      "cell_type": "markdown",
      "metadata": {
        "id": "PExv1qVUvWnj"
      },
      "source": [
        "####Check VIF of nineth model"
      ]
    },
    {
      "cell_type": "code",
      "metadata": {
        "colab": {
          "base_uri": "https://localhost:8080/",
          "height": 238
        },
        "id": "9A252LLQsAI5",
        "outputId": "38097915-42a4-46a4-c08d-244ac8686a94"
      },
      "source": [
        "# Calculate the VIFs again for the new model\n",
        "vif = pd.DataFrame()\n",
        "vif['Features'] = X.columns\n",
        "vif['VIF'] = [variance_inflation_factor(X.values, i) for i in range(X.shape[1])]\n",
        "vif['VIF'] = round(vif['VIF'], 2)\n",
        "vif = vif.sort_values(by = \"VIF\", ascending = False)\n",
        "vif"
      ],
      "execution_count": 5,
      "outputs": [
        {
          "output_type": "error",
          "ename": "NameError",
          "evalue": "ignored",
          "traceback": [
            "\u001b[0;31m---------------------------------------------------------------------------\u001b[0m",
            "\u001b[0;31mNameError\u001b[0m                                 Traceback (most recent call last)",
            "\u001b[0;32m<ipython-input-5-cf1810528305>\u001b[0m in \u001b[0;36m<module>\u001b[0;34m()\u001b[0m\n\u001b[1;32m      1\u001b[0m \u001b[0;31m# Calculate the VIFs again for the new model\u001b[0m\u001b[0;34m\u001b[0m\u001b[0;34m\u001b[0m\u001b[0;34m\u001b[0m\u001b[0m\n\u001b[0;32m----> 2\u001b[0;31m \u001b[0mvif\u001b[0m \u001b[0;34m=\u001b[0m \u001b[0mpd\u001b[0m\u001b[0;34m.\u001b[0m\u001b[0mDataFrame\u001b[0m\u001b[0;34m(\u001b[0m\u001b[0;34m)\u001b[0m\u001b[0;34m\u001b[0m\u001b[0;34m\u001b[0m\u001b[0m\n\u001b[0m\u001b[1;32m      3\u001b[0m \u001b[0mvif\u001b[0m\u001b[0;34m[\u001b[0m\u001b[0;34m'Features'\u001b[0m\u001b[0;34m]\u001b[0m \u001b[0;34m=\u001b[0m \u001b[0mX\u001b[0m\u001b[0;34m.\u001b[0m\u001b[0mcolumns\u001b[0m\u001b[0;34m\u001b[0m\u001b[0;34m\u001b[0m\u001b[0m\n\u001b[1;32m      4\u001b[0m \u001b[0mvif\u001b[0m\u001b[0;34m[\u001b[0m\u001b[0;34m'VIF'\u001b[0m\u001b[0;34m]\u001b[0m \u001b[0;34m=\u001b[0m \u001b[0;34m[\u001b[0m\u001b[0mvariance_inflation_factor\u001b[0m\u001b[0;34m(\u001b[0m\u001b[0mX\u001b[0m\u001b[0;34m.\u001b[0m\u001b[0mvalues\u001b[0m\u001b[0;34m,\u001b[0m \u001b[0mi\u001b[0m\u001b[0;34m)\u001b[0m \u001b[0;32mfor\u001b[0m \u001b[0mi\u001b[0m \u001b[0;32min\u001b[0m \u001b[0mrange\u001b[0m\u001b[0;34m(\u001b[0m\u001b[0mX\u001b[0m\u001b[0;34m.\u001b[0m\u001b[0mshape\u001b[0m\u001b[0;34m[\u001b[0m\u001b[0;36m1\u001b[0m\u001b[0;34m]\u001b[0m\u001b[0;34m)\u001b[0m\u001b[0;34m]\u001b[0m\u001b[0;34m\u001b[0m\u001b[0;34m\u001b[0m\u001b[0m\n\u001b[1;32m      5\u001b[0m \u001b[0mvif\u001b[0m\u001b[0;34m[\u001b[0m\u001b[0;34m'VIF'\u001b[0m\u001b[0;34m]\u001b[0m \u001b[0;34m=\u001b[0m \u001b[0mround\u001b[0m\u001b[0;34m(\u001b[0m\u001b[0mvif\u001b[0m\u001b[0;34m[\u001b[0m\u001b[0;34m'VIF'\u001b[0m\u001b[0;34m]\u001b[0m\u001b[0;34m,\u001b[0m \u001b[0;36m2\u001b[0m\u001b[0;34m)\u001b[0m\u001b[0;34m\u001b[0m\u001b[0;34m\u001b[0m\u001b[0m\n",
            "\u001b[0;31mNameError\u001b[0m: name 'pd' is not defined"
          ]
        }
      ]
    },
    {
      "cell_type": "code",
      "metadata": {
        "id": "Z6U_2tpTtkfb"
      },
      "source": [
        ""
      ],
      "execution_count": null,
      "outputs": []
    },
    {
      "cell_type": "markdown",
      "metadata": {
        "id": "Sbzzdyjmtk_L"
      },
      "source": [
        "##Machine Learning Model 10"
      ]
    },
    {
      "cell_type": "markdown",
      "metadata": {
        "id": "CTVm7BNVtk_L"
      },
      "source": [
        "####Create tenth model by dropping a variable\n"
      ]
    },
    {
      "cell_type": "code",
      "metadata": {
        "id": "IMZLdkKAtk_M"
      },
      "source": [
        "X = X.drop('variable_tbd', 1)"
      ],
      "execution_count": null,
      "outputs": []
    },
    {
      "cell_type": "code",
      "metadata": {
        "id": "7I_r5WNUtk_M"
      },
      "source": [
        "# Build a fourth fitted model\n",
        "X_train_lm = sm.add_constant(X)\n",
        "\n",
        "lr_10 = sm.OLS(y_train, X_train_lm).fit()"
      ],
      "execution_count": null,
      "outputs": []
    },
    {
      "cell_type": "markdown",
      "metadata": {
        "id": "w9VFjZrJvb5n"
      },
      "source": [
        "####Print tenth model"
      ]
    },
    {
      "cell_type": "code",
      "metadata": {
        "id": "rwR8xFcOtk_N"
      },
      "source": [
        "print(lr_10.summary())"
      ],
      "execution_count": null,
      "outputs": []
    },
    {
      "cell_type": "markdown",
      "metadata": {
        "id": "nzq2d96DvdVp"
      },
      "source": [
        "####Check VIF of tenth model"
      ]
    },
    {
      "cell_type": "code",
      "metadata": {
        "colab": {
          "base_uri": "https://localhost:8080/",
          "height": 238
        },
        "id": "d0m2ujRXtk_N",
        "outputId": "c4d4899d-4df4-4636-d0d6-6f80461565eb"
      },
      "source": [
        "# Calculate the VIFs again for the new model\n",
        "vif = pd.DataFrame()\n",
        "vif['Features'] = X.columns\n",
        "vif['VIF'] = [variance_inflation_factor(X.values, i) for i in range(X.shape[1])]\n",
        "vif['VIF'] = round(vif['VIF'], 2)\n",
        "vif = vif.sort_values(by = \"VIF\", ascending = False)\n",
        "vif"
      ],
      "execution_count": 6,
      "outputs": [
        {
          "output_type": "error",
          "ename": "NameError",
          "evalue": "ignored",
          "traceback": [
            "\u001b[0;31m---------------------------------------------------------------------------\u001b[0m",
            "\u001b[0;31mNameError\u001b[0m                                 Traceback (most recent call last)",
            "\u001b[0;32m<ipython-input-6-cf1810528305>\u001b[0m in \u001b[0;36m<module>\u001b[0;34m()\u001b[0m\n\u001b[1;32m      1\u001b[0m \u001b[0;31m# Calculate the VIFs again for the new model\u001b[0m\u001b[0;34m\u001b[0m\u001b[0;34m\u001b[0m\u001b[0;34m\u001b[0m\u001b[0m\n\u001b[0;32m----> 2\u001b[0;31m \u001b[0mvif\u001b[0m \u001b[0;34m=\u001b[0m \u001b[0mpd\u001b[0m\u001b[0;34m.\u001b[0m\u001b[0mDataFrame\u001b[0m\u001b[0;34m(\u001b[0m\u001b[0;34m)\u001b[0m\u001b[0;34m\u001b[0m\u001b[0;34m\u001b[0m\u001b[0m\n\u001b[0m\u001b[1;32m      3\u001b[0m \u001b[0mvif\u001b[0m\u001b[0;34m[\u001b[0m\u001b[0;34m'Features'\u001b[0m\u001b[0;34m]\u001b[0m \u001b[0;34m=\u001b[0m \u001b[0mX\u001b[0m\u001b[0;34m.\u001b[0m\u001b[0mcolumns\u001b[0m\u001b[0;34m\u001b[0m\u001b[0;34m\u001b[0m\u001b[0m\n\u001b[1;32m      4\u001b[0m \u001b[0mvif\u001b[0m\u001b[0;34m[\u001b[0m\u001b[0;34m'VIF'\u001b[0m\u001b[0;34m]\u001b[0m \u001b[0;34m=\u001b[0m \u001b[0;34m[\u001b[0m\u001b[0mvariance_inflation_factor\u001b[0m\u001b[0;34m(\u001b[0m\u001b[0mX\u001b[0m\u001b[0;34m.\u001b[0m\u001b[0mvalues\u001b[0m\u001b[0;34m,\u001b[0m \u001b[0mi\u001b[0m\u001b[0;34m)\u001b[0m \u001b[0;32mfor\u001b[0m \u001b[0mi\u001b[0m \u001b[0;32min\u001b[0m \u001b[0mrange\u001b[0m\u001b[0;34m(\u001b[0m\u001b[0mX\u001b[0m\u001b[0;34m.\u001b[0m\u001b[0mshape\u001b[0m\u001b[0;34m[\u001b[0m\u001b[0;36m1\u001b[0m\u001b[0;34m]\u001b[0m\u001b[0;34m)\u001b[0m\u001b[0;34m]\u001b[0m\u001b[0;34m\u001b[0m\u001b[0;34m\u001b[0m\u001b[0m\n\u001b[1;32m      5\u001b[0m \u001b[0mvif\u001b[0m\u001b[0;34m[\u001b[0m\u001b[0;34m'VIF'\u001b[0m\u001b[0;34m]\u001b[0m \u001b[0;34m=\u001b[0m \u001b[0mround\u001b[0m\u001b[0;34m(\u001b[0m\u001b[0mvif\u001b[0m\u001b[0;34m[\u001b[0m\u001b[0;34m'VIF'\u001b[0m\u001b[0;34m]\u001b[0m\u001b[0;34m,\u001b[0m \u001b[0;36m2\u001b[0m\u001b[0;34m)\u001b[0m\u001b[0;34m\u001b[0m\u001b[0;34m\u001b[0m\u001b[0m\n",
            "\u001b[0;31mNameError\u001b[0m: name 'pd' is not defined"
          ]
        }
      ]
    },
    {
      "cell_type": "code",
      "metadata": {
        "id": "W7aTXIVFz73I"
      },
      "source": [
        ""
      ],
      "execution_count": 6,
      "outputs": []
    },
    {
      "cell_type": "code",
      "metadata": {
        "id": "m56jt8umz765"
      },
      "source": [
        ""
      ],
      "execution_count": 6,
      "outputs": []
    },
    {
      "cell_type": "code",
      "metadata": {
        "id": "PxR7O2tlz8AE"
      },
      "source": [
        ""
      ],
      "execution_count": null,
      "outputs": []
    },
    {
      "cell_type": "markdown",
      "metadata": {
        "id": "xmpwQ2wsWYsY"
      },
      "source": [
        "### Dropping the variable and updating the model\n",
        "\n",
        "As you can see from the summary and the VIF dataframe, some variables are still insignificant. One of these variables is, `semi-furnished` as it has a very high p-value of `0.938`. Let's go ahead and drop this variables"
      ]
    }
  ]
}